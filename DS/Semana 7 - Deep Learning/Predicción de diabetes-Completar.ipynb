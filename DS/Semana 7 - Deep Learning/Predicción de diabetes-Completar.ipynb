{
 "cells": [
  {
   "cell_type": "code",
   "execution_count": 1,
   "metadata": {},
   "outputs": [
    {
     "name": "stderr",
     "output_type": "stream",
     "text": [
      "Using TensorFlow backend.\n"
     ]
    }
   ],
   "source": [
    "import pandas as pd\n",
    "import numpy as np\n",
    "import tensorflow as tf\n",
    "from tensorflow.keras.models import Sequential\n",
    "from tensorflow.keras.layers import Dense"
   ]
  },
  {
   "cell_type": "code",
   "execution_count": null,
   "metadata": {},
   "outputs": [],
   "source": [
    "# PIMA INDIANS DATASET\n",
    "\n",
    "# Escribe el código para cargar el archivo. Se llama 'pima-indians-diabetes.csv'\n",
    "diabetes  = \n",
    "\n",
    "# Muestra los primeros renglones de la tabla\n"
   ]
  },
  {
   "cell_type": "code",
   "execution_count": null,
   "metadata": {},
   "outputs": [],
   "source": [
    "# ¿Cuántos renglones y cuántas columnas tiene la tabla?\n",
    "# Imprime el resultado\n",
    "print('renglones:',   )\n",
    "print('columnas:',  )"
   ]
  },
  {
   "cell_type": "code",
   "execution_count": null,
   "metadata": {},
   "outputs": [],
   "source": [
    "# La variable a predecir es si la persona presenta diabetes (es la última columna)\n",
    "# Guarda las primeras columnas en una variable llamada X y la variable a predecir en una variable llamada Y.\n"
   ]
  },
  {
   "cell_type": "code",
   "execution_count": null,
   "metadata": {},
   "outputs": [],
   "source": [
    "# Ahora separa en grupos de entrenamiento y grupos de prueba\n",
    "# Usa la función train_test_split de sklearn\n",
    "from sklearn.model_selection import train_test_split\n",
    "X_train, X_test, y_train, y_test = "
   ]
  },
  {
   "cell_type": "markdown",
   "metadata": {},
   "source": [
    "# Crea un modelo de red neuronal sequencial"
   ]
  },
  {
   "cell_type": "code",
   "execution_count": null,
   "metadata": {},
   "outputs": [],
   "source": []
  },
  {
   "cell_type": "code",
   "execution_count": null,
   "metadata": {},
   "outputs": [],
   "source": [
    "# Crea un modelo secuencial \n",
    "modelo = \n",
    "\n",
    "# Agrega la primera capa. Recuerda que la primera capa necesita saber cuántos atributos de entrada hay.\n",
    "# Usa una función de activación ReLu\n",
    "modelo.add(    )\n",
    "\n",
    "# Agrega más capas al modelo. Puedes poner las capas y neuronas que creas convenientes.\n",
    "modelo.add(Dense(units=32), )\n",
    "\n",
    "# Agrega la capa de salida. Es un problema de clasificación binaria. ¿Cuál es la función de activación correcta?\n",
    "modelo.add(   )"
   ]
  },
  {
   "cell_type": "code",
   "execution_count": null,
   "metadata": {},
   "outputs": [],
   "source": [
    "# Revisa tu modelo. Utiliza la función summary para ver cómo quedó.\n"
   ]
  },
  {
   "cell_type": "code",
   "execution_count": null,
   "metadata": {},
   "outputs": [],
   "source": [
    "# Es hora de compilar el modelo. Hay que decidir el optimizador, la función de costo y las métricas.\n",
    "# Completa la siguiente línea con los parámetros requeridos.\n",
    "\n",
    "# Los optimizadores pueden ser 'adam' o 'sgd'\n",
    "# En métricas utilizamos ['accuracy']\n",
    "# Es un problema de clasificación. ¿Cómo se llama la función de costo para este caso? \n",
    "# Las opciones son ('mse', 'categorical_crossentropy' o 'binary_crossentropy')\n",
    "\n",
    "modelo.compile(loss=   , optimizer=   , metrics=   )"
   ]
  },
  {
   "cell_type": "code",
   "execution_count": null,
   "metadata": {},
   "outputs": [],
   "source": [
    "# Ahora entrena el modelo. Usa el 10 porciento de los datos para ver cómo va mejorando la métrica.\n",
    "# Hay que definir también un tamaño de paso 'batch_size' y las épocas ('epochs')\n",
    "history = modelo.fit(X_train, y_train, epochs=  , batch_size=   , verbose=False, validation_split=   )"
   ]
  },
  {
   "cell_type": "code",
   "execution_count": null,
   "metadata": {},
   "outputs": [],
   "source": [
    "# Vamos a ver cómo quedó el modelo.\n",
    "# Completa los datos que hay que mandar a la función de evaluar\n",
    "costo, precisión  = modelo.evaluate( ,  , verbose=False)\n",
    "\n",
    "## Graficar los resultados\n",
    "import matplotlib.pyplot as plt\n",
    "import seaborn as sns\n",
    "\n",
    "sns.set()\n",
    "plt.figure(figsize=(8,6))\n",
    "plt.plot(history.history['acc'])\n",
    "plt.plot(history.history['val_acc'])\n",
    "plt.title('Precisión del modelo durante entrenamiento')\n",
    "plt.ylabel('Precisión')\n",
    "plt.xlabel('Época')\n",
    "plt.legend(['Entrenamiento', 'Validación'], loc='best')\n",
    "plt.show()\n",
    "\n",
    "print(f'Precisión en datos de prueba: {precisión:.3}')"
   ]
  },
  {
   "cell_type": "markdown",
   "metadata": {},
   "source": [
    "# Predicciones"
   ]
  },
  {
   "cell_type": "code",
   "execution_count": null,
   "metadata": {},
   "outputs": [],
   "source": [
    "# Ahora vamos a utilizar los datos de prueba para ver que tan bueno es el modelo\n",
    "# Usa el método predict para obtener los resultados de los datos X_tes\n",
    "prediccion = modelo.predict(    )\n",
    "\n",
    "# Ahora define un punto de corte para asignar si la persona tiene diabetes o no\n",
    "corte = 0.5\n",
    "\n",
    "prediccion_si_no = np.squeeze(1*(prediccion>corte))"
   ]
  },
  {
   "cell_type": "code",
   "execution_count": null,
   "metadata": {},
   "outputs": [],
   "source": [
    "# Ahora veamos cómo se comparan los valores reales contra los predichos.\n",
    "pd.crosstab(prediccion_si_no, y_test, rownames=['Predicción'], colnames=['Valor Real'])\n",
    "\n",
    "# Qué pasa si cambias el punto de corte? Cambia el valor en la celda anterior y prueba otra vez,"
   ]
  }
 ],
 "metadata": {
  "kernelspec": {
   "display_name": "Python [conda env:tensorflow]",
   "language": "python",
   "name": "conda-env-tensorflow-py"
  },
  "language_info": {
   "codemirror_mode": {
    "name": "ipython",
    "version": 3
   },
   "file_extension": ".py",
   "mimetype": "text/x-python",
   "name": "python",
   "nbconvert_exporter": "python",
   "pygments_lexer": "ipython3",
   "version": "3.7.6"
  },
  "toc": {
   "base_numbering": 1,
   "nav_menu": {},
   "number_sections": true,
   "sideBar": true,
   "skip_h1_title": false,
   "title_cell": "Table of Contents",
   "title_sidebar": "Contents",
   "toc_cell": false,
   "toc_position": {},
   "toc_section_display": true,
   "toc_window_display": false
  },
  "varInspector": {
   "cols": {
    "lenName": 16,
    "lenType": 16,
    "lenVar": 40
   },
   "kernels_config": {
    "python": {
     "delete_cmd_postfix": "",
     "delete_cmd_prefix": "del ",
     "library": "var_list.py",
     "varRefreshCmd": "print(var_dic_list())"
    },
    "r": {
     "delete_cmd_postfix": ") ",
     "delete_cmd_prefix": "rm(",
     "library": "var_list.r",
     "varRefreshCmd": "cat(var_dic_list()) "
    }
   },
   "types_to_exclude": [
    "module",
    "function",
    "builtin_function_or_method",
    "instance",
    "_Feature"
   ],
   "window_display": false
  }
 },
 "nbformat": 4,
 "nbformat_minor": 2
}
