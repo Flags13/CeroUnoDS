{
 "cells": [
  {
   "cell_type": "markdown",
   "metadata": {},
   "source": [
    "<img src=\"images/logo-dl.jpeg\" alt=\"Drawing\" style=\"width: 750px;\"/>\n",
    "\n",
    "[Fuente](https://cdn-images-1.medium.com/max/1018/1*I5O6NX_DIKYI1VBuLfX77Q.jpeg)\n",
    "\n",
    "## Temario\n",
    "### Día 1\n",
    "* Introducción a Deep Learning\n",
    "* ¿Por qué el despegue de D.L?\n",
    "* Repaso de álgebra lineal y de cálculo.\n",
    "* Modelo de perceptrón\n",
    "\n",
    "### Día 2\n",
    "* Caso práctico: predicción de clientes de un banco.\n",
    "* MLP : Arquitectura de una red neuronal básica\n",
    "* Hiperparámetros de una red neuronal.\n",
    "\n",
    "\n",
    "### Día 3 \n",
    "* Red neuronal convolucional.\n",
    "* Hiperparámetros de las redes convolucionales.\n",
    "* Caso práctico: reconocer dígitos escritos a mano.\n",
    "\n",
    "### Día 4\n",
    "* Ejercicio: predicción de casos de diabetes.\n",
    "* Ejercicio: predicción de pérdida de clientes.\n",
    "* Ejercicio: clasificación de imágenes de ropa."
   ]
  },
  {
   "cell_type": "markdown",
   "metadata": {},
   "source": [
    "# Día 1\n",
    "## Introducción"
   ]
  },
  {
   "cell_type": "markdown",
   "metadata": {},
   "source": [
    "¿Qué es más fácil para ustedes?\n",
    "¿Contar cuántas personas hay en una foto, o realizar la operación mostrada?\n",
    "\n",
    "¿Cuál acción es más fácil para una computadora?\n",
    "\n",
    "A | B\n",
    "- | - \n",
    "![¿Cuántas personas hay en la foto?](images/count-people.PNG) | ![¿Cuál es el resultado de la operación](images/add-numbers.PNG)"
   ]
  },
  {
   "cell_type": "markdown",
   "metadata": {},
   "source": [
    "Las redes neuronales son una implementación computacional que buscan replicar el comportamiento de nuestro cerebro para poder reconocer patrones. \n",
    "\n",
    "El cerebro está compuesto por aproximadamente 10 mil millones de neuronas interconectadas entre si. \n",
    "\n",
    "Cada neurona está compuesta por tres partes principales:\n",
    "* El cuerpo de la célula neuronal (soma)\n",
    "* Conexiones de entrada (dendritas)\n",
    "* Conexiones de salida (axones)\n",
    "\n",
    "![neurona](images/neurona.PNG)\n",
    "\n",
    "Las neuronas se comunican entre sí enviándo pulsos electroquímicos que afectan la esctructura de cada célula.\n",
    "\n",
    "Los impulsos electroquímicos que las neuronas reciben en las dendritas pueden ser transmitidos a otras neuronas siempre y cuando el estímulo eléctrico sobrepase cierto umbral. \n",
    "\n",
    "El aprendizaje se da cuando se activan repetidamente ciertas neuronas, favoreciendo ciertas conexiones sobre otras. \n",
    "\n",
    "Aunque este modelo es muy simple para definir el comportamiento actual del cerebro humano, ha permitido que las computadoras puedan realizar tareas pudieran parecer simples como el reconocimiento de imágenes o predicción de eventos basada en la experiencia."
   ]
  },
  {
   "cell_type": "markdown",
   "metadata": {},
   "source": [
    "### Reconocer dígitos\n",
    "\n",
    "Por ejemplo, en la sigiente imagen fácilmente podemos reconocer que el número escrito es 504192.\n",
    "<img src=\"images/504192.png\" alt=\"Drawing\" style=\"width: 400px;\"/>\n",
    "\n",
    "\n",
    "Nosotros nos fijamos en las formas, trazos y direcciones para reconocer los dígitos, pero una computadora sólo sabe intepretar la información como una secuencia de números y no patrones. \n",
    "\n",
    "Entonces, para que una computadora aprenda a distinguir esta secuencia de números, por ejemplo, hay que 'enseñarle' con varios ejemplos cada uno de los números."
   ]
  },
  {
   "cell_type": "markdown",
   "metadata": {},
   "source": [
    "Observa las siguientes imágenes. ¿Crees que sería fácil para una computadora distinguir entre las dos entidades?\n",
    "\n",
    "¿Puedes clasificar correctamente cada imagen?\n",
    "\n",
    "A | B \n",
    "- | - \n",
    "![perros](images/sheepdog-or-mop.jpg) | ![chichuahua](images/dog-or-bagel.jpg) \n",
    "![chichuahua](images/owl-apple.jpg)   | \n",
    "\n",
    "\n",
    "\n"
   ]
  },
  {
   "cell_type": "markdown",
   "metadata": {},
   "source": [
    "### ¿Qué tareas puedo hacer con una red neuronal?\n",
    "\n",
    "Si contamos con suficientes datos, una red neuronal artificial puede ayudarnos a:\n",
    "* Identificar correos no deseados (spam).\n",
    "* Predecir si un cliente puede ser fraudulento o no.\n",
    "* Detectar la opinion de los clientes (positiva, negativa, neutra).\n",
    "* Identificar y reconocer los rostros de las personas.\n",
    "* Identificar objetos.\n",
    "* Reconocer voz (voz a texto).\n",
    "\n",
    "Las redes neuronales son muy prácticas cuando se trata con **datos no estructurados**."
   ]
  },
  {
   "cell_type": "markdown",
   "metadata": {},
   "source": [
    "## Inteligencia Artificial contra el ser humano\n",
    "\n",
    "<img src=\"images/leesedol.PNG\" alt=\"Drawing\" style=\"width: 600px;\"/>\n",
    "\n",
    "[AlphaGo vs Lee Sedol](https://www.youtube.com/watch?v=IiWr6Wazm_0)\n"
   ]
  },
  {
   "cell_type": "markdown",
   "metadata": {},
   "source": [
    "¿Cuántas combinaciones posibles hay para armar el cubo rubik estándar (3x3)?\n",
    "\n",
    "![Rubik's combination count](images/rubiks-combi.PNG)\n",
    "\n",
    "<img src=\"images/rubikai.jpg\" alt=\"Drawing\" style=\"width: 600px;\"/>\n",
    "\n",
    "[Robot arma cubo de rubik en menos de 1 segundo](https://www.youtube.com/watch?v=by1yz7Toick)"
   ]
  },
  {
   "cell_type": "markdown",
   "metadata": {},
   "source": [
    "## ¿Qué es el Deep Learning? ¿Cuál es la diferencia con A.I. y M.L.?\n",
    "\n",
    "\n",
    "<img src=\"images/ai-vs-ml.png\" alt=\"Drawing\" style=\"width: 800px;\"/>\n",
    "\n",
    "[LINK: Diferencias entre AI,ML y DL](https://www.youtube.com/watch?v=KytW151dpqU)"
   ]
  },
  {
   "cell_type": "markdown",
   "metadata": {},
   "source": [
    "Deep learning es un subconjunto de Machine Learning que consiste en redes neuronales artificiales que aprenden de grandes volúmenes de datos, sobre todo datos no estructurados."
   ]
  },
  {
   "cell_type": "markdown",
   "metadata": {},
   "source": [
    "## ¿Por qué ahora?\n",
    "\n",
    "Las redes neuronales se han utilizado desde los años 50's, pero hay 3 factores principales que han influenciado en el crecimiento de las NN y DL.\n",
    "\n",
    "1. Big Data\n",
    "    * Grandes cantidades de información\n",
    "    * Recolección y almacenamiento.\n",
    "   \n",
    "\n",
    "2. Hardware\n",
    "    * Unides gráficas (GPU)\n",
    "    * Paralelización\n",
    "\n",
    "\n",
    "3. Algoritmos\n",
    "    * Mejores técnicas\n",
    "    * Nuevos modelos\n",
    "    * Toolbox y librerías"
   ]
  },
  {
   "cell_type": "markdown",
   "metadata": {},
   "source": [
    "<img align=\"left\" src=\"images/timeline.png\" width = 250>\n",
    "\n",
    "<img align=\"right\" src=\"images/performances_vs_data.png\" alt=\"Drawing\" style=\"width: 600px;\"/>\n",
    "\n"
   ]
  },
  {
   "cell_type": "markdown",
   "metadata": {},
   "source": [
    "Aprendizaje **profundo** se refiere a redes neuronales que tienen varias capas."
   ]
  },
  {
   "cell_type": "markdown",
   "metadata": {},
   "source": [
    "[Todos podemos aprender ML](https://www.youtube.com/watch?v=7ClLKBUvmRk4)"
   ]
  },
  {
   "cell_type": "markdown",
   "metadata": {},
   "source": [
    "Las redes neuronales se han vuelto populares porque son fáciles de utilizar y porque han tenido buenos resultados,sobre todo en casos como reconocimiento de imágenes y de audio.\n",
    "\n",
    "Sin embargo, ¿siempre hay que utilizar redes neuronales en vez de otros algoritmos de machine learning?"
   ]
  },
  {
   "cell_type": "markdown",
   "metadata": {},
   "source": [
    "## Desventajas de las redes neuronales profundas.\n",
    "\n",
    "A pesar de ser muy útiles en el manejo de datos no estrucurados, las redes neuronales no son siempre son la mejor opción para los problemas de predicción. Entre las principales desventajas se encuentran:\n",
    "\n",
    "* Requienen de grandes volúmenes de datos para tener buenos resultados.\n",
    "\n",
    "* Requieren de gran poder de procesamiento (GPUs)\n",
    "\n",
    "* No son modelos interpretables. \n",
    "\n",
    "Otros algoritmos de Machine Learning pueden mejor opción en casos simples con datos estrucurados o donde la interpretación de los modelos sea importante.\n",
    "\n",
    "<img src=\"images/scissors.jpg\" alt=\"Drawing\" style=\"width: 400px;\"/>\n",
    "\n"
   ]
  },
  {
   "cell_type": "markdown",
   "metadata": {},
   "source": [
    "## Perceptrón: la red neuronal más simple.\n",
    "\n",
    "\n",
    "El modelo más simple de red neuronal consiste en tener una sola neurona. Este modelo se llama perceptrón y fue desarrollado por Frank Rosenblatt durante los 50's. Este modelo es una clasificación binaria, puede distinguir entre dos categorías.\n",
    "\n",
    "El perceptrón toma como entrada varias señales (números), las procesa  en cada nodo (operaciones matemáticas) y genera una salida (un número).\n",
    "\n",
    "<img src=\"images/input-outputs.png\" alt=\"Drawing\" style=\"width: 400px;\"/>\n",
    "\n",
    "\n",
    "La neurona procesa las entradas de la siguiente manera:\n",
    "1. Cada entrada es multiplicada por un peso:\n",
    "\n",
    "$$x_1 \\rightarrow x_1 * w_1$$\n",
    "\n",
    "$$x_2 \\rightarrow x_2 * w_2$$\n",
    "\n",
    "2. Después, las entradas modificadas se suman y se agrega un término extra.\n",
    "\n",
    "$$z = (x_1 * w_1) + (x_2 * w_2) + b$$\n",
    "\n",
    "<img src=\"images/Perceptron-Learning-Algorithm_03.gif\" alt=\"Drawing\" style=\"width: 400px;\"/>\n",
    "\n",
    "3. Como el modelo de perceptrón debe distinguir entre dos categorías, debemos contar con una salida binaria (0 o 1). Para ello, la suma se debe pasar a través de una función.\n",
    "\n",
    "$$a = f(z) = f(x_1 * w_1 + x_2 * w_2 + b)$$\n",
    "\n",
    "Si la salida es 0, la neurona está inactiva, si el valor es 1, está completamente activa. \n",
    "\n",
    "La función que utiliza la neurona debe convertir cualquier valor posible al intervalo entre 0 y 1. Esta función se llama **función de activación**.\n",
    "\n",
    "Si el valor resultante de la suma $z$ es positivo, la neurona estará en un estado activo.\n",
    "\n",
    "Si el valor resultante de la suma $z$ es negativo, la neurona estará desactivada.\n",
    "\n",
    "En esencia, el perceptrón comprime un valor entre $-\\infty$ y $\\infty$ a uno de los valores $0$ y $1$"
   ]
  },
  {
   "cell_type": "markdown",
   "metadata": {},
   "source": [
    "## Funciones de activación (i)\n",
    "\n",
    "La función más simple para convertir valores al intervalo 0 y 1 se llama **escalón**. Tal y como su nombre indica, esta función hace un escalón cuando los números son positivos."
   ]
  },
  {
   "cell_type": "code",
   "execution_count": 1,
   "metadata": {},
   "outputs": [],
   "source": [
    "# FUNCIÓN ESCALÓN\n",
    "def step(z):\n",
    "    f = 1*(z>=0)\n",
    "    return f"
   ]
  },
  {
   "cell_type": "code",
   "execution_count": 2,
   "metadata": {},
   "outputs": [
    {
     "data": {
      "image/png": "[encoded data removed]",
      "text/plain": [
       "<Figure size 576x360 with 1 Axes>"
      ]
     },
     "metadata": {},
     "output_type": "display_data"
    }
   ],
   "source": [
    "import numpy as np\n",
    "import matplotlib.pyplot as plt\n",
    "import seaborn as sns\n",
    "sns.set()\n",
    "\n",
    "x = np.arange(-10,10,0.1)\n",
    "y = step(x)\n",
    "\n",
    "plt.figure(figsize=(8,5))\n",
    "plt.plot(x,y)\n",
    "plt.xlabel('x')\n",
    "plt.ylabel('y')\n",
    "plt.ylim(-0.5,1.5)\n",
    "plt.title('Función escalón', size=14)\n",
    "plt.show()"
   ]
  },
  {
   "cell_type": "markdown",
   "metadata": {},
   "source": [
    "Esta función lo que hace es mapear cualquier número positivo como *1* y cualquier número negativo como *0*."
   ]
  },
  {
   "cell_type": "markdown",
   "metadata": {},
   "source": [
    "**Ejemplo:** Calcula el valor de $z$ para los siguientes valores"
   ]
  },
  {
   "cell_type": "markdown",
   "metadata": {},
   "source": [
    "$w_1 = 3$   , $x_1 = 3$    \n",
    "$w_2 = -1$  , $x_2 = 2$    \n",
    "$b = -2$"
   ]
  },
  {
   "cell_type": "code",
   "execution_count": 3,
   "metadata": {},
   "outputs": [
    {
     "name": "stdout",
     "output_type": "stream",
     "text": [
      "5\n"
     ]
    }
   ],
   "source": [
    "# Haz las operaciones aquí.\n",
    "w1 = 3\n",
    "w2 = -1\n",
    "x1 = 3\n",
    "x2 = 2\n",
    "b = -2\n",
    "z = w1*x1 + w2*x2 + b\n",
    "print(z)"
   ]
  },
  {
   "cell_type": "code",
   "execution_count": 4,
   "metadata": {},
   "outputs": [
    {
     "name": "stdout",
     "output_type": "stream",
     "text": [
      "1\n"
     ]
    }
   ],
   "source": [
    "# Calcula el resultado al pasar z a través de la función de activación.\n",
    "a = step(z)\n",
    "print(a)"
   ]
  },
  {
   "cell_type": "markdown",
   "metadata": {},
   "source": [
    "Resultado analítico\n",
    "\n",
    "$f(z) = f(x_1 * w_1 + x_2 * x_2 + b) = f(5)$\n",
    "\n",
    "$f(z) = 1$"
   ]
  },
  {
   "cell_type": "markdown",
   "metadata": {},
   "source": [
    "## Repaso de algebra lineal y cálculo\n",
    "\n",
    "### Definiciones\n",
    "\n",
    "Para calcular $z$ tenemos que calcular la multiplicación de cada una de las variables de entrada por su respectivo peso. \n",
    "\n",
    "Estas operaciones se pueden simplificar si utilizamos la notación de matrices y vectores."
   ]
  },
  {
   "cell_type": "markdown",
   "metadata": {},
   "source": [
    "### Matrices y vectores: conceptos\n",
    "* Un escalar es un número, por ejemplo:   5\n",
    "\n",
    "\n",
    "* Un vector es un arreglo de **1 dimensión** de $n$ elementos. Por ejemplo, un vector de $n=4$ elementos: \n",
    "    \n",
    "    $\\begin{bmatrix} 1&2&3&4 \\end{bmatrix}$ \n",
    "    \n",
    "    Este es un vector fila (horizontal).\n",
    "    \n",
    "\n",
    "* Un vector columna es vertical:\n",
    "    \n",
    "    $\\begin{bmatrix} 5 \\\\ 6 \\\\ 7 \\\\ 8 \\end{bmatrix}$\n",
    "\n",
    "\n",
    "* Una matriz es un arreglo de **2 dimensiones** de $m$ filas por $n$ columnas. Por ejemplo:\n",
    "    \n",
    "    $\\begin{bmatrix} 1&2&3 \\\\ 4&5&6 \\\\ 7&8&9 \\end{bmatrix}$"
   ]
  },
  {
   "cell_type": "markdown",
   "metadata": {},
   "source": [
    "### Ejercicio\n",
    "\n",
    "Podemos expresar los vectores en Python como arreglo de Numpy.\n",
    "\n",
    "(a) $\\begin{bmatrix} 1&2&3&4 \\end{bmatrix}$"
   ]
  },
  {
   "cell_type": "code",
   "execution_count": 5,
   "metadata": {},
   "outputs": [
    {
     "name": "stdout",
     "output_type": "stream",
     "text": [
      "a= [1 2 3 4]\n"
     ]
    }
   ],
   "source": [
    "a = np.array([1,2,3,4])\n",
    "print('a=',a)"
   ]
  },
  {
   "cell_type": "markdown",
   "metadata": {},
   "source": [
    "Escribe el código para generar los vectores b y c\n",
    "\n",
    "(b) $\\begin{bmatrix} 9&10&11 \\end{bmatrix}$\n",
    "\n",
    "\n",
    "(c) $\\begin{bmatrix} 2 & 4 & 6 & 8 \\end{bmatrix}$\n"
   ]
  },
  {
   "cell_type": "code",
   "execution_count": 6,
   "metadata": {},
   "outputs": [
    {
     "name": "stdout",
     "output_type": "stream",
     "text": [
      "b= [ 9 10 11]\n",
      "c= [2 4 6 8]\n"
     ]
    }
   ],
   "source": [
    "# Escribe aquí el código para generar los vectores b y c\n",
    "b = np.array([9,10,11])\n",
    "c = np.array([2,4,6,8])\n",
    "\n",
    "print('b=',b)\n",
    "print('c=',c)"
   ]
  },
  {
   "cell_type": "markdown",
   "metadata": {},
   "source": [
    "Numpy también tiene una estructura para guardar matrices. Las matrices se contruyen renglón por renglón.\n",
    "\n",
    "(d) $\\begin{bmatrix} 1&2&3&4 \\\\ 5&6&7&8 \\\\ 9&10&11&12 \\end{bmatrix}$"
   ]
  },
  {
   "cell_type": "code",
   "execution_count": 7,
   "metadata": {},
   "outputs": [
    {
     "name": "stdout",
     "output_type": "stream",
     "text": [
      "d= [[ 1  2  3  4]\n",
      " [ 5  6  7  8]\n",
      " [ 9 10 11 12]]\n"
     ]
    }
   ],
   "source": [
    "d = np.array([[1,2,3,4],[5,6,7,8],[9,10,11,12]])\n",
    "print('d=', d)"
   ]
  },
  {
   "cell_type": "markdown",
   "metadata": {},
   "source": [
    "Escribe el código para generar los siguientes vectores y matrices.\n",
    "\n",
    "(e) $\\begin{bmatrix} 1 & 3 & 5 & 7 \\end{bmatrix}$\n",
    "\n",
    "(f) $\\begin{bmatrix} 1&0&0&1\\end{bmatrix}$\n",
    "\n",
    "(g) $\\begin{bmatrix} 20&18\\\\ 16&14\\\\ 12&10 \\\\ 8&6 \\end{bmatrix}$\n",
    "\n",
    "(h) $\\begin{bmatrix} 1&0&1&0 \\\\ 0&1&0&1 \\\\ 1&0&1&0 \\end{bmatrix}$"
   ]
  },
  {
   "cell_type": "code",
   "execution_count": 8,
   "metadata": {},
   "outputs": [],
   "source": [
    "e = np.array([1,3,5,7])\n",
    "f = np.array([1,0,0,1])\n",
    "g = np.array([[20,18],[16,14],[12,10],[8,6]])\n",
    "h = np.array([[1,0,1,0],[0,1,0,1],[1,0,1,0]])"
   ]
  },
  {
   "cell_type": "markdown",
   "metadata": {},
   "source": [
    "Las matrices y los vectores se pueden sumar y restar siempre que **tengan las mismas dimensiones**. La suma y la resta se realiza elemento a elemento.\n",
    "\n",
    "¿Cuáles son las dimensiones de una matriz?"
   ]
  },
  {
   "cell_type": "markdown",
   "metadata": {},
   "source": [
    "¿Cuáles operaciones se pueden realizar? Si es posible realizar la operación , ¿cuál es el resultado?\n",
    "\n",
    "1. (a) + (b)\n",
    "2. (b) + (f)\n",
    "3. (c) - (e)\n",
    "4. (d) + (g)\n",
    "5. (d) - (h)\n",
    "6. (e) + (f)\n"
   ]
  },
  {
   "cell_type": "code",
   "execution_count": 11,
   "metadata": {},
   "outputs": [
    {
     "ename": "ValueError",
     "evalue": "operands could not be broadcast together with shapes (4,) (3,) ",
     "output_type": "error",
     "traceback": [
      "\u001b[1;31m---------------------------------------------------------------------------\u001b[0m",
      "\u001b[1;31mValueError\u001b[0m                                Traceback (most recent call last)",
      "\u001b[1;32m<ipython-input-11-ca730b97bf8a>\u001b[0m in \u001b[0;36m<module>\u001b[1;34m\u001b[0m\n\u001b[1;32m----> 1\u001b[1;33m \u001b[0ma\u001b[0m\u001b[1;33m+\u001b[0m\u001b[0mb\u001b[0m\u001b[1;33m\u001b[0m\u001b[1;33m\u001b[0m\u001b[0m\n\u001b[0m",
      "\u001b[1;31mValueError\u001b[0m: operands could not be broadcast together with shapes (4,) (3,) "
     ]
    }
   ],
   "source": [
    "a+b"
   ]
  },
  {
   "cell_type": "code",
   "execution_count": 12,
   "metadata": {},
   "outputs": [
    {
     "ename": "ValueError",
     "evalue": "operands could not be broadcast together with shapes (3,) (4,) ",
     "output_type": "error",
     "traceback": [
      "\u001b[1;31m---------------------------------------------------------------------------\u001b[0m",
      "\u001b[1;31mValueError\u001b[0m                                Traceback (most recent call last)",
      "\u001b[1;32m<ipython-input-12-59c004a2a407>\u001b[0m in \u001b[0;36m<module>\u001b[1;34m\u001b[0m\n\u001b[1;32m----> 1\u001b[1;33m \u001b[0mb\u001b[0m\u001b[1;33m+\u001b[0m\u001b[0mf\u001b[0m\u001b[1;33m\u001b[0m\u001b[1;33m\u001b[0m\u001b[0m\n\u001b[0m",
      "\u001b[1;31mValueError\u001b[0m: operands could not be broadcast together with shapes (3,) (4,) "
     ]
    }
   ],
   "source": [
    "b+f"
   ]
  },
  {
   "cell_type": "code",
   "execution_count": 13,
   "metadata": {},
   "outputs": [
    {
     "data": {
      "text/plain": [
       "array([1, 1, 1, 1])"
      ]
     },
     "execution_count": 13,
     "metadata": {},
     "output_type": "execute_result"
    }
   ],
   "source": [
    "c-e"
   ]
  },
  {
   "cell_type": "code",
   "execution_count": 14,
   "metadata": {},
   "outputs": [
    {
     "ename": "ValueError",
     "evalue": "operands could not be broadcast together with shapes (3,4) (4,2) ",
     "output_type": "error",
     "traceback": [
      "\u001b[1;31m---------------------------------------------------------------------------\u001b[0m",
      "\u001b[1;31mValueError\u001b[0m                                Traceback (most recent call last)",
      "\u001b[1;32m<ipython-input-14-5453a8125da9>\u001b[0m in \u001b[0;36m<module>\u001b[1;34m\u001b[0m\n\u001b[1;32m----> 1\u001b[1;33m \u001b[0md\u001b[0m\u001b[1;33m+\u001b[0m\u001b[0mg\u001b[0m\u001b[1;33m\u001b[0m\u001b[1;33m\u001b[0m\u001b[0m\n\u001b[0m",
      "\u001b[1;31mValueError\u001b[0m: operands could not be broadcast together with shapes (3,4) (4,2) "
     ]
    }
   ],
   "source": [
    "d+g"
   ]
  },
  {
   "cell_type": "code",
   "execution_count": 15,
   "metadata": {},
   "outputs": [
    {
     "ename": "ValueError",
     "evalue": "operands could not be broadcast together with shapes (3,4) (3,) ",
     "output_type": "error",
     "traceback": [
      "\u001b[1;31m---------------------------------------------------------------------------\u001b[0m",
      "\u001b[1;31mValueError\u001b[0m                                Traceback (most recent call last)",
      "\u001b[1;32m<ipython-input-15-305110d685fa>\u001b[0m in \u001b[0;36m<module>\u001b[1;34m\u001b[0m\n\u001b[1;32m----> 1\u001b[1;33m \u001b[0md\u001b[0m\u001b[1;33m-\u001b[0m\u001b[0mh\u001b[0m\u001b[1;33m\u001b[0m\u001b[1;33m\u001b[0m\u001b[0m\n\u001b[0m",
      "\u001b[1;31mValueError\u001b[0m: operands could not be broadcast together with shapes (3,4) (3,) "
     ]
    }
   ],
   "source": [
    "d-h"
   ]
  },
  {
   "cell_type": "code",
   "execution_count": 16,
   "metadata": {},
   "outputs": [
    {
     "data": {
      "text/plain": [
       "array([2, 3, 5, 8])"
      ]
     },
     "execution_count": 16,
     "metadata": {},
     "output_type": "execute_result"
    }
   ],
   "source": [
    "e+f"
   ]
  },
  {
   "cell_type": "markdown",
   "metadata": {},
   "source": [
    "### Transpuesta\n",
    "Hay una operación para voltear las dimensiones de un vector o una matriz, es decir, cambiar las filas por las columnas o viceversa. Esta operación se llama **transpuesta** de un vector o una matriz.\n",
    "\n",
    "Ejemplo:\n",
    "\n",
    "$ (d)^T = \\begin{bmatrix} 1&2&3&4 \\\\ 5&6&7&8 \\\\ 9&10&11&12 \\end{bmatrix}^T = \\begin{bmatrix} 1&5&9 \\\\ 2&6&10 \\\\ 3&7&11 \\\\ 4&8&12 \\end{bmatrix}$\n",
    "\n",
    "En Python, la transpuesta la podemos calcular con np.transpose()"
   ]
  },
  {
   "cell_type": "code",
   "execution_count": 17,
   "metadata": {},
   "outputs": [
    {
     "name": "stdout",
     "output_type": "stream",
     "text": [
      "[[ 1  5  9]\n",
      " [ 2  6 10]\n",
      " [ 3  7 11]\n",
      " [ 4  8 12]]\n"
     ]
    }
   ],
   "source": [
    "d = np.array([[1,2,3,4],[5,6,7,8],[9,10,11,12]])\n",
    "d_trans = np.transpose(d)\n",
    "\n",
    "# Otra manera es con .t\n",
    "d_trans = d.T\n",
    "print(d_trans)"
   ]
  },
  {
   "cell_type": "markdown",
   "metadata": {},
   "source": [
    "De las operaciones anteriores, ¿cuáles si se podrían realizar si se transpone uno de los elementos de la operación?\n",
    "\n",
    "1. (a) + (b)\n",
    "2. (a) - (e)\n",
    "3. (a) + (f)\n",
    "4. (b) + (f)\n",
    "5. (c) - (e)"
   ]
  },
  {
   "cell_type": "markdown",
   "metadata": {},
   "source": [
    "### Multiplicación de vectores y matrices"
   ]
  },
  {
   "cell_type": "markdown",
   "metadata": {},
   "source": [
    "Los vectores y matrices no se multiplican como los números (escalares). Dos vectores se pueden multiplicar siempre y cuando tengan el mismo número de elementos. La esta multiplicación se llama **producto punto** o **producto escalar**.\n",
    "\n",
    "Ejemplo:\n",
    "\n",
    "\n",
    "(a)$\\cdot$(f) = $\\begin{bmatrix} 1&2&3&4 \\end{bmatrix} \\cdot \\begin{bmatrix} 1&0&0&1\\end{bmatrix}$\n",
    "\n",
    "\n",
    "(a)$\\cdot$(f) = $ 1\\times 1 + 2\\times 0 +  3\\times 0 + 4\\times 1$\n",
    "\n",
    "\n",
    "(a)$\\cdot$(f) = $ 1 + 0 + 0 + 4 = 5$\n",
    "\n",
    "El resultado del producto punto siempre es un escalar."
   ]
  },
  {
   "cell_type": "markdown",
   "metadata": {},
   "source": [
    "Para multiplicar vectores con producto punto utilizamos `np.dot`."
   ]
  },
  {
   "cell_type": "code",
   "execution_count": 18,
   "metadata": {},
   "outputs": [
    {
     "name": "stdout",
     "output_type": "stream",
     "text": [
      "a= [1 2 3 4]\n",
      "f= [1 0 0 1]\n",
      "El producto punto de a y f es: 5\n"
     ]
    }
   ],
   "source": [
    "a = np.array([1,2,3,4])\n",
    "f = np.array([1,0,0,1])\n",
    "\n",
    "print('a=',a)\n",
    "print('f=',f)\n",
    "print('El producto punto de a y f es:', np.dot(a,f))"
   ]
  },
  {
   "cell_type": "markdown",
   "metadata": {},
   "source": [
    "Para python, los vectores no son ni filas ni columnas. Para poder decirle a python que queremos tratar a los vectores como filas y columnas, hay que tratarlos como matrices de $m \\times 1$ o $1\\times n$, respectivamente."
   ]
  },
  {
   "cell_type": "code",
   "execution_count": 19,
   "metadata": {},
   "outputs": [
    {
     "name": "stdout",
     "output_type": "stream",
     "text": [
      "a es un vector fila:\n",
      " [[1 2 3 4]] \n",
      "\n",
      "c es un vector columna:\n",
      " [[2]\n",
      " [4]\n",
      " [6]\n",
      " [8]]\n"
     ]
    }
   ],
   "source": [
    "a = np.array([[1,2,3,4]])\n",
    "c = np.array([[2],[4],[6],[8]])\n",
    "\n",
    "print('a es un vector fila:\\n', a, '\\n')\n",
    "print('c es un vector columna:\\n', c)"
   ]
  },
  {
   "cell_type": "code",
   "execution_count": 20,
   "metadata": {},
   "outputs": [
    {
     "name": "stdout",
     "output_type": "stream",
     "text": [
      "(1, 4)\n",
      "(4, 1)\n"
     ]
    }
   ],
   "source": [
    "print(a.shape)\n",
    "print(c.shape)"
   ]
  },
  {
   "cell_type": "markdown",
   "metadata": {},
   "source": [
    "Para multiplicar matrices hay que hacer unas cuantas operaciones más. Para poder hacer una multiplicación con matrices, el número de columnas del primer elemento debe ser igual al número de filas del segundo elemento.\n",
    "\n",
    "Ejemplo:\n",
    "\n",
    "$\\begin{bmatrix} 1&2&3&4 \\\\ 5&6&7&8 \\\\ 9&10&11&12 \\end{bmatrix} \\times \\begin{bmatrix} 1 \\\\ 0 \\\\ 1 \\\\ 0\\end{bmatrix}$ \n",
    "\n",
    "La primer matriz tiene **3** renglones y **4** columnas, y el segundo vector tiene **4** renglones y **1** columna. Como el número de columnas del primer elemento coincide con el número de renglones en el segundo elemento, la multiplicación se puede hacer.\n",
    "\n",
    "La multiplicación de matrices es hacer un **producto punto** de cada renglón del primer elemento con cada columna del segundo elemento.\n",
    "\n",
    "$\\begin{bmatrix} 1&2&3&4 \\\\ 5&6&7&8 \\\\ 9&10&11&12 \\end{bmatrix} \\times \\begin{bmatrix} 1 \\\\ 0 \\\\ 0 \\\\ 1\\end{bmatrix} = \n",
    "    \\begin{bmatrix} [1\\quad2\\quad3\\quad4] \\cdot [1\\quad0\\quad0\\quad1] \\\\ [5\\quad6\\quad7\\quad8] \\cdot [1\\quad0\\quad1\\quad1] \\\\ [9\\quad10\\quad11\\quad12] \\cdot [1\\quad0\\quad0\\quad1] \\end{bmatrix} \n",
    "$ \n",
    "\n",
    "$\\begin{bmatrix} 1&2&3&4 \\\\ 5&6&7&8 \\\\ 9&10&11&12 \\end{bmatrix} \\times \\begin{bmatrix} 1 \\\\ 0 \\\\ 0 \\\\ 1\\end{bmatrix} = \n",
    "    \\begin{bmatrix} \n",
    "    1\\times 1+2\\times 0+3\\times 0+ 4\\times 1\\\\\n",
    "    5\\times 1+ 6\\times 0+ 7\\times 0+ 8\\times 1\\\\\n",
    "    9\\times 1+ 10\\times 0+ 11\\times 0+ 12\\times 1\\\\   \n",
    "    \\end{bmatrix} = \\begin{bmatrix} 5\\\\ 13\\\\ 21\n",
    "    \\end{bmatrix}$\n",
    "\n",
    "\n",
    "El resultado de la multiplicación tiene el mismo número de filas que el primer elemento y el mismo número de columnas que el segundo elemento."
   ]
  },
  {
   "cell_type": "markdown",
   "metadata": {},
   "source": [
    "En python, para multiplicar matrices utilizamos el comando `np.matmul` o con `np.dot`, siempre y cuando las dimensiones de los parámetros sean las correctas"
   ]
  },
  {
   "cell_type": "code",
   "execution_count": 21,
   "metadata": {},
   "outputs": [
    {
     "name": "stdout",
     "output_type": "stream",
     "text": [
      "[[ 1  2  3  4]\n",
      " [ 5  6  7  8]\n",
      " [ 9 10 11 12]]\n",
      "[1 0 0 1]\n"
     ]
    }
   ],
   "source": [
    "print(d)\n",
    "print(f)"
   ]
  },
  {
   "cell_type": "code",
   "execution_count": 22,
   "metadata": {},
   "outputs": [
    {
     "data": {
      "text/plain": [
       "array([ 5, 13, 21])"
      ]
     },
     "execution_count": 22,
     "metadata": {},
     "output_type": "execute_result"
    }
   ],
   "source": [
    "# Ejemplo, d x f\n",
    "np.matmul(d,f)"
   ]
  },
  {
   "cell_type": "code",
   "execution_count": 30,
   "metadata": {},
   "outputs": [
    {
     "data": {
      "text/plain": [
       "array([ 6, 10,  6])"
      ]
     },
     "execution_count": 30,
     "metadata": {},
     "output_type": "execute_result"
    }
   ],
   "source": [
    "# Calcula h x e\n",
    "np.dot(h,e)"
   ]
  },
  {
   "cell_type": "markdown",
   "metadata": {},
   "source": [
    "## Repaso de Cálculo\n",
    "\n",
    "Para poder realizar el aprendizaje, los perceptrones y las redes neuronales necesitan encontrar los valores óptimos de los pesos. Son los pesos ($w$) los que determinan si la predicción es correcta o no. Para ello, recurrimos a una herramienta de las matemáticas: la optimización.\n",
    "\n",
    "Supongamos que tenemos una relación entre la variable $x$ y la variable $y$\n",
    "\n",
    "$y = x^2 + 2x -5$\n",
    "\n",
    "Queremos encontrar el valor de $x$ de tal manera que el valor de $y$ sea al más chico posible. La derivada de la función $y$ indica la **dirección** hacia donde hay más incremento, entonces, si multiplicamos la derivada por $-1$ nos indica la dirección hacia donde hay más decremento.\n",
    "\n",
    "$\\frac{dy}{dx} = 2x + 2$ (Dirección de incremento)\n",
    "\n",
    "$-\\frac{dy}{dx} = -2x - 2$ (Dirección de decremento)\n",
    "\n",
    "Los algoritmos de optimización utilizan la información de las derivadas disminuir el valor del error. Como se busca que el error sea lo más chico posible, utilizamos la dirección de decremento.\n",
    "\n",
    "<img src=\"images/minimum-point-derivative-sign-change.png\" alt=\"Drawing\" style=\"width: 600px;\"/>\n",
    "\n",
    "\n",
    "\n",
    "El algoritmo básico para optimización se llama **Gradiente descendiente** (gradient descent)\n",
    "\n",
    "$ \\theta = \\theta - \\alpha \\text{ } d\\theta$\n",
    "\n",
    "Este algoritmo cambia el tamaño de los pesos usando la dirección donde se produce una disminución del error.\n",
    "\n",
    "Al valor $\\alpha$ se le conoce como **tasa de aprendizaje (learning rate)**. Este valor normalmente es un número pequeño"
   ]
  },
  {
   "cell_type": "markdown",
   "metadata": {},
   "source": [
    "## Algoritmo de gradiente descendiente:\n",
    "1. Seleccionamos un punto inicial $x_0$ aleatoriamente.\n",
    "\n",
    "\n",
    "2. Calculamos el valor de la función en ese punto inicial $f(x_0)$.\n",
    "\n",
    "\n",
    "3. Calcular la derivada en ese punto $df(x_0)/dx$.\n",
    "\n",
    "\n",
    "4. Calcular $ x_i = x_{i-1} - \\alpha \\cdot df(x_0)/dx$\n",
    "\n",
    "\n",
    "5. Repetir los pasos 2-4 hasta que el valor $x_i$ no varie o hasta que hayan transcurrido n iteraciones.\n"
   ]
  },
  {
   "cell_type": "markdown",
   "metadata": {},
   "source": [
    "Ejercicio 2: De la función $x^2 + 2x -5$, encuentra x tal que el valor de la función sea mínima."
   ]
  },
  {
   "cell_type": "code",
   "execution_count": 32,
   "metadata": {},
   "outputs": [
    {
     "data": {
      "text/plain": [
       "<matplotlib.collections.PathCollection at 0x17a81d7d1c8>"
      ]
     },
     "execution_count": 32,
     "metadata": {},
     "output_type": "execute_result"
    },
    {
     "data": {
      "image/png": "[encoded data removed]",
      "text/plain": [
       "<Figure size 432x288 with 1 Axes>"
      ]
     },
     "metadata": {},
     "output_type": "display_data"
    }
   ],
   "source": [
    "# Ejemplo.\n",
    "def funcion(x):\n",
    "    return np.power(x,2) +2*x - 5\n",
    "\n",
    "x = np.arange(-10,10,0.1)\n",
    "\n",
    "plt.plot(x, funcion(x))\n",
    "plt.scatter(5, funcion(5), color='green')\n",
    "plt.scatter(-1, funcion(-1), color='red')"
   ]
  },
  {
   "cell_type": "code",
   "execution_count": 37,
   "metadata": {},
   "outputs": [
    {
     "name": "stdout",
     "output_type": "stream",
     "text": [
      "-0.9999999899021961\n"
     ]
    }
   ],
   "source": [
    "# Programa aquí el algoritmo de gradiente descendiente.\n",
    "def funcion(x):\n",
    "    return np.power(x,2) +2*x - 5\n",
    "\n",
    "def derivada(x):\n",
    "    return 2*x + 2\n",
    "\n",
    "\n",
    "x     = 5\n",
    "alpha = 0.01\n",
    "\n",
    "for k in range(1000):\n",
    "    f  = funcion(x)\n",
    "    fp = derivada(x)\n",
    "    x = x - alpha*fp\n",
    "\n",
    "print(x)"
   ]
  },
  {
   "cell_type": "markdown",
   "metadata": {},
   "source": [
    "## Perceptrón: programar una neurona paso a paso\n",
    "\n",
    "Volviendo al perceptron, podemos expresar las variables $x$ y los pesos $w$ como vectores. Lo más común es que los vectores sean representados como columnas. Entonces para hacer la multiplicación de los vectores es necesario calcular la transpuesta de uno de ellos.\n",
    "\n",
    "Volviendo al ejemplo anterior:\n",
    "\n",
    "$$w_1 = 3$$\n",
    "\n",
    "$$w_2 = -1$$\n",
    "\n",
    "$$x_1 = 3$$\n",
    "\n",
    "$$x_2 = 2$$\n",
    "\n",
    "$$b = -2$$\n",
    "\n",
    "Podemos escribir las operaciones como:\n",
    "\n",
    "$$x= \\begin{bmatrix} 3\\\\ 2\\end{bmatrix}$$\n",
    "\n",
    "$$w= \\begin{bmatrix} 2 \\\\ -1\\end{bmatrix}$$\n",
    "\n",
    "$$b=-2$$\n",
    "\n",
    "La trasformación que hace el perceptrón la podemos escribir como:\n",
    "\n",
    "$$y = f(z) = f(x \\cdot w +b)$$\n"
   ]
  },
  {
   "cell_type": "markdown",
   "metadata": {},
   "source": [
    "## Función de activación (ii)\n",
    "\n",
    "La función escalón tiene dos desventajas: no es una función continua y en las regiones donde sí lo es la derivada es 0. Esto es un impedimento puesto que para que la neurona pueda aprender necesita la información codificada en la derivada. Por ello, es conveniente utilizar una función que se asemeje a la función escalor pero que sea continua. Esta función existe y se le conoce como sigmoide o función logística.\n",
    "\n",
    "$$g(z) = \\frac{1}{1+e^{-z}}$$"
   ]
  },
  {
   "cell_type": "code",
   "execution_count": 41,
   "metadata": {},
   "outputs": [],
   "source": [
    "# FUNCIÓN SIGMOIDE\n",
    "def sigmoid(z):\n",
    "    # COMPLETA EL CÓDIGO AQUI\n",
    "    z = 1 / (1 + np.exp(-z))\n",
    "    return z"
   ]
  },
  {
   "cell_type": "code",
   "execution_count": 42,
   "metadata": {},
   "outputs": [
    {
     "data": {
      "image/png": "[encoded data removed]",
      "text/plain": [
       "<Figure size 576x432 with 1 Axes>"
      ]
     },
     "metadata": {},
     "output_type": "display_data"
    }
   ],
   "source": [
    "x = np.arange(-10,10,0.1)\n",
    "y = sigmoid(x)\n",
    "\n",
    "plt.figure(figsize=(8,6))\n",
    "plt.plot(x,y)\n",
    "plt.xlabel('x')\n",
    "plt.ylabel('y')\n",
    "plt.ylim(-0.5,1.5)\n",
    "plt.title('Función sigmoide', size=14)\n",
    "plt.show()"
   ]
  },
  {
   "cell_type": "markdown",
   "metadata": {},
   "source": [
    "## Ejercicio\n",
    "Crear una función `neurona` que haga el cálculo de una neurona con la función sigmoide como función de activación. La función debe recibir como parámetros vectores ``x, w`` y un escalar `b`, y debe regresar un valor `y` entre 0 y 1.\n",
    "\n",
    "\n",
    "<img src=\"images/perceptron02.gif\" alt=\"Drawing\" style=\"width: 400px;\"/>\n"
   ]
  },
  {
   "cell_type": "code",
   "execution_count": 44,
   "metadata": {},
   "outputs": [
    {
     "name": "stdout",
     "output_type": "stream",
     "text": [
      "w= [ 3 -1]\n",
      "x= [3 2]\n",
      "b= -2\n"
     ]
    }
   ],
   "source": [
    "w = np.array([3,-1])\n",
    "x = np.array([3,2])\n",
    "b = -2\n",
    "\n",
    "print('w=', w)\n",
    "print('x=', x)\n",
    "print('b=',b)"
   ]
  },
  {
   "cell_type": "code",
   "execution_count": 90,
   "metadata": {},
   "outputs": [],
   "source": [
    "def neurona(x,w,b):\n",
    "    z = np.dot(x,w) + b\n",
    "    a = sigmoid(z)\n",
    "    return a"
   ]
  },
  {
   "cell_type": "code",
   "execution_count": 73,
   "metadata": {},
   "outputs": [
    {
     "data": {
      "text/plain": [
       "0.9933071490757153"
      ]
     },
     "execution_count": 73,
     "metadata": {},
     "output_type": "execute_result"
    }
   ],
   "source": [
    "neurona(x,w,b)"
   ]
  },
  {
   "cell_type": "markdown",
   "metadata": {},
   "source": [
    "Utilizando la función sigmoide, el perceptrón de Rosenblatt se parece a otro método de Machine Learning. ¿Cuál es?"
   ]
  },
  {
   "cell_type": "markdown",
   "metadata": {},
   "source": [
    "## Modelo perceptrón como regresión logística.\n",
    "\n",
    "Siendo idéntico a la regresión logística, el perceptrón funciona como un **clasificador binario**, es decir, dados varios datos de entrada, el perceptrón genera una probabilidad de que los dato pertenezcan a una categoría.\n",
    "\n",
    "El resultado de una regresión logística es un número entre 0 y 1. Para tomar la decisión de a qué categoría pertenece el resultado, hay que tomar un punto de referencia. Normalmente, los valores mayores o iguales a 0.5 se clasifican como 1 y en el caso contrario como 0.\n",
    "\n",
    "Observemos el conjunto de datos `Default`, el cual contiene registros de clientes de créditos. La columna `default` muestra si dejaron de pagar (True) o si terminaron de pagar (False)."
   ]
  },
  {
   "cell_type": "code",
   "execution_count": 47,
   "metadata": {},
   "outputs": [
    {
     "data": {
      "text/html": [
       "<div>\n",
       "<style scoped>\n",
       "    .dataframe tbody tr th:only-of-type {\n",
       "        vertical-align: middle;\n",
       "    }\n",
       "\n",
       "    .dataframe tbody tr th {\n",
       "        vertical-align: top;\n",
       "    }\n",
       "\n",
       "    .dataframe thead th {\n",
       "        text-align: right;\n",
       "    }\n",
       "</style>\n",
       "<table border=\"1\" class=\"dataframe\">\n",
       "  <thead>\n",
       "    <tr style=\"text-align: right;\">\n",
       "      <th></th>\n",
       "      <th>default</th>\n",
       "      <th>student</th>\n",
       "      <th>balance</th>\n",
       "      <th>income</th>\n",
       "    </tr>\n",
       "  </thead>\n",
       "  <tbody>\n",
       "    <tr>\n",
       "      <th>0</th>\n",
       "      <td>No</td>\n",
       "      <td>No</td>\n",
       "      <td>729.526495</td>\n",
       "      <td>44361.625074</td>\n",
       "    </tr>\n",
       "    <tr>\n",
       "      <th>1</th>\n",
       "      <td>No</td>\n",
       "      <td>Yes</td>\n",
       "      <td>817.180407</td>\n",
       "      <td>12106.134700</td>\n",
       "    </tr>\n",
       "    <tr>\n",
       "      <th>2</th>\n",
       "      <td>No</td>\n",
       "      <td>No</td>\n",
       "      <td>1073.549164</td>\n",
       "      <td>31767.138947</td>\n",
       "    </tr>\n",
       "    <tr>\n",
       "      <th>3</th>\n",
       "      <td>No</td>\n",
       "      <td>No</td>\n",
       "      <td>529.250605</td>\n",
       "      <td>35704.493935</td>\n",
       "    </tr>\n",
       "    <tr>\n",
       "      <th>4</th>\n",
       "      <td>No</td>\n",
       "      <td>No</td>\n",
       "      <td>785.655883</td>\n",
       "      <td>38463.495879</td>\n",
       "    </tr>\n",
       "  </tbody>\n",
       "</table>\n",
       "</div>"
      ],
      "text/plain": [
       "  default student      balance        income\n",
       "0      No      No   729.526495  44361.625074\n",
       "1      No     Yes   817.180407  12106.134700\n",
       "2      No      No  1073.549164  31767.138947\n",
       "3      No      No   529.250605  35704.493935\n",
       "4      No      No   785.655883  38463.495879"
      ]
     },
     "execution_count": 47,
     "metadata": {},
     "output_type": "execute_result"
    }
   ],
   "source": [
    "import pandas as pd\n",
    "clientes = pd.read_csv('datasets/Default.csv').drop('Unnamed: 0', axis=1)\n",
    "clientes.head()"
   ]
  },
  {
   "cell_type": "markdown",
   "metadata": {},
   "source": [
    "Las variables `student`, `balance` e  `income` se utilizaran para predecir si una persona va a dejar de pagar el crédito (`default`).\n",
    "\n",
    "La columna `student` es un indicador de la persona que es estudiante. Las columnas `balance` e `income` son datos relacionados con la capacidad de pago.\n",
    "\n",
    "Para que el perceptrón pueda predecir exitosamente si una persona va a dejar de pagar el crédito basado en las tres variables anteriores, hay que seleccionar los pesos (`w`) correctos.\n",
    "\n",
    "Como todo método de Machine Learning, hay que seleccionar una **función de costo** y un **método de optimización** para encontrar los pesos adecuados. \n",
    "\n",
    "Para medir que tan acertada es la predicción utilizamos la función de costo específica para una regresión logística: \n",
    "    \n",
    "$L = \\frac{1}{m}\\sum_{i=0}^{m}-y^{i}\\cdot ln(a^{i}) - (1-y^{i})\\cdot ln(1-a^{i})$, \n",
    "\n",
    "donde \n",
    "\n",
    "* $m$ nos indica el número de muestras (renglones) que tenemos\n",
    "\n",
    "* $y^i$ es el indicador real de una persona que deja de pagar (1) o que continua pagando (0).\n",
    "\n",
    "* $a^i$ es la estimación del indicador que resulta de nuestro modelo.\n",
    "\n",
    "* $\\text{ln}$ es logaritmo natural (np.log)\n",
    "\n",
    "\n",
    "La función de costo nos ayuda a encontrar los pesos óptimos para nuestro modelo.\n",
    "\n",
    "<img src=\"images/loss.gif\" alt=\"Drawing\" style=\"width: 400px;\"/>\n",
    "\n",
    "\n"
   ]
  },
  {
   "cell_type": "markdown",
   "metadata": {},
   "source": [
    "### Preprocesamiento de los datos"
   ]
  },
  {
   "cell_type": "markdown",
   "metadata": {},
   "source": [
    "El perceptrón sólo acepta entradas numéricas, por lo que hay que codificar las variables categóricas. Además, hay que cambiar la escala de las variables numéricas."
   ]
  },
  {
   "cell_type": "code",
   "execution_count": 50,
   "metadata": {},
   "outputs": [
    {
     "data": {
      "text/html": [
       "<div>\n",
       "<style scoped>\n",
       "    .dataframe tbody tr th:only-of-type {\n",
       "        vertical-align: middle;\n",
       "    }\n",
       "\n",
       "    .dataframe tbody tr th {\n",
       "        vertical-align: top;\n",
       "    }\n",
       "\n",
       "    .dataframe thead th {\n",
       "        text-align: right;\n",
       "    }\n",
       "</style>\n",
       "<table border=\"1\" class=\"dataframe\">\n",
       "  <thead>\n",
       "    <tr style=\"text-align: right;\">\n",
       "      <th></th>\n",
       "      <th>default</th>\n",
       "      <th>student</th>\n",
       "      <th>balance</th>\n",
       "      <th>income</th>\n",
       "    </tr>\n",
       "  </thead>\n",
       "  <tbody>\n",
       "    <tr>\n",
       "      <th>0</th>\n",
       "      <td>0</td>\n",
       "      <td>0</td>\n",
       "      <td>729.526495</td>\n",
       "      <td>44361.625074</td>\n",
       "    </tr>\n",
       "    <tr>\n",
       "      <th>1</th>\n",
       "      <td>0</td>\n",
       "      <td>1</td>\n",
       "      <td>817.180407</td>\n",
       "      <td>12106.134700</td>\n",
       "    </tr>\n",
       "    <tr>\n",
       "      <th>2</th>\n",
       "      <td>0</td>\n",
       "      <td>0</td>\n",
       "      <td>1073.549164</td>\n",
       "      <td>31767.138947</td>\n",
       "    </tr>\n",
       "    <tr>\n",
       "      <th>3</th>\n",
       "      <td>0</td>\n",
       "      <td>0</td>\n",
       "      <td>529.250605</td>\n",
       "      <td>35704.493935</td>\n",
       "    </tr>\n",
       "    <tr>\n",
       "      <th>4</th>\n",
       "      <td>0</td>\n",
       "      <td>0</td>\n",
       "      <td>785.655883</td>\n",
       "      <td>38463.495879</td>\n",
       "    </tr>\n",
       "  </tbody>\n",
       "</table>\n",
       "</div>"
      ],
      "text/plain": [
       "   default  student      balance        income\n",
       "0        0        0   729.526495  44361.625074\n",
       "1        0        1   817.180407  12106.134700\n",
       "2        0        0  1073.549164  31767.138947\n",
       "3        0        0   529.250605  35704.493935\n",
       "4        0        0   785.655883  38463.495879"
      ]
     },
     "execution_count": 50,
     "metadata": {},
     "output_type": "execute_result"
    }
   ],
   "source": [
    "# Completa el código para convertir las variables Yes/No a números\n",
    "data = clientes.copy()\n",
    "data['default'] = 1*(data['default']=='Yes')\n",
    "data['student'] = 1*(data['student']=='Yes')\n",
    "\n",
    "data.head()"
   ]
  },
  {
   "cell_type": "code",
   "execution_count": 51,
   "metadata": {},
   "outputs": [
    {
     "data": {
      "text/html": [
       "<div>\n",
       "<style scoped>\n",
       "    .dataframe tbody tr th:only-of-type {\n",
       "        vertical-align: middle;\n",
       "    }\n",
       "\n",
       "    .dataframe tbody tr th {\n",
       "        vertical-align: top;\n",
       "    }\n",
       "\n",
       "    .dataframe thead th {\n",
       "        text-align: right;\n",
       "    }\n",
       "</style>\n",
       "<table border=\"1\" class=\"dataframe\">\n",
       "  <thead>\n",
       "    <tr style=\"text-align: right;\">\n",
       "      <th></th>\n",
       "      <th>default</th>\n",
       "      <th>student</th>\n",
       "      <th>balance</th>\n",
       "      <th>income</th>\n",
       "    </tr>\n",
       "  </thead>\n",
       "  <tbody>\n",
       "    <tr>\n",
       "      <th>0</th>\n",
       "      <td>0</td>\n",
       "      <td>0</td>\n",
       "      <td>-0.218835</td>\n",
       "      <td>0.813187</td>\n",
       "    </tr>\n",
       "    <tr>\n",
       "      <th>1</th>\n",
       "      <td>0</td>\n",
       "      <td>1</td>\n",
       "      <td>-0.037616</td>\n",
       "      <td>-1.605496</td>\n",
       "    </tr>\n",
       "    <tr>\n",
       "      <th>2</th>\n",
       "      <td>0</td>\n",
       "      <td>0</td>\n",
       "      <td>0.492410</td>\n",
       "      <td>-0.131212</td>\n",
       "    </tr>\n",
       "    <tr>\n",
       "      <th>3</th>\n",
       "      <td>0</td>\n",
       "      <td>0</td>\n",
       "      <td>-0.632893</td>\n",
       "      <td>0.164031</td>\n",
       "    </tr>\n",
       "    <tr>\n",
       "      <th>4</th>\n",
       "      <td>0</td>\n",
       "      <td>0</td>\n",
       "      <td>-0.102791</td>\n",
       "      <td>0.370915</td>\n",
       "    </tr>\n",
       "  </tbody>\n",
       "</table>\n",
       "</div>"
      ],
      "text/plain": [
       "   default  student   balance    income\n",
       "0        0        0 -0.218835  0.813187\n",
       "1        0        1 -0.037616 -1.605496\n",
       "2        0        0  0.492410 -0.131212\n",
       "3        0        0 -0.632893  0.164031\n",
       "4        0        0 -0.102791  0.370915"
      ]
     },
     "execution_count": 51,
     "metadata": {},
     "output_type": "execute_result"
    }
   ],
   "source": [
    "# Completa el código para escalar las variables que lo requieran.\n",
    "from sklearn.preprocessing import StandardScaler, MinMaxScaler\n",
    "\n",
    "scaler = StandardScaler()\n",
    "data[['balance','income']] = scaler.fit_transform(data[['balance','income']])\n",
    "\n",
    "data.head()"
   ]
  },
  {
   "cell_type": "code",
   "execution_count": 53,
   "metadata": {},
   "outputs": [],
   "source": [
    "# Separar en train y test sets\n",
    "from sklearn.model_selection import train_test_split\n",
    "X = data.drop('default', axis=1)\n",
    "y = data['default']\n",
    "\n",
    "X_train, X_test, y_train, y_test = train_test_split(X, y, test_size=0.33, random_state=42)"
   ]
  },
  {
   "cell_type": "code",
   "execution_count": 59,
   "metadata": {},
   "outputs": [
    {
     "data": {
      "text/html": [
       "<div>\n",
       "<style scoped>\n",
       "    .dataframe tbody tr th:only-of-type {\n",
       "        vertical-align: middle;\n",
       "    }\n",
       "\n",
       "    .dataframe tbody tr th {\n",
       "        vertical-align: top;\n",
       "    }\n",
       "\n",
       "    .dataframe thead th {\n",
       "        text-align: right;\n",
       "    }\n",
       "</style>\n",
       "<table border=\"1\" class=\"dataframe\">\n",
       "  <thead>\n",
       "    <tr style=\"text-align: right;\">\n",
       "      <th></th>\n",
       "      <th>student</th>\n",
       "      <th>balance</th>\n",
       "      <th>income</th>\n",
       "    </tr>\n",
       "  </thead>\n",
       "  <tbody>\n",
       "    <tr>\n",
       "      <th>8371</th>\n",
       "      <td>0</td>\n",
       "      <td>-1.727085</td>\n",
       "      <td>0.113152</td>\n",
       "    </tr>\n",
       "    <tr>\n",
       "      <th>5027</th>\n",
       "      <td>0</td>\n",
       "      <td>-0.711873</td>\n",
       "      <td>0.277635</td>\n",
       "    </tr>\n",
       "    <tr>\n",
       "      <th>9234</th>\n",
       "      <td>0</td>\n",
       "      <td>0.027353</td>\n",
       "      <td>-0.807390</td>\n",
       "    </tr>\n",
       "    <tr>\n",
       "      <th>3944</th>\n",
       "      <td>0</td>\n",
       "      <td>0.749233</td>\n",
       "      <td>0.789647</td>\n",
       "    </tr>\n",
       "    <tr>\n",
       "      <th>6862</th>\n",
       "      <td>0</td>\n",
       "      <td>-0.312964</td>\n",
       "      <td>0.229545</td>\n",
       "    </tr>\n",
       "  </tbody>\n",
       "</table>\n",
       "</div>"
      ],
      "text/plain": [
       "      student   balance    income\n",
       "8371        0 -1.727085  0.113152\n",
       "5027        0 -0.711873  0.277635\n",
       "9234        0  0.027353 -0.807390\n",
       "3944        0  0.749233  0.789647\n",
       "6862        0 -0.312964  0.229545"
      ]
     },
     "execution_count": 59,
     "metadata": {},
     "output_type": "execute_result"
    }
   ],
   "source": [
    "X_train.head()"
   ]
  },
  {
   "cell_type": "code",
   "execution_count": 55,
   "metadata": {},
   "outputs": [
    {
     "data": {
      "text/html": [
       "<div>\n",
       "<style scoped>\n",
       "    .dataframe tbody tr th:only-of-type {\n",
       "        vertical-align: middle;\n",
       "    }\n",
       "\n",
       "    .dataframe tbody tr th {\n",
       "        vertical-align: top;\n",
       "    }\n",
       "\n",
       "    .dataframe thead th {\n",
       "        text-align: right;\n",
       "    }\n",
       "</style>\n",
       "<table border=\"1\" class=\"dataframe\">\n",
       "  <thead>\n",
       "    <tr style=\"text-align: right;\">\n",
       "      <th></th>\n",
       "      <th>student</th>\n",
       "      <th>balance</th>\n",
       "      <th>income</th>\n",
       "    </tr>\n",
       "  </thead>\n",
       "  <tbody>\n",
       "    <tr>\n",
       "      <th>6252</th>\n",
       "      <td>0</td>\n",
       "      <td>1.241057</td>\n",
       "      <td>-0.150712</td>\n",
       "    </tr>\n",
       "    <tr>\n",
       "      <th>4684</th>\n",
       "      <td>0</td>\n",
       "      <td>-0.131459</td>\n",
       "      <td>0.646529</td>\n",
       "    </tr>\n",
       "    <tr>\n",
       "      <th>1731</th>\n",
       "      <td>0</td>\n",
       "      <td>-1.727085</td>\n",
       "      <td>-0.877908</td>\n",
       "    </tr>\n",
       "    <tr>\n",
       "      <th>4742</th>\n",
       "      <td>0</td>\n",
       "      <td>-1.492283</td>\n",
       "      <td>-0.053476</td>\n",
       "    </tr>\n",
       "    <tr>\n",
       "      <th>4521</th>\n",
       "      <td>0</td>\n",
       "      <td>1.080768</td>\n",
       "      <td>1.228753</td>\n",
       "    </tr>\n",
       "  </tbody>\n",
       "</table>\n",
       "</div>"
      ],
      "text/plain": [
       "      student   balance    income\n",
       "6252        0  1.241057 -0.150712\n",
       "4684        0 -0.131459  0.646529\n",
       "1731        0 -1.727085 -0.877908\n",
       "4742        0 -1.492283 -0.053476\n",
       "4521        0  1.080768  1.228753"
      ]
     },
     "execution_count": 55,
     "metadata": {},
     "output_type": "execute_result"
    }
   ],
   "source": [
    "X_test.head()"
   ]
  },
  {
   "cell_type": "code",
   "execution_count": 61,
   "metadata": {},
   "outputs": [
    {
     "data": {
      "text/plain": [
       "array([0, 0, 0, ..., 0, 0, 0])"
      ]
     },
     "execution_count": 61,
     "metadata": {},
     "output_type": "execute_result"
    }
   ],
   "source": [
    "# Convertir de data frames a arreglos de numpy\n",
    "X_train = X_train.values\n",
    "X_test  = X_test.values\n",
    "\n",
    "y_train = y_train.values\n",
    "y_test  = y_test.values"
   ]
  },
  {
   "cell_type": "markdown",
   "metadata": {},
   "source": [
    "# Día 2"
   ]
  },
  {
   "cell_type": "markdown",
   "metadata": {},
   "source": [
    "Para iniciar el cálculo de una red neuronal se necesitan tener pesos iniciales para las variables de entrada. Como desconocemos el valor ideal de estos parámetros, los inicializamos con valores aleatorios."
   ]
  },
  {
   "cell_type": "code",
   "execution_count": 56,
   "metadata": {},
   "outputs": [],
   "source": [
    "# Inicializamos los pesos con un valor aleatorio. Por esta ocasión los podemos inicializar en ceros.\n",
    "def inicializar_ceros(dim):\n",
    "    w = np.zeros(dim)\n",
    "    b = 0\n",
    "    return w, b"
   ]
  },
  {
   "cell_type": "markdown",
   "metadata": {},
   "source": [
    "Con los valores de $w$ definidos, podemos empezar a pasar los datos a través de la neurona. A este proceso se le conoce como **forward propagation** (propagación hacia adelante).\n",
    "\n",
    "<img src=\"images/perceptron02.gif\" alt=\"Drawing\" style=\"width: 400px;\"/>\n"
   ]
  },
  {
   "cell_type": "markdown",
   "metadata": {},
   "source": [
    "Recordemos la función de costo para una clasificación binaria (regresión logística):\n",
    "    \n",
    "$L = \\frac{1}{m}\\sum_{i=0}^{m}-y^{i}\\cdot ln(a^{i}) - (1-y^{i})\\cdot ln(1-a^{i})$, \n",
    "\n",
    "donde \n",
    "\n",
    "* $m$ nos indica el número de muestras (renglones) que tenemos\n",
    "\n",
    "* $y^i$ es el indicador real de una persona que deja de pagar (1) o que continua pagando (0).\n",
    "\n",
    "* $a^i$ es la estimación del indicador que resulta de nuestro modelo.\n",
    "\n",
    "* $\\text{ln}$ es logaritmo natural (np.log)\n",
    "    "
   ]
  },
  {
   "cell_type": "markdown",
   "metadata": {},
   "source": [
    "Para calcular los pesos se necesitan las derivadas de la función de costo con respecto a $w$ y a $b$ para utilizar el **gradiente descendiente** (*gradient descent*) hacia la dirección de decremento para el error.\n",
    "\n",
    "La fórmula general del gradiente descendiente es:\n",
    "\n",
    "$$\\theta = \\theta - \\alpha \\text{ } d\\theta$$\n",
    "\n",
    "Para el caso particular de $w$ y $b$, \n",
    "\n",
    "$$\\frac{\\partial L}{\\partial w} = \\frac{1}{m}X^t \\cdot (a-y)$$\n",
    "\n",
    "$$\\frac{\\partial L}{\\partial b} = \\frac{1}{m} \\sum_{i=1}^{m} (a-y)$$\n"
   ]
  },
  {
   "cell_type": "code",
   "execution_count": 85,
   "metadata": {},
   "outputs": [],
   "source": [
    "# hacemos el cálculo al pasar los datos a través del perceptrón.\n",
    "def propagar(w, b, X, y):\n",
    "    \"\"\"\n",
    "    w -- weights, a numpy array of size n (number of variables)\n",
    "    b -- bias, a scalar\n",
    "    X -- data of shape (m x n, number of examples x number of variables)\n",
    "    Y -- true \"label\" vector (containing 0 if non-cat, 1 if cat), of shape (number of examples)\n",
    "    \n",
    "    \"\"\"\n",
    "    m = X.shape[0]\n",
    "    \n",
    "    z = np.dot(X, w) + b\n",
    "    \n",
    "    a = sigmoid(z)\n",
    "    \n",
    "    cost = (- 1 / m) * np.sum(y * np.log(a) + (1 - y) * (np.log(1 - a))) \n",
    "    \n",
    "    dw = 1/m * np.dot(X.T, a-y)\n",
    "    \n",
    "    db = 1/m * np.sum(a-y)\n",
    "    \n",
    "    grads = {'dw' : dw,\n",
    "             'db' : db}\n",
    "    \n",
    "    return grads, cost"
   ]
  },
  {
   "cell_type": "markdown",
   "metadata": {},
   "source": [
    "Para poder ejecutar el algoritmo de gradiente descendiente, hay que definir un valor de $\\alpha$ (learning rate). Utilizamos el algoritmo de optimización para actualizar los pesos. A este paso se le conoce como **back propagation** (propagación hacia atrás).\n",
    "\n",
    "Una forma de ver el paso de optimización es haciendo una analogía con el siguiente video:\n",
    "\n",
    "[Atínale al precio](https://www.youtube.com/watch?v=PPO_fquD1Ss)\n",
    "\n",
    "¿Quién es el optimizador?\n",
    "\n",
    "¿Cuál es el tamaño de paso (learning rate)?"
   ]
  },
  {
   "cell_type": "code",
   "execution_count": 86,
   "metadata": {},
   "outputs": [],
   "source": [
    "# Optimizamos utilizando el gradiente descendiente\n",
    "def optimizar(w, b, X, Y, num_iterations, learning_rate, print_cost = False):\n",
    "    \"\"\"\n",
    "    w -- weights, a numpy array of size n (number of variables)\n",
    "    b -- bias, a scalar\n",
    "    X -- data of shape (m x n, number of examples x number of variables)\n",
    "    Y -- true \"label\" vector (containing 0 if non-cat, 1 if cat), of shape (number of examples)\n",
    "    num_iterations -- number of iterations of the optimization loop\n",
    "    learning_rate -- learning rate of the gradient descent update rule\n",
    "    print_cost -- True to print the loss every 100 steps\n",
    "    \n",
    "      \"\"\"\n",
    "    \n",
    "    costs = []\n",
    "    \n",
    "    for i in range(num_iterations):       \n",
    "        # Forward propagation\n",
    "        grads, cost = propagar(w, b, X, Y)\n",
    "        \n",
    "        # Retrieve derivatives from grads\n",
    "        dw = grads[\"dw\"]\n",
    "        db = grads[\"db\"]\n",
    "        \n",
    "        # update rule (Backward propagation)\n",
    "        w =  w - learning_rate*dw\n",
    "        b =  b - learning_rate*db\n",
    "        \n",
    "        # Record the costs\n",
    "        if i % 100 == 0:\n",
    "            costs.append(cost)\n",
    "        \n",
    "        # Print the cost every 100 training examples\n",
    "        if print_cost and i % 100 == 0:\n",
    "            print (\"Cost after iteration %i: %f\" % (i, cost))\n",
    "    \n",
    "    params = {\"w\": w,\n",
    "              \"b\": b}\n",
    "    \n",
    "    grads = {\"dw\": dw,\n",
    "             \"db\": db}\n",
    "    \n",
    "    return params, grads, costs"
   ]
  },
  {
   "cell_type": "code",
   "execution_count": 87,
   "metadata": {},
   "outputs": [],
   "source": [
    "# Una vez que los pesos están calculados, hay que predecir el resultado.\n",
    "def predecir(w, b, X):\n",
    "    # Calcular la activación con los pesos actuales\n",
    "    z = np.dot(X, w) + b\n",
    "    a = sigmoid(z)\n",
    "        \n",
    "    # Punto de corte\n",
    "    cut = 0.2\n",
    "    \n",
    "    # Predicción\n",
    "    Y_prediction = 1*(a>=cut)\n",
    "        \n",
    "    return Y_prediction"
   ]
  },
  {
   "cell_type": "code",
   "execution_count": 91,
   "metadata": {},
   "outputs": [],
   "source": [
    "# Juntamos todo en un sola función\n",
    "def modelo(X_train, Y_train, X_test, Y_test, num_iterations=2000, learning_rate=0.5, print_cost=False):\n",
    "    w, b = inicializar_ceros(X_train.shape[1])\n",
    "\n",
    "    # Gradient descent (≈ 1 line of code)\n",
    "    parameters, grads, costs = optimizar(w, b, X_train, Y_train, num_iterations, learning_rate, print_cost)\n",
    "    \n",
    "    # Retrieve parameters w and b from dictionary \"parameters\"\n",
    "    w = parameters[\"w\"]\n",
    "    b = parameters[\"b\"]\n",
    "    \n",
    "    # Predict test/train set examples (≈ 2 lines of code)\n",
    "    Y_prediction_test  = predecir(w, b, X_test)\n",
    "    Y_prediction_train = predecir(w, b, X_train)\n",
    "\n",
    "    ### END CODE HERE ###\n",
    "\n",
    "    # Print train/test Errors\n",
    "    print(\"train accuracy: {} %\".format(100 - np.mean(np.abs(Y_prediction_train - Y_train)) * 100))\n",
    "    print(\"test accuracy: {} %\".format(100 - np.mean(np.abs(Y_prediction_test - Y_test)) * 100))\n",
    "\n",
    "    \n",
    "    d = {\"costs\": costs,\n",
    "         \"Y_prediction_test\": Y_prediction_test, \n",
    "         \"Y_prediction_train\" : Y_prediction_train, \n",
    "         \"w\" : w, \n",
    "         \"b\" : b,\n",
    "         \"learning_rate\" : learning_rate,\n",
    "         \"num_iterations\": num_iterations}\n",
    "    \n",
    "    return d"
   ]
  },
  {
   "cell_type": "code",
   "execution_count": 92,
   "metadata": {},
   "outputs": [
    {
     "name": "stdout",
     "output_type": "stream",
     "text": [
      "Cost after iteration 0: 0.693147\n",
      "Cost after iteration 100: 0.587887\n",
      "Cost after iteration 200: 0.507417\n",
      "Cost after iteration 300: 0.445264\n",
      "Cost after iteration 400: 0.396616\n",
      "Cost after iteration 500: 0.357983\n",
      "Cost after iteration 600: 0.326858\n",
      "Cost after iteration 700: 0.301436\n",
      "Cost after iteration 800: 0.280402\n",
      "Cost after iteration 900: 0.262792\n",
      "Cost after iteration 1000: 0.247887\n",
      "Cost after iteration 1100: 0.235145\n",
      "Cost after iteration 1200: 0.224154\n",
      "Cost after iteration 1300: 0.214594\n",
      "Cost after iteration 1400: 0.206215\n",
      "Cost after iteration 1500: 0.198819\n",
      "Cost after iteration 1600: 0.192250\n",
      "Cost after iteration 1700: 0.186381\n",
      "Cost after iteration 1800: 0.181107\n",
      "Cost after iteration 1900: 0.176345\n",
      "train accuracy: 96.08955223880596 %\n",
      "test accuracy: 95.54545454545455 %\n"
     ]
    }
   ],
   "source": [
    "neurona = modelo(X_train, y_train, X_test, y_test, \n",
    "                    num_iterations = 2000, \n",
    "                    learning_rate = 0.005, \n",
    "                    print_cost = True)"
   ]
  },
  {
   "cell_type": "code",
   "execution_count": 93,
   "metadata": {},
   "outputs": [
    {
     "data": {
      "image/png": "[encoded data removed]",
      "text/plain": [
       "<Figure size 432x288 with 1 Axes>"
      ]
     },
     "metadata": {},
     "output_type": "display_data"
    }
   ],
   "source": [
    "## Graficar cómo va disminuyendo el error.\n",
    "costs = np.squeeze(neurona['costs'])\n",
    "plt.plot(costs)\n",
    "plt.ylabel('Costo')\n",
    "plt.xlabel('Iteraciones (cada 100)')\n",
    "plt.title(\"Learning rate =\" + str(neurona[\"learning_rate\"]))\n",
    "plt.show()"
   ]
  },
  {
   "cell_type": "code",
   "execution_count": 94,
   "metadata": {},
   "outputs": [
    {
     "data": {
      "text/html": [
       "<div>\n",
       "<style scoped>\n",
       "    .dataframe tbody tr th:only-of-type {\n",
       "        vertical-align: middle;\n",
       "    }\n",
       "\n",
       "    .dataframe tbody tr th {\n",
       "        vertical-align: top;\n",
       "    }\n",
       "\n",
       "    .dataframe thead th {\n",
       "        text-align: right;\n",
       "    }\n",
       "</style>\n",
       "<table border=\"1\" class=\"dataframe\">\n",
       "  <thead>\n",
       "    <tr style=\"text-align: right;\">\n",
       "      <th>Valor Real</th>\n",
       "      <th>0</th>\n",
       "      <th>1</th>\n",
       "    </tr>\n",
       "    <tr>\n",
       "      <th>Predicción</th>\n",
       "      <th></th>\n",
       "      <th></th>\n",
       "    </tr>\n",
       "  </thead>\n",
       "  <tbody>\n",
       "    <tr>\n",
       "      <th>0</th>\n",
       "      <td>6321</td>\n",
       "      <td>106</td>\n",
       "    </tr>\n",
       "    <tr>\n",
       "      <th>1</th>\n",
       "      <td>156</td>\n",
       "      <td>117</td>\n",
       "    </tr>\n",
       "  </tbody>\n",
       "</table>\n",
       "</div>"
      ],
      "text/plain": [
       "Valor Real     0    1\n",
       "Predicción           \n",
       "0           6321  106\n",
       "1            156  117"
      ]
     },
     "execution_count": 94,
     "metadata": {},
     "output_type": "execute_result"
    }
   ],
   "source": [
    "pd.crosstab(neurona['Y_prediction_train'].squeeze(), y_train, rownames=['Predicción'], colnames=['Valor Real'])"
   ]
  },
  {
   "cell_type": "markdown",
   "metadata": {},
   "source": [
    "## Redes neuronales artificiales\n",
    "\n",
    "El perceptrón es un modelo muy simple que no puede predecir cuando los patrones en los datos son muy complejos. Sin embargo, nuestro cerebro no usa neuronas aisladas para procesar la información, sino que los impulsos eléctricos pasa a través de una serie de neuronas para producir una respuesta sensorial.\n",
    "\n",
    "### Nodos\n",
    "Inspirándose en el cerebro, entonces al interconectar varios perceptrones (nodos), se puede llegar a descifrar patrones más complejos en los datos.\n",
    "\n",
    "\n",
    "<img src=\"images/singlelayer.png\" alt=\"Drawing\" style=\"width: 650px;\"/>\n",
    "\n",
    "Las redes neuronales consisten en varias **capas** de neuronas, cada una con un número específico de **nodos**, los cuales procesan los datos para producir una salida en la última capa. Cada capa es independiente una de la otra."
   ]
  },
  {
   "cell_type": "markdown",
   "metadata": {},
   "source": [
    "## Funciones de activación (iii)\n",
    "Además, la función sigmoide no es la única que se puede utilizar como función de activación. Una función que ha ganado mucha popularidad en los últimos años es la función **ReLu** (*Rectified Linear Unit*). También está la función **tangente hiperbólica** que es parecida a la sigmoide."
   ]
  },
  {
   "cell_type": "code",
   "execution_count": 95,
   "metadata": {},
   "outputs": [
    {
     "data": {
      "text/plain": [
       "Text(0.5, 1.05, 'Funciones de activación')"
      ]
     },
     "execution_count": 95,
     "metadata": {},
     "output_type": "execute_result"
    },
    {
     "data": {
      "image/png": "[encoded data removed]",
      "text/plain": [
       "<Figure size 1152x288 with 3 Axes>"
      ]
     },
     "metadata": {},
     "output_type": "display_data"
    }
   ],
   "source": [
    "## Graficar funciones de activación más comunes\n",
    "x = np.arange(-5,5,0.1)\n",
    "s = 1/(1+np.exp(-x))\n",
    "t = np.tanh(x)\n",
    "r = x*(x>0)\n",
    "\n",
    "plt.figure(figsize=(16,4))\n",
    "plt.subplot(1,3,1)\n",
    "plt.plot(x,s, color='red')\n",
    "plt.axvline(0, linestyle='dashed', color='gray')\n",
    "plt.axhline(0, linestyle='dashed', color='gray')\n",
    "plt.ylim([-2,3])\n",
    "plt.title('Sigmoide')\n",
    "\n",
    "plt.subplot(1,3,2)\n",
    "plt.plot(x,t)\n",
    "plt.axvline(0, linestyle='dashed', color='gray')\n",
    "plt.axhline(0, linestyle='dashed', color='gray')\n",
    "plt.ylim([-2,3])\n",
    "plt.title('Tangente hiperbólica')\n",
    "\n",
    "plt.subplot(1,3,3)\n",
    "plt.plot(x,r, color='green')\n",
    "plt.axvline(0, linestyle='dashed', color='gray')\n",
    "plt.axhline(0, linestyle='dashed', color='gray')\n",
    "plt.ylim([-2,3])\n",
    "plt.title('ReLu')\n",
    "\n",
    "plt.suptitle('Funciones de activación', fontsize=16, weight='bold', y=1.05)"
   ]
  },
  {
   "cell_type": "markdown",
   "metadata": {},
   "source": [
    "## Hiperparámetros de una red neuronal\n",
    "### Capas\n",
    "\n",
    "La primera capa de una red neuronal consiste en cada una de las variables de entrada. Esta capa se le denomina **input layer** (*capa de entrada*).\n",
    "\n",
    "Las capas que se encuentran en medio se les denomina **hidden layers** (capas ocultas).\n",
    "\n",
    "La última capa, que es la que entrega el resultado, se le denomina **output layer** (capa de salida).\n",
    "\n",
    "![archi](images/nnarchitecture.png)"
   ]
  },
  {
   "cell_type": "markdown",
   "metadata": {},
   "source": [
    "El propósito de agregar capas es para que la red neuronal pueda ir descubriendo patrones simples en las primeras capas, para después ir combinándolos en patrones cada vez más complejos.\n",
    "\n",
    "![patterns](images/highfeatures.png)"
   ]
  },
  {
   "cell_type": "markdown",
   "metadata": {},
   "source": [
    "Una red neuronal con pocas capas (2-8) se le conoce como red **superficial**. Cuando el número de capas es grande (>8), entonces la red neuronal es **profunda**."
   ]
  },
  {
   "cell_type": "markdown",
   "metadata": {},
   "source": [
    "###  Algoritmos de optimización.\n",
    "\n",
    "Además del *gradient descent*, existen distintos algoritmos que tienen eficiencias similares o mejores cuando hay grandes cantidades de datos. Cada uno tiene sus ventajas y desventajas.\n",
    "\n",
    "* Gradient descent variants:\n",
    "    1. Batch gradient descent\n",
    "    2. Stochastic gradient descent\n",
    "    3. Mini-batch gradient descent\n",
    "\n",
    "\n",
    "* Gradient descent optimization algorithms:\n",
    "    4. Momentum\n",
    "    5. Nesterov accelerated gradient\n",
    "    6. Adagrad\n",
    "    7. Adadelta\n",
    "    8. RMSprop\n",
    "    9. Adam\n",
    "    10. AdaMax\n",
    "\n",
    "Los optimizadores más comunes son **Mini-batch Gradient Descent** y **Adam**."
   ]
  },
  {
   "cell_type": "markdown",
   "metadata": {},
   "source": [
    "### Fuciones de costo\n",
    "\n",
    "Las funciones de costo cambian dependiendo de tipo de problema. Si queremos predecir un número como en una regresión lineal o polinomial, entonces utilizamos:\n",
    "\n",
    "* Mean Squared Error (MSE)\n",
    "$$\\frac{1}{m} \\sum (y - \\hat{y})^2 $$\n",
    "\n",
    "* Mean Absolute Error (MAE)\n",
    "$$\\frac{1}{m} \\sum |y - \\hat{y}|$$\n",
    "\n",
    "\n",
    "\n",
    "Por otro lado, cuando realicemos una clasificación utilizamos `entropía cruzada`:\n",
    "\n",
    "* Binary cross entropy (Clasificación binaria)\n",
    "$$ -\\frac{1}{m} \\sum y\\cdot ln(a) + (1-y) \\cdot ln(1-a)$$\n",
    "\n",
    "\n",
    "* Multinomial cross entropy o Softmax (Clasificación multicategoría)\n",
    "$$ -\\frac{1}{m}\\sum_{c=1}^{N} \\sum_{i=1}^m y_{i, c}\\cdot ln(a_{i,c})$$"
   ]
  },
  {
   "cell_type": "markdown",
   "metadata": {},
   "source": [
    "### Otros hiperparámetros\n",
    "\n",
    "El número de nodos en cada capa es una decisión de quien programa la red neuronal. Este es uno de los llamados hiperparámetros. Los hiperparámetros son valores que podemos ajustar cómo es que la red neuronal va aprender. Los hiperparámetros más comunes son:\n",
    "\n",
    "+ **Número de capas**\n",
    "\n",
    "+ **Número de nodos en cada capa**\n",
    "\n",
    "+ **Tamaño de lote** (batch size): Cuando calculamos los gradientes para mejorar los parámetros de la red neuronal, es costoso utilizar todos los datos si el dataset de entrada es muy grande. Por eso, en vez de utilizar todos los datos disponibles a la vez, se calculan los gradientes con pequeños lotes (mini-batches) de datos. \n",
    "\n",
    "+ **Número de épocas** (epochs): Cuando dividimos los datos en lotes, debemos considerar cuántas veces queremos que la red neuronal utilice todos los datos para entrenarse. Una época (epoch) es cuando todo el conjunto de datos para a través de la red neuronal 1 vez. \n",
    "\n",
    "+ **Métricas** : son cuantificaciones de qué tan bien el modelo puede predecir el resultado. Se utilizan con el conjunto de datos de prueba."
   ]
  },
  {
   "cell_type": "markdown",
   "metadata": {},
   "source": [
    "# Ejercicio: Clasificación de dígitos con redes neuronales\n",
    "\n",
    "Un conjunto de datos muy famoso para aprender redes neuronales es el MNIST. Esta base de datos contiene 60,000 ejemplos de dígitos (0 al 9) escritos a mano y escaneados. El problema consiste en crear una red neuronal que sea capaz de reconocer los dígitos escritos.\n",
    "\n",
    "Todas las imágenes están en escala de grises y tienen un tamaño de 28 x 28 pixeles. \n",
    "\n",
    "\n",
    "<img src=\"images/mnist.png\" alt=\"Drawing\" style=\"width: 500px;\"/>\n",
    "\n",
    "\n",
    "\n",
    "No todos los dígitos son legibles incluso para los seres humanos:\n",
    "\n",
    "<img src=\"images/mnistnonread.png\" alt=\"Drawing\" style=\"width: 600px;\"/>\n"
   ]
  },
  {
   "cell_type": "markdown",
   "metadata": {},
   "source": [
    "Antes de empezar, repacemos la terminología y algunos puntos importantes:\n",
    "\n",
    "* `x` se refieren a los datos de entrada: las variables que nos ayudarán a determinar nuestra predicción.\n",
    "\n",
    "* `y` es el nombre de las etiquetas o el valor que queremos predecir.\n",
    "\n",
    "* $\\hat{y}$ son las predicciones hechas por el modelo. Deben ser muy parecidos a los valores `y`.\n",
    "\n",
    "* Los datos de entrenamiento son los que utilizamos para encontrar el modelo de predicción. \n",
    "\n",
    "* Los datos de prueba los utilizamos para ver si el modelo entrenado es bueno o no.\n",
    "\n",
    "* La función de costo se utiliza para medir qué tan precisas son las predicciones del modelo.\n",
    "\n",
    "* El algoritmo de optimización controla cómo van variando los pesos del modelo para disminuir el error o la función de costo.\n",
    "\n",
    "* La cantidad de nodos de salida debe ser 1 si se hace una regresión o una clasificación binaria. Para clasificación multicategoría, la cantidad de nodos en la capa de salida debe ser igual al número de categorías.\n",
    "\n",
    "* Una capa es **densa** si todas las entradas están conectadas a todos los nodos de la capa."
   ]
  },
  {
   "cell_type": "markdown",
   "metadata": {},
   "source": [
    "## Toolkits de Deep Learning\n",
    "\n",
    "Con el incremento de popularidad de las redes neuronales, se desarrollaron librerías y toolkits que funcionan en distintos lenguajes de programación pra implementar de manera fácil estos algoritmos. Entre los toolkits más famosos están:\n",
    "\n",
    "### Tensorflow\n",
    "TensorFlow es el toolkit de DL más famoso y más utilizado por el momento. Grandes compañías como Airbus, Twitter, IBM lo han utilizado por su gran flexibilidad. Fue desarrollado por Google y actualmente está distibuido como software de código abierto.\n",
    "\n",
    "<img src=\"images/tensorflow.png\" alt=\"Drawing\" style=\"height: 200px;\"/>\n",
    "\n",
    "### Pytorch\n",
    "Es una librería basada en Torch para el cómputo eficiente con tensores de alta dimensionalidad y para el desarrollo de redes neuronales profundas. Es utilizado por Facebook y ha tenido un crecimiento de popularidad importante en los últimos años.\n",
    "\n",
    "<img src=\"images/pytorch.jpeg\" alt=\"Drawing\" style=\"height: 100px;\"/>\n",
    "\n",
    "### Keras\n",
    "Keras es una librería para crear redes neuronales, convolucionales y recurrentes de manera rápida y simple. Esta librería puede utilzar Tensorflow of Theano como motor de cómputo. \n",
    "\n",
    "<img src=\"images/keras.png\" alt=\"Drawing\" style=\"height: 80px;\"/>\n",
    "\n",
    "\n",
    "En vez de crear las funciones para entrenar nuestra red neuronal, utilizaremos Keras con Tensorflow para hacer el modelado."
   ]
  },
  {
   "cell_type": "markdown",
   "metadata": {},
   "source": [
    "## Importar datos\n"
   ]
  },
  {
   "cell_type": "markdown",
   "metadata": {},
   "source": [
    "<img src=\"images/mnistnn.png\" alt=\"Drawing\" style=\"width: 600px;\"/>"
   ]
  },
  {
   "cell_type": "code",
   "execution_count": 21,
   "metadata": {},
   "outputs": [
    {
     "name": "stdout",
     "output_type": "stream",
     "text": [
      "Datos de entrenamiento: (60000, 28, 28)\n",
      "Datos de prueba: (10000, 28, 28)\n"
     ]
    }
   ],
   "source": [
    "import tensorflow as tf\n",
    "(X_train, y_train), (X_test, y_test) = tf.keras.datasets.mnist.load_data()\n",
    "\n",
    "# Obtener las dimensiones de los datos de entrenamiento\n",
    "print('Datos de entrenamiento:', x_train.shape)\n",
    "print('Datos de prueba:', x_test.shape)"
   ]
  },
  {
   "cell_type": "code",
   "execution_count": 22,
   "metadata": {},
   "outputs": [
    {
     "name": "stdout",
     "output_type": "stream",
     "text": [
      "El número es un : 5\n"
     ]
    },
    {
     "data": {
      "image/png": "[encoded data removed]",
      "text/plain": [
       "<Figure size 432x288 with 1 Axes>"
      ]
     },
     "metadata": {},
     "output_type": "display_data"
    }
   ],
   "source": [
    "## Ver un ejemplo\n",
    "indx = 0\n",
    "\n",
    "print('El número es un :', y_train[indx])\n",
    "sns.set_style('whitegrid')\n",
    "plt.imshow(x_train[indx,:,:], cmap='Greys')\n",
    "plt.show()"
   ]
  },
  {
   "cell_type": "markdown",
   "metadata": {},
   "source": [
    "Para empezar, la red neuronal que hemos visto hasta ahora no acepta imágenes como datos de entrada. Para ello, tenemos que convertir las matrices que representan la imagen a vectores. Además, como queremos hacer una clasificación de más de dos categorías, hay que codificar las etiquetas con un one-hot-encoding.\n",
    "\n",
    "Esto último lo podemos hacer con pandas, scikit learn o el mismo keras."
   ]
  },
  {
   "cell_type": "code",
   "execution_count": 23,
   "metadata": {},
   "outputs": [
    {
     "data": {
      "text/plain": [
       "array([5, 0, 4, ..., 5, 6, 8], dtype=uint8)"
      ]
     },
     "execution_count": 23,
     "metadata": {},
     "output_type": "execute_result"
    }
   ],
   "source": [
    "y_train"
   ]
  },
  {
   "cell_type": "code",
   "execution_count": 24,
   "metadata": {},
   "outputs": [
    {
     "name": "stdout",
     "output_type": "stream",
     "text": [
      "[5 0 4 1 9]\n"
     ]
    },
    {
     "data": {
      "text/plain": [
       "array([[0., 0., 0., 0., 0., 1., 0., 0., 0., 0.],\n",
       "       [1., 0., 0., 0., 0., 0., 0., 0., 0., 0.],\n",
       "       [0., 0., 0., 0., 1., 0., 0., 0., 0., 0.],\n",
       "       [0., 1., 0., 0., 0., 0., 0., 0., 0., 0.],\n",
       "       [0., 0., 0., 0., 0., 0., 0., 0., 0., 1.]], dtype=float32)"
      ]
     },
     "execution_count": 24,
     "metadata": {},
     "output_type": "execute_result"
    }
   ],
   "source": [
    "# # One hot encoding\n",
    "print(y_train[:5])\n",
    "\n",
    "num_classes = 10\n",
    "y_train = tf.keras.utils.to_categorical(y_train, num_classes)\n",
    "y_test  = tf.keras.utils.to_categorical(y_test, num_classes)\n",
    "\n",
    "# Ver los primeros 5 renglones\n",
    "y_train[:5]"
   ]
  },
  {
   "cell_type": "code",
   "execution_count": 27,
   "metadata": {},
   "outputs": [
    {
     "data": {
      "text/plain": [
       "(60000, 28, 28)"
      ]
     },
     "execution_count": 27,
     "metadata": {},
     "output_type": "execute_result"
    }
   ],
   "source": [
    "X_train.shape"
   ]
  },
  {
   "cell_type": "code",
   "execution_count": 29,
   "metadata": {},
   "outputs": [
    {
     "name": "stdout",
     "output_type": "stream",
     "text": [
      "(60000, 784)\n",
      "(10000, 784)\n"
     ]
    }
   ],
   "source": [
    "# Los datos de entrada deben ser vectores, entonces convertimos las matrices con reshape.\n",
    "image_size = 28*28\n",
    "X_train = X_train.reshape(X_train.shape[0], image_size)\n",
    "X_test  = X_test.reshape(X_test.shape[0], image_size)\n",
    "\n",
    "print(X_train.shape)\n",
    "print(X_test.shape)"
   ]
  },
  {
   "cell_type": "markdown",
   "metadata": {},
   "source": [
    "Normalmente cuando trabajamos con ML hay que ajustar los datos a que todos tengan la misma escala. \n",
    "\n",
    "Las imágenes realmente son una matriz de números de 0 a 255. En una imagen en blanco y negro, 0 representa el color negro y 255 el color blanco. Para ajustar la escala en las imágenes, lo más común es dividir los valores que hay en las imágenes entre 255."
   ]
  },
  {
   "cell_type": "code",
   "execution_count": 31,
   "metadata": {},
   "outputs": [],
   "source": [
    "# Ajustar los valores de la imágen de 0 a 255, a 0 a 1\n",
    "X_train = X_train/255\n",
    "X_test  = X_test/255"
   ]
  },
  {
   "cell_type": "markdown",
   "metadata": {},
   "source": [
    "Vamos a crear una red neuronal secuencial, lo que quiere decir que por el momento ningún nodo va a proporcionar retroalimentación a nodos en capas anteriores."
   ]
  },
  {
   "cell_type": "code",
   "execution_count": 35,
   "metadata": {},
   "outputs": [
    {
     "name": "stdout",
     "output_type": "stream",
     "text": [
      "Model: \"sequential_1\"\n",
      "_________________________________________________________________\n",
      "Layer (type)                 Output Shape              Param #   \n",
      "=================================================================\n",
      "dense_1 (Dense)              (None, 32)                25120     \n",
      "_________________________________________________________________\n",
      "dense_2 (Dense)              (None, 10)                330       \n",
      "=================================================================\n",
      "Total params: 25,450\n",
      "Trainable params: 25,450\n",
      "Non-trainable params: 0\n",
      "_________________________________________________________________\n"
     ]
    }
   ],
   "source": [
    "## Crear modelo secuencial con capas densas\n",
    "from tensorflow.keras.layers import Dense      # Dense layers are \"fully connected\" layers\n",
    "from tensorflow.keras.models import Sequential # Documentation: https://keras.io/models/sequential/\n",
    "\n",
    "image_size  = 28*28   # Tamaño de las imágenes\n",
    "classes     = 10      # 10 dígitos\n",
    "\n",
    "## Creamos una red neuronal secuencial\n",
    "redNeuronal = Sequential()\n",
    "\n",
    "## La primera capa la vamos a crear con 32 nodos. Como es la primera capa, hay que especificar que va a recibir\n",
    "## datos del tamaño de 784 (el resultado de 28*28)\n",
    "redNeuronal.add(Dense(units=32, activation='relu', input_shape=(image_size,)))\n",
    "\n",
    "## La segunda capa va a ser la de salida. Como es una clasificación multicategoría, la función de activación \n",
    "## debe ser softmax\n",
    "redNeuronal.add(Dense(units=classes, activation='softmax'))\n",
    "\n",
    "## Resumen del modelo\n",
    "redNeuronal.summary()"
   ]
  },
  {
   "cell_type": "markdown",
   "metadata": {},
   "source": [
    "La función `Softmax` es una generalización de la entropía cruzada cuando hay más de dos categorías. Esta función de costo se relaciona con las probabilidades de que el dígito sea reconocido entre el 0, 1, 2, ... , 9. Cada nodo de la última capa corresponde a un dígito. El nodo con el valor de probabilidad más grande es el que decide la categoría a asignar."
   ]
  },
  {
   "cell_type": "code",
   "execution_count": 36,
   "metadata": {},
   "outputs": [],
   "source": [
    "# Una vez que llenamos los hiperparámetros, hay que compilar el modelo.\n",
    "# Vamos a usar el stochastic gradient descent (mini batch), con crossentropy y para probar el modelo\n",
    "# utilizaremos la precisión\n",
    "redNeuronal.compile(optimizer= 'sgd', loss= 'binary_crossentropy', metrics=['accuracy'])"
   ]
  },
  {
   "cell_type": "code",
   "execution_count": 38,
   "metadata": {},
   "outputs": [],
   "source": [
    "### ENTRENAMIENTO\n",
    "## Queremos que el entrenamiento sea con lotes de tamaño 128, que sean en total 5 épocas y que\n",
    "## Para probar el modelo utilice el 10% de los datos de entrenamiento.\n",
    "history = redNeuronal.fit(X_train, y_train, batch_size=128, epochs=5, verbose=False, validation_split=.1)"
   ]
  },
  {
   "cell_type": "code",
   "execution_count": 41,
   "metadata": {},
   "outputs": [
    {
     "data": {
      "text/plain": [
       "{'loss': [0.3147355221024266,\n",
       "  0.29485550568721913,\n",
       "  0.2696344151496887,\n",
       "  0.24056590166356828,\n",
       "  0.21067212962221216],\n",
       " 'accuracy': [0.8999964, 0.89999825, 0.9002051, 0.9041297, 0.9141386],\n",
       " 'val_loss': [0.30463974197705584,\n",
       "  0.28049140191078187,\n",
       "  0.2522205878893534,\n",
       "  0.2205431657632192,\n",
       "  0.19037869131565094],\n",
       " 'val_accuracy': [0.9000001, 0.9000001, 0.90131646, 0.90838295, 0.9223499]}"
      ]
     },
     "execution_count": 41,
     "metadata": {},
     "output_type": "execute_result"
    }
   ],
   "source": [
    "history.history"
   ]
  },
  {
   "cell_type": "code",
   "execution_count": 42,
   "metadata": {},
   "outputs": [
    {
     "name": "stdout",
     "output_type": "stream",
     "text": [
      "Precisión en datos de prueba: 0.923\n"
     ]
    },
    {
     "data": {
      "image/png": "[encoded data removed]",
      "text/plain": [
       "<Figure size 576x432 with 1 Axes>"
      ]
     },
     "metadata": {},
     "output_type": "display_data"
    }
   ],
   "source": [
    "## PRUEBAS\n",
    "# Obtenemos los datos de la función de costo y la precisión del modelo con evaluate.\n",
    "loss, accuracy  = redNeuronal.evaluate(X_test, y_test, verbose=False)\n",
    "\n",
    "## Graficar los resultados\n",
    "sns.set()\n",
    "plt.figure(figsize=(8,6))\n",
    "plt.plot(history.history['accuracy'])\n",
    "plt.plot(history.history['val_accuracy'])\n",
    "plt.title('Precisión del modelo durante entrenamiento')\n",
    "plt.ylabel('Precisión')\n",
    "plt.xlabel('Época')\n",
    "plt.legend(['Entrenamiento', 'Validación'], loc='best')\n",
    "\n",
    "print(f'Precisión en datos de prueba: {accuracy:.3}')"
   ]
  },
  {
   "cell_type": "code",
   "execution_count": 47,
   "metadata": {},
   "outputs": [
    {
     "name": "stdout",
     "output_type": "stream",
     "text": [
      "El valor predicho es: 1 \n",
      "\n",
      "El valor real es:\n"
     ]
    },
    {
     "data": {
      "image/png": "[encoded data removed]",
      "text/plain": [
       "<Figure size 432x288 with 1 Axes>"
      ]
     },
     "metadata": {},
     "output_type": "display_data"
    }
   ],
   "source": [
    "## Vamos a probar la predicción.\n",
    "# Escogemos un valor al azar\n",
    "index      = np.random.choice(X_test.shape[0])\n",
    "x_index    = X_test[index,:].reshape(1,-1)\n",
    "prediccion = np.squeeze(redNeuronal.predict(x_index))\n",
    "\n",
    "# El vector de predicción contiene los valores de las probabilidades de que sea uno de los dígitos de (0,1,2,...,8,9) en ese\n",
    "# orden. Para encontrar el valor predicho hay que buscar la POSICIÓN con el valor más alto.\n",
    "max_index = np.squeeze(np.where(prediccion==prediccion.max()))\n",
    "\n",
    "# Mostrar el resultado\n",
    "print('El valor predicho es:', max_index, '\\n')\n",
    "print('El valor real es:')\n",
    "\n",
    "sns.set_style('whitegrid')\n",
    "plt.imshow(np.reshape(X_test[index,:],(28,28)), cmap='Greys')\n",
    "plt.show()"
   ]
  },
  {
   "cell_type": "markdown",
   "metadata": {},
   "source": [
    "Vamos a crear unas funciones para llamar al modelo anterior de manera más rápida. Además, vamos a probar con diferente número de capas."
   ]
  },
  {
   "cell_type": "code",
   "execution_count": 51,
   "metadata": {},
   "outputs": [],
   "source": [
    "## Crear modelo secuencial\n",
    "def createModel(layer_sizes, input_shape, num_classes, activation = 'relu', output_activation='softmax'):\n",
    "    # Inicializar modelo\n",
    "    model = Sequential()\n",
    "    # Agregar capa de entrada\n",
    "    model.add(Dense(layer_sizes[0], activation=activation, input_shape=(input_shape,)))\n",
    "    \n",
    "    if(len(layer_sizes)>1):\n",
    "        for s in layer_sizes[1:]:\n",
    "            model.add(Dense(units = s, activation = activation))\n",
    "\n",
    "    model.add(Dense(units=num_classes, activation = output_activation))\n",
    "    return model"
   ]
  },
  {
   "cell_type": "code",
   "execution_count": 52,
   "metadata": {},
   "outputs": [],
   "source": [
    "# Entrenar y evaluar\n",
    "def evaluateModel(model,  X_train, y_train, X_test, y_test,\n",
    "                  batch_size=128, epochs=5, optimizer_func = \"sgd\", loss='categorical_crossentropy', \n",
    "                  metrics=['accuracy'], validation_split=0.1):\n",
    "    # Show model summary\n",
    "    model.summary()\n",
    "    model.compile(optimizer=optimizer_func, loss=loss, metrics=metrics)\n",
    "    \n",
    "    history = model.fit(X_train, y_train, batch_size=batch_size, epochs=epochs, \n",
    "                        validation_split=validation_split, verbose=False)\n",
    "    loss, accuracy  = model.evaluate(X_test, y_test, verbose=False)\n",
    "    # Graficar resultados\n",
    "    sns.set()\n",
    "    plt.figure(figsize=(8,6))\n",
    "    plt.plot(history.history['accuracy'])\n",
    "    plt.plot(history.history['val_accuracy'])\n",
    "    plt.title('Precisión del modelo durante entrenamiento')\n",
    "    plt.ylabel('Precisión')\n",
    "    plt.xlabel('Época')\n",
    "    plt.legend(['Entrenamiento', 'Validación'], loc='best')\n",
    "    plt.show()\n",
    "\n",
    "    print(f'Precisión en datos de prueba: {accuracy:.3}')"
   ]
  },
  {
   "cell_type": "code",
   "execution_count": 53,
   "metadata": {},
   "outputs": [],
   "source": [
    "# Predecir\n",
    "def predictModel(model, X_test, index=50):\n",
    "    x_index = X_test[index,:].reshape(1,-1)\n",
    "    prediccion = np.squeeze(redNeuronal.predict(x_index))\n",
    "    # Encontrar el valor máximo\n",
    "    max_index = np.squeeze(np.where(prediccion==prediccion.max()))\n",
    "\n",
    "    # Mostrar el resultado\n",
    "    print('El valor predicho es:', max_index, '\\n')\n",
    "    print('El valor real es:')\n",
    "\n",
    "    sns.set_style('whitegrid')\n",
    "    plt.imshow(np.reshape(X_test[index,:],(28,28)), cmap='Greys')\n",
    "    plt.show()\n",
    "    sns.set()"
   ]
  },
  {
   "cell_type": "code",
   "execution_count": 55,
   "metadata": {},
   "outputs": [
    {
     "name": "stdout",
     "output_type": "stream",
     "text": [
      "Model: \"sequential_3\"\n",
      "_________________________________________________________________\n",
      "Layer (type)                 Output Shape              Param #   \n",
      "=================================================================\n",
      "dense_6 (Dense)              (None, 32)                25120     \n",
      "_________________________________________________________________\n",
      "dense_7 (Dense)              (None, 16)                528       \n",
      "_________________________________________________________________\n",
      "dense_8 (Dense)              (None, 10)                170       \n",
      "=================================================================\n",
      "Total params: 25,818\n",
      "Trainable params: 25,818\n",
      "Non-trainable params: 0\n",
      "_________________________________________________________________\n"
     ]
    },
    {
     "data": {
      "image/png": "[encoded data removed]",
      "text/plain": [
       "<Figure size 576x432 with 1 Axes>"
      ]
     },
     "metadata": {},
     "output_type": "display_data"
    },
    {
     "name": "stdout",
     "output_type": "stream",
     "text": [
      "Precisión en datos de prueba: 0.939\n",
      "El valor predicho es: 2 \n",
      "\n",
      "El valor real es:\n"
     ]
    },
    {
     "data": {
      "image/png": "[encoded data removed]",
      "text/plain": [
       "<Figure size 432x288 with 1 Axes>"
      ]
     },
     "metadata": {},
     "output_type": "display_data"
    }
   ],
   "source": [
    "redNeuronal2 = createModel([32, 16], 28*28, 10)\n",
    "evaluateModel(redNeuronal2,  X_train, y_train, X_test, y_test, epochs=50, batch_size=256)\n",
    "predictModel(redNeuronal2, X_test, index=975)"
   ]
  },
  {
   "cell_type": "markdown",
   "metadata": {},
   "source": [
    "# Día 3\n",
    "\n",
    "Un ejemplo de aplicación de redes neuronales en videojuegos: [marI/O](https://www.youtube.com/watch?v=qv6UVOQ0F44)\n",
    "\n",
    "## Redes Neuronales Convolucionales (CNN o ConvNet en inglés)"
   ]
  },
  {
   "cell_type": "markdown",
   "metadata": {},
   "source": [
    "Si bien los datos MNIST son imágenes, la resolución de cada una de ellas es muy baja (28x28 pixeles). Además, todas las imágenes están en escala de grises. Esto no sucede con imágenes del día a día. Si quisieramos utilizar una red neuronal en imágenes en 4K Ultra HD, sólo la capa de entrada requeriría un tamaño de 26,542,080 nodos (4096 x 2160 x 3 [canales RGB]).\n",
    "\n",
    "Además, las redes neuronales convencionales requieren que la imagen sea transformada a un vector,lo que hace que se pierda cierta información espacial y de correlación entre pixeles. Entonces, en vez de utilizar la información de cada uno de los pixeles por separado, sería más eficiente ver una imagen por 'zonas'. Esta idea es la base para las redes neuronales convolucionales.\n",
    "\n",
    "La idea detrás de las CNN es similar a cómo reconocemos nosotros las imágenes. Por ejemplo, podemos identificar el rostro de una persona por la nariz, los ojos, el cabello, la boca, etc. Pero no sólo nos limitamos a ver si estos elementos están presentes, la forma y la posición de cada uno de ellos también son elementos que nos ayudan a identificar el rostro. Las CNN utilizan información local de ciertas zonas de las imágenes para poder construir patrones cada vez más complejos, ayudando a determinar estructuras más complejas confome los datos pasan a través de las capas.\n",
    "\n",
    "<img src=\"images/featurescomplex.png\" alt=\"Drawing\" style=\"width: 800px;\"/>"
   ]
  },
  {
   "cell_type": "markdown",
   "metadata": {},
   "source": [
    "### Capas de convolución\n",
    "\n",
    "Las CNN utilizan capas de 'filtros' que van recorriendo toda la imagen y comprimen la información de esas regiones. Estos filtros son como una pequeña ventana que se desliza a través de la imagen y van calculando un resultado.\n",
    "\n",
    "<img src=\"images/cnnwindow.png\" alt=\"Drawing\" style=\"width: 600px;\"/>\n",
    "\n",
    "El resultado de aplicar el filtro por todas las posiciones posibles de la imagen da como resultado las entradas que las neuronas de la siguiente capa deben recibir, sólo que ahora las neuronas están ordenadas como una matriz y no como un vector. Cada neurona de la siguiente capa recibe sólo un valor, por lo que a los datos que están dentro de cada ventana se les aplica una función de activación tal y como en una red tradicional.\n",
    "\n",
    "<img src=\"images/cnnwindow2.png\" alt=\"Drawing\" style=\"width: 600px;\"/>\n",
    "\n",
    "\n",
    "Un filtro descubre una característica en particular de la imagen (un trazo, línea), pero para poder describir completamente la imagen requerimos de más de una característica. Es por esto que se utilizan varios filtros por cada ca\n",
    "\n",
    "<img src=\"images/cnnfilter.png\" alt=\"Drawing\" style=\"width: 600px;\"/>"
   ]
  },
  {
   "cell_type": "markdown",
   "metadata": {},
   "source": [
    "### Capas de reducción por muestreo (pooling)"
   ]
  },
  {
   "cell_type": "markdown",
   "metadata": {},
   "source": [
    "Además de calcular los filtros, comúnmente se realiza una operación más para reducir aún más la cantidad de datos que se tiene que procesar dentro de la red neuronal. A este paso se le conoce como reducción por muestreo (**pooling** en inglés). El *pooling* es como otra ventana por la capa de los filtros, pero ahora en vez de calcular pesos va a calcular el valor máximo, el promedio o la suma de todos los elementos que estén en la ventana.\n",
    "\n",
    "<img src=\"images/pooling.png\" alt=\"Drawing\" style=\"width: 700px;\"/>\n",
    "\n",
    "Básicamente, el pooling lo que hace es crear una imagen más pequeña pero con información suficiente para poder detectar los rasgos importantes.\n",
    "\n",
    "<img src=\"images/poolingexample.png\" alt=\"Drawing\" style=\"width: 750px;\"/>"
   ]
  },
  {
   "cell_type": "markdown",
   "metadata": {},
   "source": [
    "### Proceso completo en una CNN\n",
    "\n",
    "Después de aplicar algunas capas de convolución y de pooling, después procedemos como si tuvieramos una red neuronal tradicional: los datos se convierten a vectores, se calculan pesos y se aplican las funciones de activación.\n",
    "\n",
    "<img src=\"images/cnncomplete.jpeg\" alt=\"Drawing\" style=\"width: 750px;\"/>"
   ]
  },
  {
   "cell_type": "markdown",
   "metadata": {},
   "source": [
    "## Clasificación del MNIST con CNN"
   ]
  },
  {
   "cell_type": "code",
   "execution_count": 57,
   "metadata": {},
   "outputs": [
    {
     "name": "stdout",
     "output_type": "stream",
     "text": [
      "(60000, 28, 28)\n",
      "(10000, 28, 28)\n"
     ]
    }
   ],
   "source": [
    "# Cargamos nuevamente los datos para tener las formar originales.\n",
    "(X_train, y_train), (X_test, y_test) = tf.keras.datasets.mnist.load_data()\n",
    "\n",
    "# Vemos otra vez la forma de los datos\n",
    "print(X_train.shape)\n",
    "print(X_test.shape)"
   ]
  },
  {
   "cell_type": "markdown",
   "metadata": {},
   "source": [
    "Cuando utilizamos redes convolucionales, los datos de entrada deben tener 3 dimensiones: largo, ancho y espesor.\n",
    "\n",
    "De los datos de arriba, vemos que hay 60,000 imágenes de 28x28 en los datos de entrenamiento, falta la dimensión de espesor (que en este caso es 1).\n",
    "\n",
    "Hay que convertir los datos a la forma correcta utilizando np.reshape"
   ]
  },
  {
   "cell_type": "code",
   "execution_count": 58,
   "metadata": {},
   "outputs": [
    {
     "name": "stdout",
     "output_type": "stream",
     "text": [
      "(60000, 28, 28, 1)\n",
      "(10000, 28, 28, 1)\n"
     ]
    }
   ],
   "source": [
    "# Convertir a 3 dimensiones las imágenes\n",
    "X_train = np.reshape(X_train, (60000, 28,28, 1))\n",
    "X_test  = np.reshape(X_test, (10000, 28,28, 1))\n",
    "print(X_train.shape)\n",
    "print(X_test.shape)\n",
    "\n",
    "# Guardar la forma de los datos de entrada\n",
    "image_size = (28, 28, 1)"
   ]
  },
  {
   "cell_type": "code",
   "execution_count": 59,
   "metadata": {},
   "outputs": [],
   "source": [
    "# Cambiamos la escala a 0 a 1\n",
    "X_train = X_train/255\n",
    "X_test  = X_test/255"
   ]
  },
  {
   "cell_type": "code",
   "execution_count": 60,
   "metadata": {},
   "outputs": [],
   "source": [
    "# Cambiamos a one.hot encoding las variables de etiqueta\n",
    "num_classes = 10\n",
    "y_train = tf.keras.utils.to_categorical(y_train, num_classes)\n",
    "y_test  = tf.keras.utils.to_categorical(y_test, num_classes)"
   ]
  },
  {
   "cell_type": "code",
   "execution_count": 63,
   "metadata": {},
   "outputs": [
    {
     "name": "stdout",
     "output_type": "stream",
     "text": [
      "Model: \"sequential_5\"\n",
      "_________________________________________________________________\n",
      "Layer (type)                 Output Shape              Param #   \n",
      "=================================================================\n",
      "conv2d (Conv2D)              (None, 24, 24, 32)        832       \n",
      "_________________________________________________________________\n",
      "max_pooling2d (MaxPooling2D) (None, 12, 12, 32)        0         \n",
      "_________________________________________________________________\n",
      "conv2d_1 (Conv2D)            (None, 8, 8, 64)          51264     \n",
      "_________________________________________________________________\n",
      "max_pooling2d_1 (MaxPooling2 (None, 4, 4, 64)          0         \n",
      "_________________________________________________________________\n",
      "flatten (Flatten)            (None, 1024)              0         \n",
      "_________________________________________________________________\n",
      "dense_9 (Dense)              (None, 10)                10250     \n",
      "=================================================================\n",
      "Total params: 62,346\n",
      "Trainable params: 62,346\n",
      "Non-trainable params: 0\n",
      "_________________________________________________________________\n"
     ]
    }
   ],
   "source": [
    "# Importamos las funciones necesarias de Keras.\n",
    "# Una capa de convolución usamos Conv2D\n",
    "# Una capa de pooling (con la operación max) la usamos como MaxPooling2D\n",
    "# Para convertir el resultado de la convolución y pooling a un vector, usamos Flatten\n",
    "\n",
    "from tensorflow.keras.models import Sequential\n",
    "from tensorflow.keras.layers import Dense, Conv2D, Flatten, MaxPooling2D\n",
    "\n",
    "# Creamos un modelo secuencial como en el ejemplo anterior\n",
    "redConv = Sequential()\n",
    "\n",
    "# Agregamos una capa de 32 filtros de 5x5 con función de activación relu\n",
    "redConv.add(Conv2D(filters=32, kernel_size=(5,5), activation='relu', input_shape=image_size))\n",
    "\n",
    "# Agregamos una capa de pooling de 2x2\n",
    "redConv.add(MaxPooling2D(pool_size=(2,2)))\n",
    "\n",
    "## Agregamos una segunda capa de 64 filtros de 5x5\n",
    "redConv.add(Conv2D(filters=64, kernel_size=(5,5), activation='relu'))\n",
    "\n",
    "# Agregamos una capa de pooling de 2x2\n",
    "redConv.add(MaxPooling2D(pool_size=(2,2)))\n",
    "\n",
    "## Para convertir la capa anterior a un vector, usamos flatten\n",
    "redConv.add(Flatten())\n",
    "\n",
    "## Como queremos clasificar en muchas categorías, usamos softmax como función de activación en la capa de salida\n",
    "## El tipo de capa es Dense como en una red normal.\n",
    "redConv.add(Dense(units=num_classes, activation='softmax'))\n",
    "\n",
    "## Mostrar el resumen \n",
    "redConv.summary()"
   ]
  },
  {
   "cell_type": "code",
   "execution_count": 64,
   "metadata": {},
   "outputs": [
    {
     "data": {
      "image/png": "[encoded data removed]",
      "text/plain": [
       "<Figure size 576x432 with 1 Axes>"
      ]
     },
     "metadata": {},
     "output_type": "display_data"
    },
    {
     "name": "stdout",
     "output_type": "stream",
     "text": [
      "Precisión en datos de prueba: 0.958\n"
     ]
    }
   ],
   "source": [
    "## Entrenamos el modelo\n",
    "redConv.compile(loss=  'categorical_crossentropy'   , optimizer=  'sgd'   ,metrics=[ 'accuracy' ])\n",
    "\n",
    "history = redConv.fit(X_train, y_train, batch_size= 128, epochs= 5, validation_split=0.1, verbose=False)\n",
    "loss, accuracy  = redConv.evaluate(X_test, y_test, verbose=False)\n",
    "\n",
    "# Graficar resultados\n",
    "sns.set()\n",
    "plt.figure(figsize=(8,6))\n",
    "plt.plot(history.history['accuracy'])\n",
    "plt.plot(history.history['val_accuracy'])\n",
    "plt.title('Precisión del modelo durante entrenamiento')\n",
    "plt.ylabel('Precisión')\n",
    "plt.xlabel('Época')\n",
    "plt.legend(['Entrenamiento', 'Validación'], loc='best')\n",
    "plt.show()\n",
    "\n",
    "print(f'Precisión en datos de prueba: {accuracy:.3}')"
   ]
  },
  {
   "cell_type": "code",
   "execution_count": 65,
   "metadata": {},
   "outputs": [
    {
     "name": "stdout",
     "output_type": "stream",
     "text": [
      "El valor predicho es: 8 \n",
      "\n",
      "El valor real es:\n"
     ]
    },
    {
     "data": {
      "image/png": "[encoded data removed]",
      "text/plain": [
       "<Figure size 432x288 with 1 Axes>"
      ]
     },
     "metadata": {},
     "output_type": "display_data"
    }
   ],
   "source": [
    "index   = np.random.choice(X_test.shape[0])\n",
    "x_index = X_test[index,:].reshape(1,28,28,1)\n",
    "prediccion = np.squeeze(redConv.predict(x_index))\n",
    "\n",
    "# El vector de predicción contiene los valores de las probabilidades de que sea uno de los dígitos de (0,1,2,...,8,9) en ese\n",
    "# orden. Para encontrar el valor predicho hay que buscar la POSICIÓN con el valor más alto.\n",
    "max_index = np.squeeze(np.where(prediccion==prediccion.max()))\n",
    "\n",
    "# Mostrar el resultado\n",
    "print('El valor predicho es:', max_index, '\\n')\n",
    "print('El valor real es:')\n",
    "\n",
    "sns.set_style('whitegrid')\n",
    "plt.imshow(np.reshape(X_test[index,:],(28,28)), cmap='Greys')\n",
    "plt.show()"
   ]
  },
  {
   "cell_type": "code",
   "execution_count": 67,
   "metadata": {
    "scrolled": true
   },
   "outputs": [
    {
     "name": "stdout",
     "output_type": "stream",
     "text": [
      "Train on 60000 samples\n",
      "Epoch 1/3\n",
      "60000/60000 [==============================] - 97s 2ms/sample - loss: 0.1869 - accuracy: 0.9438\n",
      "Epoch 2/3\n",
      "60000/60000 [==============================] - 98s 2ms/sample - loss: 0.0666 - accuracy: 0.9800\n",
      "Epoch 3/3\n",
      "60000/60000 [==============================] - 97s 2ms/sample - loss: 0.0425 - accuracy: 0.9864\n",
      "10000/1 [================================================================================================================================================================================================================================================================================================================================================================================================================================================================================================================================================================================================================================================================================================================================================================================================================================================================================================================================================================================================================================================================================================================================================================================================================================================================================================================================================================================================================================================================================================================================================================================================================================================================================================================================================================================================================================================================================================================================================================================================================================================================================================================================================================================================================================================================================================================================================================================================================================================================================================================================================================================================================================================================================================================================================================================================================================================================================================================================================================================================================================================================================================================================================================================================================================================================================================================================================================================================================================================================================================================================================================================================================================================================================================================================================================================================================================================================================================================================================================================================================================================================================================================================================================================================================================================================================================================================================================================================================================================================================================================================================================================================================================================================================================================================================================================================================================================================================================================================================================================================================================================================================================================================================================================================================================================================================================================================================================================================================================================================================================================================================================================================================================================================================================================================================================================================================================================================================================================================================================================================================================================================================================================================================================================================================================================================================================================================================================================================================================================================================================================================================================================================================================================================================================================================================================================================================================================================================================================================================================================================================================================================================================================================================================================================================================================================================================================================================================================================================================================================================================================================================================================================================================================================================================================================================================================================================================================================================================================================================================================================================================================================================================================================================================================================================================================================================================================================================================================================================================================================================================================================================================================================================================================================================================================================================================================================================================================================================================================================================================================================================================================================================================================================================================================================================================================================================================================================================================================================================================================================================================================================================================================================================================================================================================================================================================================================================================================================================================================================================================================================================================================================================================================================================================================================================================================================================================================================================================================================================================================================================================================================================================================================================================================================================================================================================================================================================================================================================================================================================================================================================================================================================================================================================================================================================================================================================================================================================================================================================================================================================================================================================================================================================================================================================================================================================================================================================================================================================================================================================================================================================================================================================================================================================================================================================================================================================================================================================================================================================================================================================================================================================================================================================================================================================================================================================================================================================================================================================================================================================================================================================================================================================================================================================================================================================================================================================================================================================================================================================================================================================================================================================================================================================================================================================================================================================================================================================================================================================================================================================================================================================================================================================================================================================================================================================================================================================================================================================================================================================================================================================================================================================================================================================================================================================================================================================================================================================================================================================================================================================================================================================================================================================================================================================================================================================================================================================================================================================================================================================================================================================================================================================================================================================================================================================================================================================================================================================================================================================================================================================================================================================================================================================================================================================================================================================================================================================================================================================================================================================================================================================================================================================================================================================================================================================================================================================================================================================================================================================================================================================================================================================================================================================================================================================================================================================================================================================================================================================================================================================================================================================================================================================================================================================================================================================================================================================================================================================================================================================================================================================================================================================================================================================================================================================================================================================================================================================================================================================================================================================================================================================================================================================================================================================================================================================================================================================================================================================================================================================================================================================================================================================================================================================================================================================================================================================================================================================================================================================================================================================================================================================================================================================================================================================================================================================================================================================================================================================================================================================================================================================================================================================================================================================================================================================================================================================================================================================================================================================================================================================================================================================================================================================================================================================================================================================================================================================================================================================================================================================================================================================================================================================================================================================================================================================================================================================================================================================================================================================================================================================================================================================================================================================================================================================================================================================================================================================================================================================================================================================================================================================================================================================================================================================================================================================================================================================================================================================================================================================================================================================================================================================================================================================================================================================================================================================================================================================================================================================================================================================================================================================================================================================================================================================================================================================================================================================================================================================================================================================================================================================================================================================================================================================================================================================================================================================================================================================================================================================================================================================================================================================================================================================================================================================================================================================================================================================================================================================================================================================================================================================================================================================================================================================================================================================================================================================================================================================================================================================================================================================================================================================================================================================================================================================================================================================================================================================================================================================================================================================================================================================================================================================================================================================================================================================================================================================================================================================================================================================================================================================================================================================================================================================================================================================================================================================================================================================================================================================================================================================================================================================================================================================================================================================================================================================================================================================================================================================================================================================================================================================================================================================================================================================================================================================================================================================================================================================================================================================================================================================================================================================================================================================================================================================================================================================================================================================================================================================================================================================================================================================================================================================================================================================================================================================================================================================================================================================================================================================================================================================================================================================================================================================================================================================================================================================================================================================================================================================================================================================================================================================================================================================================================================================================================================================================================================================================================================================================================================================================================================================================================================================================================================================================================================================================================================================================================================================================================================================================================================================================================================================================================================================================================================================================================================================================================================================================================================================================================================================================================================================================================================================================================================================================================================================================================================================================================================================================================================================================================================================================================================================================================================================================================================================================================================================================================================================================================================================================================================================================================================================================================================================================================================================================================================================================================================================================================================================================================================================================================================================================================================================================================================================================================================================================================================================================================================================================================================================================================================================================================================================================================================================================================================================================================================================================================================================================================================================================================================================================================================================================================================================================================================================================================================================================================================================================================================================================================================================================================================================================================================================================================================================================================================================================================================================================================================================================================================================================================================================================================================================================================================================================================================================================================================================================================================================================================================================================================================================================================================================================================================================================================================================================================================================================================================================================================================================================================================================================================================================================================================================================================================================================================================================================================================================================================================================================================================================================================================================================================================================================================================================================================================================================================================================================================================================================================================================================================================================================================================================================================================================================================================================================================================================================================================================================================================================================================================================================================================================================================================================================================================================================================================================================================================================================================================================================================================================================================================================================================================================================================================================================================================================================================================================================================================================================================================================================================================================================================================================================================================================================================================================================================================================================================================================================================================================================================================================================================================================================================================================================================================================================================================================================================================================================================================================================================================================================================================================================================================================================================================================================================================================================================================================================================================================================================================================================================================================================================================================================================================================================================================================================================================================================================================================================================================================================================================================================================================================================================================================================================================================================================================================================================================================================================================================================================================================================================================================================================================================================================================================================================================================================================================================================================================================================================================================================================================================================================================================================================================================================================================================================================================================================================================================================================================================================================================================================================================================================================================================================================================================================================================================================================================================================================================================================================================================================================================================================================================================================================================================================================================================================================================================================================================================================================================================================================================================================================================================================================================================================================================================================================================================================================================================================================================================================================================================================================================================================================================================================================================================================================================================================================================================================================================================================================================================================================================================================================================================================================================================================================================================================================================================================================================================================================================================================================================================================================================================================================================================================================================================================================================================================================================================================================================================================================================================================================================================================================================================================================================================================================================================================================================================================================================================================================================================================================================================================================================================================================================================================================================================================================================================================================================================================================================================================================================================================================================================================================================================================================================================================================================================================================================================================================================================================================================================================================================================================================================================================================================================================================================================================================================================================================================================================================================================================================================================================================================================================================================================================================================================================================================================================================================================================================================================================================================================================================================================================================================================================================================================================================================================================================================================================================================================================================================================================================================================================================================================================================================================================================================================================================================================================================================================================================================================================================================================================================================================================================================================================================================================================================================================================================================================================================================================================================================================================================================================================================================================================================================================================================================================================================================================================================================================================================================================================================================================================================================================================================================================================================================================================================================================================================================================================================================================================================================================================================================================================================================================================================================================================================================================================================================================================================================================================================================================================================================================================================================================================================================================================================================================================================================================================================================================================================================================================================================================================================================================================================================================================================================================================================================================================================================================================================================================================================================================================================================================================================================================================================================================================================================================================================================================================================================================================================================================================================================================================================================================================================================================================================================================================================================================================================================================================================================================================================================================================================================================================================================================================================================================================================================================================================================================================================================================================================================================================================================================================================================================================================================================================================================================================================================================================================================================================================================================================================================================================================================================================================================================================================================================================================================================================================================================================================================================================================================================================================================================================================================================================================================================================================================================================================================================================================================================================================================================================================================================================================================================================================================================================================================================================================================================================================================================================================================================================================================================================================================================================================================================================================================================================================================================================================================================================================================================================================================================================================================================================================================================================================================================================================================================================================================================================================================================================================================================================================================================================================================================================================================================================================================================================================================================================================================================================================================================================================================================================================================================================================================================================================================================================================================================================================================================================================================================================================================================================================================================================================================================================================================================================================================================================================================================================================================================================================================================================================================================================================================================================================================================================================================================================================================================================================================================================================================================================================================================================================================================================================================================================================================================================================================================================================================================================================================================================================================================================================================================================================================================================================================================================================================================================================================================================================================================================================================================================================================================================================================================================================================================================================================================================================================================================================================================================================================================================================================================================================================================================================================================================================================================================================================================================================================================================================================================================================================================================================================================================================================================================================================================================================================================================================================================================================================================================================================================================================================================================================================================================================================================================================================================================================================================================================================================================================================================================================================================================================================================================================================================================================================================================================================================================================================================================================================================================================================================================================================================================================================================================================================================================================================================================================================================================================================================================================================================================================================================================================================================================================================================================================================================================================================================================================================================================================================================================================================================================================================================================================================================================================================================================================================================================================================================================================================================================================================================================================================================================================================================================================================================================================================================================================================================================================================================================================================================================================================================================================================================================================================================================================================================================================================================================================================================================================================================================================================================================================================================================================================================================================================================================================================================================================================================================================================================================================================================================================================================================================================================================================================================================================================================================================================================================================================================================================================================================================================================================================================================================================================================================================================================================================================================================================================================================================================================================================================================================================================================================================================================================================================================================================================================================================================================================================================================================================================================================================================================================================================================================================================================================================================================================================================================================================================================================================================================================================================================================================================================================================================================================================================================================================================================================================================================================================================================================================================================================================================================================================================================================================================================================================================================================================================================================================================================================================================================================================================================================================================================================================================================================================================================================================================================================================================================================================================================================================================================================================================================================================================================================================================================================================================================================================================================================================================================================================================================================================================================================================================================================================================================================================================================================================================================================================================================================================================================================================================================================================================================================================================================================================================================================================================================================================================================================================================================================================================================================================================================================================================================================================================================================================================================================================================================================================================================================================================================================================================================================================================================================================================================================================================================================================================================================================================================================================================================================================================================================================================================================================================================================================================================================================================================================================================================================================================================================================================================================================================================================================================================================================================================================================================================================================================================================================================================================================================================================================================================================================================================================================================================================================================================================================================================================================================================================================================================================================================================================================================================================================================================================================================================================================================================================================================================================================================================================================================================================================================================================================================================================================================================================================================================================================================================================================================================================================================================================================================================================================================================================================================================================================================================================================================================================================================================================================================================================================================================================================================================================================================================================================================================================================================================================================================================================================================================================================================================================================================================================================================================================================================================================================================================================================================================================================================================================================================================================================================================================================================================================================================================================================================================================================================================================================================================================================================================================================================================================================================================================================================================================================================================================================================================================================================================================================================================================================================================================================================================================================================================================================================================================================================================================================================================================================================================================================================================================================================================================================================================================================================================================================================================================================================================================================================================================================================================================================================================================================================================================================================================================================================================================================================================================================================================================================================================================================================================================================================================================================================================================================================================================================================================================================================================================================================================================================================================================================================================================================================================================================================================================================================================================================================================================================================================================================================================================================================================================================================================================================================================================================================================================================================================================================================================================================================================================================================================================================================================================================================================================================================================================================================================================================================================================================================================================================================================================================================================================================================================================================================================================================================================================================================================================================================================================================================================================================================================================================================================================================================================================================================================================================================================================================================================================================================================================================================================================================================================================================================================================================================================================================================================================================================================================================================================================================================================================================================================================================================================================================================================================================================================================================================================================================================================================================================================================================================================================================================================================================================================================================================================================================================================================================================================================================================================================================================================================================================================================================================================================================================================================================================================================================================================================================================================================================================================================================================================================================================================================================================================================================================================================================================================================================================================================================================================================================================================================================================================================================================================================================================================================================================================================================================================================================================================================================================================================================================================================================================================================================================================================================================================================================================================================================================================================================================================================================================================================================================================================================================================================================================================================================================================================================================================================================================================================================================================================================================================================================================================================================================================================================================================================================================================================================================================================================================================================================================================================================================================================================================================================================================================================================================================================================================================================================================================================================================================================================================================================================================================================================================================================================================================================================================================================================================================================================================================================================================================================================================================================================================================================================================================================================================================================================================================================================================================================================================================================================================================================================================================================================================================================================================================================================================================================================================================================================================================================================================================================================================================================================================================================================================================================================================================================================================================================================================================================================================================================================================================================================================================================================================================================================================================================================================================================================================================================================================================================================================================================================================================================================================================================================================================================================================================================================================================================================================================================================================================================================================================================================================================================================================================================================================================================================================================================================================================================================================================================================================================================================================================================================================================================================================================================================================================================================================================================================================================================================================================================================================================================================================================================================================================================================================================================================================================================================================================================================================================================================================================================================================================================================================================================================================================================================================================================================================================================================================================================================================================================================================================================================================================================================================================================================================================================================================================================================================================================================================================================================================================================================================================================================================================================================================================================================================================================================================================================================================================================================================================================================================================================================================================================================================================================================================================================================================================================================================================================================================================================================================================================================================================================================================================================================================================================================================================================================================================================================================================================================================================================================================================================================================================================================================================================================================================================================================================================================================================================================================================================================================================================================================================================================================================================================================================================================================================================================================================================================================================================================================================================================================================================================================================================================================================================================================================================================================================================================================================================================================================================================================================================================================================================================================================================================================================================================================================================================================================================================================================================================================================================================================================================================================================================================================================================================================================================================================================================================================================================================================================================================================================================================================================================================================================================================================================================================================================================================================================================================================================================================================================================================================================================================================================================================================================================================================================================================================================================================================================================================================================================================================================================================================================================================================================================================================================================================================================================================================================================================================================================================================================================================================================================================================================================================================================================================================================================================================================================================================================================================================================================================================================================================================================================================================================================================================================================================================================================================================================================================================================================================================================================================================================================================================================================================================================================================================================================================================================================================================================================================================================================================================================================================================================================================================================================================================================================================================================================================================================================================================================================================================================================================================================================================================================================================================================================================================================================================================================================================================================================================================================================================================================================================================================================================================================================================================================================================================================================================================================================================================================================================================================================================================================================================================================================================================================================================================================================================================================================================================================================================================================================================================================================================================================================================================================================================================================================================================================================================================================================================================================================================================================================================================================================================================================================================================================================================================================================================================================================================================================================================================================================================================================================================================================================================================================================================================================================================================================================================================================================================================================================================================================================================================================================================================================================================================================================================================================================================================================================================================================================================================================================================================================================================================================================================================================================================================================================================================================================================================================================================================================================================================================================================================================================================================================================================================================================================================================================================================================================================================================================================================================================================================================================================================================================================================================================================================================================================================================================================================================================================================================================================================================================================================================================================================================================================================================================================================================================================================================================================================================================================================================================================================================================================================================================================================================================================================================================================================================================================================================================================================================================================================================================================================================================================================================================================================================================================================================================================================================================================================================================================================================================================================================================================================================================================================================================================================================================================================================================================================================================================================================================================================================================================================================================================================================================================================================================================================================================================================================================================================================================================================================================================================================================================================================================================================================================================================================================================================================================================================================================================================================================================================================================================================================================================================================================================================================================================================================================================================================================================================================================================================================================================================================================================================================================================================================================================================================================================================================================================================================================================================================================================================================================================================================================================================================================================================================================================================================================================================================================================================================================================================================================================================================================================================================================================================================================================================================================================================================================================================================================================================================================================================================================================================================================================================================================================================================================================================================================================================================================================================================================================================================================================================================================================================================================================================================================================================================================================================================================================================================================================================================================================================================================================================================================================================================================================================================================================================================================================================================================================================================================================================================================================================================================================================================================================================================================================================================================================================================================================================================================================================================================================================================================================================================================================================================================================================================================================================================================================================================================================================================================================================================================================================================================================================================================================================================================================================================================================================================================================================================================================================================================================================================================================================================================================================================================================================================================================================================================================================================================================================================================================================================================================================================================================================================================================================================================================================================================================================================================================================================================================================================================================================================================================================================================================================================================================================================================================================================================================================================================================================================================================================================================================================================================================================================================================================================================================================================================================================================================================================================================================================================================================================================================================================================================================================================================================================================================================================================================================================================================================================================================================================================================================================================================================================================================================================================================================================================================================================================================================================================================================================================================================================================================================================================================================================================================================================================================================================================================================================================================================================================================================================================================================================================================================================================================================================================================================================================================================================================================================================================================================================================================================================================================================================================================================================================================================================================================================================================================================================================================================================================================================================================================================================================================================================================================================================================================================================================================================================================================================================================================================================================================================================================================================================================================================================================================================================================================================================================================================================================================================================================================================================================================================================================================================================================================================================================================================================================================================================================================================================================================================================================================================================================================================================================================================================================================================================================================================================================================================================================================================================================================================================================================================================================================================================================================================================================================================================================================================================================================================================================================================================================================================================================================================================================================================================================================================================================================================================================================================================================================================================================================================================================================================================================================================================================================================================================================================================================================================================================================================================================================================================================================================================================================================================================================================================================================================================================================================================================================================================================================================================================================================================================================================================================================================================================================================================================================================================================================================================================================================================================================================================================================================================================================================================================================================================================================================================================================================================================================================================================================================================================================================================================================================================================================================================================================================================================================================================================================================================================================================================================================================================================================================================================================================================================================================================================================================================================================================================================================================================================================================================================================================================================================================================================================================================================================================================================================================================================================================================================================================================================================================================================================================================================================================================================================================================================================================================================================================================================================================================================================================================================================================================================================================================================================================================================================================================================================================================================================================================================================================================================================================================================================================================================================================================================================================================================================================================================================================================================================================================================================================================================================================================================================================================================================================================================================================================================================================================================================================================================================================================================================================================================================================================================================================================================================================================================================================================================================================================================================================================================================================================================================================================================================================================================================================================================================================================================================================================================================================================================================================================================================================================================================================================================================================================================================================================================================================================================================================================================================================================================================================================================================================================================================================================================================================================================================================================================================================================================================================================================================================================================================================================================================================================================================================================================================================================================================================================================================================================================================================================================================================================================================================================================================================================================================================================================================================================================================================================================================================================================================================================================================================================================================================================================================================================================================================================================================================================================================================================================================================================================================================================================================================================================================================================================================================================================================================================================================================================================================================================================================================================================================================================================================================================================================================================================================================================================================================================================================================================================================================================================================================================================================================================================================================================================================================================================================================================================================================================================================================================================================================================================================================================================================================================================================================================================================================================================================================================================================================================================================================================================================================================================================================================================================================================================================================================================================================================================================================================================================================================================================================================================================================================================================================================================================================================================================================================================================================================================================================================================================================================================================================================================================================================================================================================================================================================================================================================================================================================================================================================================================================================================================================================================================================================================================================================================================================================================================================================================================================================================================================================================================================================================================================================================================================================================================================================================================================================================================================================================================================================================================================================================================================================================================================================================================================================================================================================================================================================================================================================================================================================================================================================================================================================================================================================================================================================================================================================================================================================================================================================================================================================================================================================================================================================================================================================================================================================================================================================================================================================================================================================================================================================================================================================================================================================================================================================================================================================================================================================================================================================================================================================================================================================================================================================================================================================================================================================================================================================================================================================================================================================================================================================================================================================================================================================================================================================================================================================================================================================================================================================================================================================================================================================================================================================================================================================================================================================================================================================================================================================================================================================================================================================================================================================================================================================================================================================================================================================================================================================================================================================================================================================================================================================================================================================================================================================================================================================================================================================================================================================================================================================================================================================================================================================================================================================================================================================================================================================================================================================================================================================================================================================================================================================================================================================================================================================================================================================================================================================================================================================================================================================================================================================================================================================================================================================================================================================================================================================================================================================================================================================================================================================================================================================================================================================================================================================================================================================================================================================================================================================================================================================================================================================================================================================================================================================================================================================================================================================================================================================================================================================================================================================================================================================================================================================================================================================================================================================================================================================================================================================================================================================================================================================================================================================================================================================================================================================================================================================================================================================================================================================================================================================================================================================================================================================================================================================================================================================================================================================================================================================================================================================================================================================================================================================================================================================================================================================================================================================================================================================================================================================================================================================================================================================================================================================================================================================================================================================================================================================================================================================================================================================================================================================================================================================================================================================================================================================================================================================================================================================================================================================================================================================================================================================================================================================================================================================================================================================================================================================================================================================================================================================================================================================================================================================================================================================================================================================================================================================================================================================================================================================================================================================================================================================================================================================================================================================================================================================================================================================================================================================================================================================================================================================================================================================================================================================================================================================================================================================================================================================================================================================================================================================================================================================================================================================================================================================================================================================================================================================================================================================================================================================================================================================================================================================================================================================================================================================================================================================================================================================================================================================================================================================================================================================================================================================================================================================================================================================================================================================================================================================================================================================================================================================================================================================================================================================================================================================================================================================================================================================================================================================================================================================================================================================================================================================================================================================================================================================================================================================================================================================================================================================================================================================================================================================================================================================================================================================================================================================================================================================================================================================================================================================================================================================================================================================================================================================================================================================================================================================================================================================================================================================================================================================================================================================================================================================================================================================================================================================================================================================================================================================================================================================================================================================================================================================================================================================================================================================================================================================================================================================================================================================================================================================================================================================================================================================================================================================================================================================================================================================================================================================================================================================================================================================================================================================================================================================================================================================================================================================================================================================================================================================================================================================================================================================================================================================================================================================================================================================================================================================================================================================================================================================================================================================================================================================================================================================================================================================================================================================================================================================================================================================================================================================================================================================================================================================================================================================================================================================================================================================================================================================================================================================================================================================================================================================================================================================================================================================================================================================================================================================================================================================================================================================================================================================================================================================================================================================================================================================================================================================================================================================================================================================================================================================================================================================================================================================================================================================================================================================================================================================================================================================================================================================================================================================================================================================================================================================================================================================================================================================================================================================================================================================================================================================================================================================================================================================================================================================================================================================================================================================================================================================================================================================================================================================================================================================================================================================================================================================================================================================================================================================================================================================================================================================================================================================================================================================================================================================================================================================================================================================================================================================================================================================================================================================================================================================================================================================================================================================================================================================================================================================================================================================================================================================================================================================================================================================================================================================================================================================================================================================================================================================================================================================================================================================================================================================================================================================================================================================================================================================================================================================================================================================================================================================================================================================================================================================================================================================================================================================================================================================================================================================================================================================================================================================================================================================================================================================================================================================================================================================================================================================================================================================================================================================================================================================================================================================================================================================================================================================================================================================================================================================================================================================================================================================================================================================================================================================================================================================================================================================================================================================================================================================================================================================================================================================================================================================================================================================================================================================================================================================================================================================================================================================================================================================================================================================================================================================================================================================================================================================================================================================================================================================================================================================================================================================================================================================================================================================================================================================================================================================================================================================================================================================================================================================================================================================================================================================================================================================================================================================================================================================================================================================================================================================================================================================================================================================================================================================================================================================================================================================================================================================================================================================================================================================================================================================================================================================================================================================================================================================================================================================================================================================================================================================================================================================================================================================================================================================================================================================================================================================================================================================================================================================================================================================================================================================================================================================================================================================================================================================================================================================================================================================================================================================================================================================================================================================================================================================================================================================================================================================================================================================================================================================================================================================================================================================================================================================================================================================================================================================================================================================================================================================================================================================================================================================================================================================================================================================================================================================================================================================================================================================================================================================================================================================================================================================================================================================================================================================================================================================================================================================================================================================================================================================================================================================================================================================================================================================================================================================================================================================================================================================================================================================================================================================================================================================================================================================================================================================================================================================================================================================================================================================================================================================================================================================================================================================================================================================================================================================================================================================================================================================================================================================================================================================================================================================================================================================================================================================================================================================================================================================================================================================================================================================================================================================================================================================================================================================================================================================================================================================================================================================================================================================================================================================================================================================================================================================================================================================================================================================================================================================================================================================================================================================================================================================================================================================================================================================================================================================================================================================================================================================================================================================================================================================================================================================================================================================================================================================================================================================================================================================================================================================================================================================================================================================================================================================================================================================================================================================================================================================================================================================================================================================================================================================================================================================================================================================================================================================================================================================================================================================================================================================================================================================================================================================================================================================================================================================================================================================================================================================================================================================================================================================================================================================================================================================================================================================================================================================================================================================================================================================================================================================================================================================================================================================================================================================================================================================================================================================================================================================================================================================================================================================================================================================================================================================================================================================================================================================================================================================================================================================================================================================================================================================================================================================================================================================================================================================================================================================================================================================================================================================================================================================================================================================================================================================================================================================================================================================================================================================================================================================================================================================================================================================================================================================================================================================================================================================================================================================================================================================================================================================================================================================================================================================================================================================================================================================================================================================================================================================================================================================================================================================================================================================================================================================================================================================================================================================================================================================================================================================================================================================================================================================================================================================================================================================================================================================================================================================================================================================================================================================================================================================================================================================================================================================================================================================================================================================================================================================================================================================================================================================================================================================================================================================================================================================================================================================================================================================================================================================================================================================================================================================================================================================================================================================================================================================================================================================================================================================================================================================================================================================================================================================================================================================================================================================================================================================================================================================================================================================================================================================================================================================================================================================================================================================================================================================================================================================================================================================================================================================================================================================================================================================================================================================================================================================================================================================================================================================================================================================================================================================================================================================================================================================================================================================================================================================================================================================================================================================================================================================================================================================================================================================================================================================================================================================================================================================================================================================================================================================================================================================================================================================================================================================================================================================================================================================================================================================================================================================================================================================================================================================================================================================================================================================================================================================================================================================================================================================================================================================================================================================================================================================================================================================================================================================================================================================================================================================================================================================================================================================================================================================================================================================================================================================================================================================================================================================================================================================================================================================================================================================================================================================================================================================================================================================================================================================================================================================================================================================================================================================================================================================================================================================================================================================================================================================================================================================================================================================================================================================================================================================================================================================================================================================================================================================================================================================================================================================================================================================================================================================================================================================================================================================================================================================================================================================================================================================================================================================================================================================================================================================================================================================================================================================================================================================================================================================================================================================================================================================================================================================================================================================================================================================================================================================================================================================================================================================================================================================================================================================================================================================================================================================================================================================================================================================================================================================================================================================================================================================================================================================================================================================================================================================================================================================================================================================================================================================================================================================================================================================================================================================================================================================================================================================================================================================================================================================================================================================================================================================================================================================================================================================================================================================================================================================================================================================================================================================================================================================================================================================================================================================================================================================================================================================================================================================================================================================================================================================================================================================================================================================================================================================================================================================================================================================================================================================================================================================================================================================================================================================================================================================================================================================================================================================================================================================================================================================================================================================================================================================================================================================================================================================================================================================================================================================================================================================================================================================================================================================================================================================================================================================================================================================================================================================================================================================================================================================================================================================================================================================================================================================================================================================================================================================================================================================================================================================================================================================================================================================================================================================================================================================================================================================================================================================================================================================================================================================================================================================================================================================================================================================================================================================================================================================================================================================================================================================================================================================================================================================================================================================================================================================================================================================================================================================================================================================================================================================================================================================================================================================================================================================================================================================================================================================================================================================================================================================================================================================================================================================================================================================================================================================================================================================================================================================================================================================================================================================================================================================================================================================================================================================================================================================================================================================================================================================================================================================================================================================================================================================================================================================================================================================================================================================================================================================================================================================================================================================================================================================================================================================================================================================================================================================================================================================================================================================================================================================================================================================================================================================================================================================================================================================================================================================================================================================================================================================================================================================================================================================================================================================================================================================================================================================================================================================================================================================================================================================================================================================================================================================================================================================================================================================================================================================================================================================================================================================================================================================================================================================================================================================================================================================================================================================================================================================================================================================================================================================================================================================================================================================================================================================================================================================================================================================================================================================================================================================================================================================================================================================================================================================================================================================================================================================================================================================================================================================================================================================================================================================================================================================================================================================================================================================================================================================================================================================================================================================================================================================================================================================================================================================================================================================================================================================================================================================================================================================================================================================================================================================================================================================================================================================================================================================================================================================================================================================================================================================================================================================================================================================================================================================================================================================================================================================================================================================================================================================================================================================================================================================================================================================================================================================================================================================================================================================================================================================================================================================================================================================================================================================================================================================================================================================================================================================================================================================================================================================================================================================================================================================================================================================================================================================================================================================================================================================================================================================================================================================================================================================================================================================================================================================================================================================================================================================================================================================================================================================================================================================================================================================================================================================================================================================================================================================================================================================================================================================================================================================================================================================================================================================================================================================================================================================================================================================================================================================================================================================================================================================================================================================================================================================================================================================================================================================================================================================================================================================================================================================================================================================================================================================================================================================================================================================================================================================================================================================================================================================================================================================================================================================================================================================================================================================================================================================================================================================================================================================================================================================================================================================================================================================================================================================================================================================================================================================================================================================================================================================================================================================================================================================================================================================================================================================================================================================================================================================================================================================================================================================================================================================================================================================================================================================================================================================================================================================================================================================================================================================================================================================================================================================================================================================================================================================================================================================================================================================================================================================================================================================================================================================================================================================================================================================================================================================================================================================================================================================================================================================================================================================================================================================================================================================================================================================================================================================================================================================================================================================================================================================================================================================================================================================================================================================================================================================================================================================================================================================================================================================================================================================================================================================================================================================================================================================================================================================================================================================================================================================================================================================================================================================================================================================================================================================================================================================================================================================================================================================================================================================================================================================================================================================================================================================================================================================================================================================================================================================================================================================================================================================================================================================================================================================================================================================================================================================================================================================================================================================================================================================================================================================================================================================================================================================================================================================================================================================================================================================================================================================================================================================================================================================================================================================================================================================================================================================================================================================================================================================================================================================================================================================================================================================================================================================================================================================================================================================================================================================================================================================================================================================================================================================================================================================================================================================================================================================================================================================================================================================================================================================================================================================================================================================================================================================================================================================================================================================================================================================================================================================================================================================================================================================================================================================================================================================================================================================================================================================================================================================================================================================================================================================================================================================================================================================================================================================================================================================================================================================================================================================================================================================================================================================================================================================================================================================================================================================================================================================================================================================================================================================================================================================================================================================================================================================================================================================================================================================================================================================================================================================================================================================================================================================================================================================================================================================================================================================================================================================================================================================================================================================================================================================================================================================================================================================================================================================================================================================================================================================================================================================================================================================================================================================================================================================================================================================================================================================================================================================================================================================================================================================================================================================================================================================================================================================================================================================================================================================================================================================================================================================================================================================================================================================================================================================================================================================================================================================================================================================================================================================================================================================================================================================================================================================================================================================================================================================================================================================================================================================================================================================================================================================================================================================================================================================================================================================================================================================================================================================================================================================================================================================================================================================================================================================================================================================================================================================================================================================================================================================================================================================================================================================================================================================================================================================================================================================================================================================================================================================================================================================================================================================================================================================================================================================================================================================================================================================================================================================================================================================================================================================================================================================================================================================================================================================================================================================================================================================================================================================================================================================================================================================================================================================================================================================================================================================================================================================================================================================================================================================================================================================================================================================================================================================================================================================================================================================================================================================================================================================================================================================================================================================================================================================================================================================================================================================================================================================================================================================================================================================================================================================================================================================================================================================================================================================================================================================================================================================================================================================================================================================================================================================================================================================================================================================================================================================================================================================================================================================================================================================================================================================================================================================================================================================================================================================================================================================================================================================================================================================================================================================================================================================================================================================================================================================================================================================================================================================================================================================================================================================================================================================================================================================================================================================================================================================================================================================================================================================================================================================================================================================================================================================================================================================================================================================================================================================================================================================================================================================================================================================================================================================================================================================================================================================================================================================================================================================================================================================================================================================================================================================================================================================================================================================================================================================================================================================================================================================================================================================================================================================================================================================================================================================================================================================================================================================================================================================================================================================================================================================================================================================================================================================================================================================================================================================================================================================================================================================================================================================================================================================================================================================================================================================================================================================================================================================================================================================================================================================================================================================================================================================================================================================================================================================================================================================================================================================================================================================================================================================================================================================================================================================================================================================================================================================================================================================================================================================================================================================================================================================================================================================================================================================================================================================================================================================================================================================================================================================================================================================================================================================================================================================================================================================================================================================================================================================================================================================================================================================================================================================================================================================================================================================================================================================================================================================================================================================================================================================================================================================================================================================================================================================================================================================================================================================================================================================================================================================================================================================================================================================================================================================================================================================================================================================================================================================================================================================================================================================================================================================================================================================================================================================================================================================================================================================================================================================================================================================================================================================================================================================================================================================================================================================================================================================================================================================================================================================================================================================================================================================================================================================================================================================================================================================================================================================================================================================================================================================================================================================================================================================================================================================================================================================================================================================================================================================================================================================================================================================================================================================================================================================================================================================================================================================================================================================================================================================================================================================================================================================================================================================================================================================================================================================================================================================================================================================================================================================================================================================================================================================================================================================================================================================================================================================================================================================================================================================================================================================================================================================================================================================================================================================================================================================================================================================================================================================================================================================================================================================================================================================================================================================================================================================================================================================================================================================================================================================================================================================================================================================================================================================================================================================================================================================================================================================================================================================================================================================================================================================================================================================================================================================================================================================================================================================================================================================================================================================================================================================================================================================================================================================================================================================================================================================================================================================================================================================================================================================================================================================================================================================================================================================================================================================================================================================================================================================================================================================================================================================================================================================================================================================================================================================================================================================================================================================================================================================================================================================================================================================================================================================================================================================================================================================================================================================================================================================================================================================================================================================================================================================================================================================================================================================================================================================================================================================================================================================================================================================================================================================================================================================================================================================================================================================================================================================================================================================================================================================================================================================================================================================================================================================================================================================================================================================================================================================================================================================================================================================================================================================================================================================================================================================================================================================================================================================================================================================================================================================================================================================================================================================================================================================================================================================================================================================================================================================================================================================================================================================================================================================================================================================================================================================================================================================================================================================================================================================================================================================================================================================================================================================================================================================================================================================================================================================================================================================================================================================================================================================================================================================================================================================================================================================================================================================================================================================================================================================================================================================================================================================================================================================================================================================================================================================================================================================================================================================================================================================================================================================================================================================================================================================================================================================================================================================================================================================================================================================================================================================================================================================================================================================================================================================================================================================================================================================================================================================================================================================================================================================================================================================================================================================================================================================================================================================================================================================================================================================================================================================================================================================================================================================================================================================================================================================================================================================================================================================================================================================================================================================================================================================================================================================================================================================================================================================================================================================================================================================================================================================================================================================================================================================================================================================================================================================================================================================================================================================================================================================================================================================================================================================================================================================================================================================================================================================================================================================================================================================================================================================================================================================================================================================================================================================================================================================================================================================================================================================================================================================================================================================================================================================================================================================================================================================================================================================================================================================================================================================================================================================================================================================================================================================================================================================================================================================================================================================================================================================================================================================================================================================================================================================================================================================================================================================================================================================================================================================================================================================================================================================================================================================================================================================================================================================================================================================================================================================================================================================================================================================================================================================================================================================================================================================================================================================================================================================================================================================================================================================================================================================================================================================================================================================================================================================================================================================================================================================================================================================================================================================================================================================================================================================================================================================================================================================================================================================================================================================================================================================================================================================================================================================================================================================================================================================================================================================================================================================================================================================================================================================================================================================================================================================================================================================================================================================================================================================================================================================================================================================================================================================================================================================================================================================================================================================================================================================================================================================================================================================================================================================================================================================================================================================================================================================================================================================================================================================================================================================================================================================================================================================================================================================================================================================================================================================================================================================================================================================================================================================================================================================================================================================================================================================================================================================================================================================================================================================================================================================================================================================================================================================================================================================================================================================================================================================================================================================================================================================================================================================================================================================================================================================================================================================================================================================================================================================================================================================================================================================================================================================================================================================================================================================================================================================================================================================================================================================================================================================================================================================================================================================================================================================================================================================================================================================================================================================================================================================================================================================================================================================================================================================================================================================================================================================================================================================================================================================================================================================================================================================================================================================================================================================================================================================================================================================================================================================================================================================================================================================================================================================================================================================================================================================================================================================================================================================================================================================================================================================================================================================================================================================================================================================================================================================================================================================================================================================================================================================================================================================================================================================================================================================================================================================================================================================================================================================================================================================================================================================================================================================================================================================================================================================================================================================================================================================================================================================================================================================================================================================================================================================================================================================================================================================================================================================================================================================================================================================================================================================================================================================================================================================================================================================================================================================================================================================================================================================================================================================================================================================================================================================================================================================================================================================================================================================================================================================================================================================================================================================================================================================================================================================================================================================================================================================================================================================================================================================================================================================================================================================================================================================================================================================================================================================================================================================================================================================================================================================================================================================================================================================================================================================================================================================================================================================================================================================================================================================================================================================================================================================================================================================================================================================================================================================================================================================================================================================================================================================================================================================================================================================================================================================================================================================================================================================================================================================================================================================================================================================================================================================================================================================================================================================================================================================================================================================================================================================================================================================================================================================================================================================================================================================================================================================================================================================================================================================================================================================================================================================================================================================================================================================================================================================================================================================================================================================================================================================================================================================================================================================================================================================================================================================================================================================================================================================================================================================================================================================================================================================================================================================================================================================================================================================================================================================================================================================================================================================================================================================================================================================================================================================================================================================================================================================================================================================================================================================================================================================================================================================================================================================================================================================================================================================================================================================================================================================================================================================================================================================================================================================================================================================================================================================================================================================================================================================================================================================================================================================================================================================================================================================================================================================================================================================================================================================================================================================================================================================================================================================================================================================================================================================================================================================================================================================================================================================================================================================================================================================================================================================================================================================================================================================================================================================================================================================================================================================================================================================================================================================================================================================================================================================================================================================================================================================================================================================================================================================================================================================================================================================================================================================================================================================================================================================================================================================================================================================================================================================================================================================================================================================================================================================================================================================================================================================================================================================================================================================================================================================================================================================================================================================================================================================================================================================================================================================================================================================================================================================================================================================================================================================================================================================================================================================================================================================================================================================================================================================================================================================================================================================================================================================================================================================================================================================================================================================================================================================================================================================================================================================================================================================================================================================================================================================================================================================================================================================================================================================================================================================================================================================================================================================================================================================================================================================================================================================================================================================================================================================================================================================================================================================================================================================================================================================================================================================================================================================================================================================================================================================================================================================================================================================================================================================================================================================================================================================================================================================================================================================================================================================================================================================================================================================================================================================================================================================================================================================================================================================================================================================================================================================================================================================================================================================================================================================================================================================================================================================================================================================================================================================================================================================================================================================================================================================================================================================================================================================================================================================================================================================================================================================================================================================================================================================================================================================================================================================================================================================================================================================================================================================================================================================================================================================================================================================================================================================================================================================================================================================================================================================================================================================================================================================================================================================================================================================================================================================================================================================================================================================================================================================================================================================================================================================================================================================================================================================================================================================================================================================================================================================================================================================================================================================================================================================================================================================================================================================================================================================================================================================================================================================================================================================================================================================================================================================================================================================================================================================================================================================================================================================================================================================================================================================================================================================================================================================================================================================================================================================================================================================================================================================================================================================================================================================================================================================================================================================================================================================================================================================================================================================================================================================================================================================================================================================================================================================================================================================================================================================================================================================================================================================================================================================================================================================================================================================================================================================================================================================================================================================================================================================================================================================================================================================================================================================================================================================================================================================================================================================================================================================================================================================================================================================================================================================================================================================================================================================================================================================================================================================================================================================================================================================================================================================================================================================================================================================================================================================================================================================================================================================================================================================================================================================================================================================================================================================================================================================================================================================================================================================================================================================================================================================================================================================================================================================================================================================================================================================================================================================================================================================================================================================================================================================================================================================================================================================================================================================================================================================================================================================================================================================================================================================================================================================================================================================================================================================================================================================================================================================================================================================================================================================================================================================================================================================================================================================================================================================================================================================================================================================================================================================================================================================================================================================================================================================================================================================================================================================================================================================================================================================================================================================================================================================================================================================================================================================================================================================================================================================================================================================================================================================================================================================================================================================================================================================================================================================================================================================================================================================================================================================================================================================================================================================================================================================================================================================================================================================================================================================================================================================================================================================================================================================================================================================================================================================================================================================================================================================================================================================================================================================================================================================================================================================================================================================================================================================================================================================================================================================================================================================================================================================================================================================================================================================================================================================================================================================================================================================================================================================================================================================================================================================================================================================================================================================================================================================================================================================================================================================================================================================================================================================================================================================================================================================================================================================================================================================================================================================================================================================================================================================================================================================================================================================================================================================================================================================================================================================================================================================================================================================================================================================================================================================================================================================================================================================================================================================================================================================================================================================================================================================================================================================================================================================================================================================================================================================================================================================================================================================================================================================================================================================================================================================================================================================================================================================================================================================================================================================================================================================================================================================================================================================================================================================================================================================================================================================================================================================================================================================================================================================================================================================================================================================================================================================================================================================================================================================================================================================================================================================================================================================================================================================================================================================================================================================================================================================================================================================================================================================================================================================================================================================================================================================================================================================================================================================================================================================================================================================================================================================================================================================================================================================================================================================================================================================================================================================================================================================================================================================================================================================================================================================================================================================================================================================================================================================================================================================================================================================================================================================================================================================================================================================================================================================================================================================================================================================================================================================================================================================================================================================================================================================================================================================================================================================================================================================================================================================================================================================================================================================================================================================================================================================================================================================================================================================================================================================================================================================================================================================================================================================================================================================================================================================================================================================================================================================================================================================================================================================================================================================================================================================================================================================================================================================================================================================================================================================================================================================================================================================================================================================================================================================================================================================================================================================================================================================================================================================================================================================================================================================================================================================================================================================================================================================================================================================================================================================================================================================================================================================================================================================================================================================================================================================================================================================================================================================================================================================================================================================================================================================================================================================================================================================================================================================================================================================================================================================================================================================================================================================================================================================================================================================================================================================================================================================================================================================================================================================================================================================================================================================================================================================================================================================================================================================================================================================================================================================================================================================================================================================================================================================================================================================================================================================================================================================================================================================================================================================================================================================================================================================================================================================================================================================================================================================================================================================================================================================================================================================================================================================================================================================================================================================================================================================================================================================================================================================================================================================================================================================================================================================================================================================================================================================================================================================================================================================================================================================================================================================================================================================================================================================================================================================================================================================================================================================================================================================================================================================================================================================================================================================================================================================================================================================================================================================================================================================================================================================================================================================================================================================================================================================================================================================================================================================================================================================================================================================================================================================================================================================================================================================================================================================================================================================================================================================================================================================================================================================================================================================================================================================================================================================================================================================================================================================================================================================================================================================================================================================================================================================================================================================================================================================================================================================================================================================================================================================================================================================================================================================================================================================================================================================================================================================================================================================================================================================================================================================================================================================================================================================================================================================================================================================================================================================================================================================================================================================================================================================================================================================================================================================================================================================================================================================================================================================================================================================================================================================================================================================================================================================================================================================================================================================================================================================================================================================================================================================================================================================================================================================================================================================================================================================================================================================================================================================================================================================================================================================================================================================================================================================================================================================================================================================================================================================================================================================================================================================================================================================================================================================================================================================================================================================================================================================================================================================================================================================================================================================================================================================================================================================================================================================================================================================================================================================================================================================================================================================================================================================================================================================================================================================================================================================================================================================================================================================================================================================================================================================================================================================================================================================================================================================================================================================================================================================================================================================================================================================================================================================================================================================================================================================================================================================================================================================================================================================================================================================================================================================================================================================================================================================================================================================================================================================================================================================================================================================================================================================================================================================================================================================================================================================================================================================================================================================================================================================================================================================================================================================================================================================================================================================================================================================================================================================================================================================================================================================================================================================================================================================================================================================================================================================================================================================================================================================================================================================================================================================================================================================================================================================================================================================================================================================================================================================================================================================================================================================================================================================================================================================================================================================================================================================================================================================================================================================================================================================================================================================================================================================================================================================================================================================================================================================================================================================================================================================================================================================================================================================================================================================================================================================================================================================================================================================================================================================================================================================================================================================================================================================================================================================================================================================================================================================================================================================================================================================================================================================================================================================================================================================================================================================================================================================================================================================================================================================================================================================================================================================================================================================================================================================================================================================================================================================================================================================================================================================================================================================================================================================================================================================================================================================================================================================================================================================================================================================================================================================================================================================================================================================================================================================================================================================================================================================================================================================================================================================================================================================================================================================================================================================================================================================================================================================================================================================================================================================================================================================================================================================================================================================================================================================================================================================================================================================================================================================================================================================================================================================================================================================================================================================================================================================================================================================================================================================================================================================================================================================================================================================================================================================================================================================================================================================================================================================================================================================================================================================================================================================================================================================================================================================================================================================================================================================================================================================================================================================================================================================================================================================================================================================================================================================================================================================================================================================================================================================================================================================================================================================================================================================================================================================================================================================================================================================================================================================================================================================================================================================================================================================================================================================================================================================================================================================================================================================================================================================================================================================================================================================================================================================================================================================================================================================================================================================================================] - 11s 1ms/sample - loss: 0.0414 - accuracy: 0.9778\n"
     ]
    },
    {
     "data": {
      "text/plain": [
       "[0.06818457131746691, 0.9778]"
      ]
     },
     "execution_count": 67,
     "metadata": {},
     "output_type": "execute_result"
    }
   ],
   "source": [
    "# El modelo anterior tarda mucho en compilar. Vamos a crear un modelo más chico y además vamos a probar otro optimizador.\n",
    "\n",
    "redConv2 = Sequential()\n",
    "redConv2.add(Conv2D(28, kernel_size=(3,3), input_shape=image_size))\n",
    "redConv2.add(MaxPooling2D(pool_size=(2, 2)))\n",
    "redConv2.add(Flatten()) # Flattening the 2D arrays for fully connected layers\n",
    "redConv2.add(Dense(128, activation='relu'))\n",
    "redConv2.add(Dense(10,activation='softmax'))\n",
    "\n",
    "redConv2.compile(optimizer='adam', loss='categorical_crossentropy', metrics=['accuracy'])\n",
    "redConv2.fit(x=X_train,y=y_train, epochs=3)\n",
    "\n",
    "redConv2.evaluate(X_test, y_test)"
   ]
  },
  {
   "cell_type": "code",
   "execution_count": 68,
   "metadata": {},
   "outputs": [
    {
     "name": "stdout",
     "output_type": "stream",
     "text": [
      "El valor predicho es: 3 \n",
      "\n",
      "El valor real es:\n"
     ]
    },
    {
     "data": {
      "image/png": "[encoded data removed]",
      "text/plain": [
       "<Figure size 432x288 with 1 Axes>"
      ]
     },
     "metadata": {},
     "output_type": "display_data"
    }
   ],
   "source": [
    "index= np.random.choice(10000)\n",
    "x_index = X_test[index,:].reshape(1,28,28,1)\n",
    "prediccion = np.squeeze(redConv2.predict(x_index))\n",
    "\n",
    "# El vector de predicción contiene los valores de las probabilidades de que sea uno de los dígitos de (0,1,2,...,8,9) en ese\n",
    "# orden. Para encontrar el valor predicho hay que buscar la POSICIÓN con el valor más alto.\n",
    "max_index = np.squeeze(np.where(prediccion==prediccion.max()))\n",
    "\n",
    "# Mostrar el resultado\n",
    "print('El valor predicho es:', max_index, '\\n')\n",
    "print('El valor real es:')\n",
    "\n",
    "sns.set_style('whitegrid')\n",
    "plt.imshow(np.reshape(X_test[index,:],(28,28)), cmap='Greys')\n",
    "plt.show()"
   ]
  },
  {
   "cell_type": "markdown",
   "metadata": {},
   "source": [
    "# Referencias\n",
    "\n",
    "1. [©\tMIT 6.S191: Introduction to Deep Learning.](introtodeeplearning.com)\n",
    "2. [A Brief Introduction to Deep Learning](http://www.cs.tau.ac.il/~dcor/Graphics/pdf.slides/YY-Deep%20Learning.pdf)\n",
    "3. [The Intellectual Excitement of Computer Science](https://cs.stanford.edu/people/eroberts/courses/soco/projects/neural-networks/index.html)\n",
    "4. [Adventures in Machine Learning](https://adventuresinmachinelearning.com/wp-content/uploads/2017/07/An-introduction-to-neural-networks-for-beginners.pdf)\n",
    "5. [A gentle introduction to neural networks](https://www.pycon.it/media/conference/slides/a-gentle-introduction-to-neural-networks-with-python.pdf)\n",
    "6. [Machine Learning for Beginners: An Introduction to Neural Networks](https://victorzhou.com/blog/intro-to-neural-networks/)\n",
    "7. [Neural networks and deep learning](http://neuralnetworksanddeeplearning.com/about.html)\n",
    "8. [A Beginner's Guide to Neural Networks and Deep Learning](https://skymind.ai/wiki/neural-network)\n",
    "9. [The deep learning book](http://www.deeplearningbook.org/)\n",
    "10. [Deep Learning: Introducción práctica con Keras](https://torres.ai/deeplearning/)\n",
    "11. [Convolutional neural networks for beginners](https://towardsdatascience.com/convolutional-neural-networks-for-beginners-practical-guide-with-python-and-keras-dc688ea90dca)\n",
    "12. [Image Classification in 10 minutes](https://towardsdatascience.com/image-classification-in-10-minutes-with-mnist-dataset-54c35b77a38d)"
   ]
  }
 ],
 "metadata": {
  "kernelspec": {
   "display_name": "Python [conda env:tensorflow]",
   "language": "python",
   "name": "conda-env-tensorflow-py"
  },
  "language_info": {
   "codemirror_mode": {
    "name": "ipython",
    "version": 3
   },
   "file_extension": ".py",
   "mimetype": "text/x-python",
   "name": "python",
   "nbconvert_exporter": "python",
   "pygments_lexer": "ipython3",
   "version": "3.7.6"
  },
  "toc": {
   "base_numbering": 1,
   "nav_menu": {},
   "number_sections": true,
   "sideBar": true,
   "skip_h1_title": false,
   "title_cell": "Table of Contents",
   "title_sidebar": "Contents",
   "toc_cell": false,
   "toc_position": {},
   "toc_section_display": true,
   "toc_window_display": false
  },
  "varInspector": {
   "cols": {
    "lenName": 16,
    "lenType": 16,
    "lenVar": 40
   },
   "kernels_config": {
    "python": {
     "delete_cmd_postfix": "",
     "delete_cmd_prefix": "del ",
     "library": "var_list.py",
     "varRefreshCmd": "print(var_dic_list())"
    },
    "r": {
     "delete_cmd_postfix": ") ",
     "delete_cmd_prefix": "rm(",
     "library": "var_list.r",
     "varRefreshCmd": "cat(var_dic_list()) "
    }
   },
   "types_to_exclude": [
    "module",
    "function",
    "builtin_function_or_method",
    "instance",
    "_Feature"
   ],
   "window_display": false
  }
 },
 "nbformat": 4,
 "nbformat_minor": 2
}
