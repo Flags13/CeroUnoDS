{
 "cells": [
  {
   "cell_type": "markdown",
   "metadata": {},
   "source": [
    "# ¡Bienvenidos a la primera sesión del Mastery Data Science!\n",
    "\n",
    "## 1.- Documentación oficial\n",
    "\n",
    "Toda la documentación del curso, tanto ejercicios como material de consulta, estará disponible en la plataforma GitHub en el siguiente link:\n",
    "\n",
    "https://github.com/Flags13/CeroUnoDS\n",
    "\n",
    "Pueden descargar todo el repositorio mediante el botón verde disponible.\n",
    "\n",
    "Recomendación:\n",
    "\n",
    "-Crear cuenta de github para el manejo de versiones de código\n",
    "\n",
    "Donde aprender github?\n",
    "https://lab.github.com/\n",
    "\n",
    "Tips:\n",
    "https://www.toptal.com/git/tips-and-practices\n",
    "\n",
    "\n",
    "\n",
    "## 2.- ¿Por qué Python para la ciencia de datos?\n",
    "\n",
    "Python es un lenguaje que puede actuar como una solución completa, puede encargarse de los servicios web, bases de datos, manejo y procesamiento de datos. También se puede utilizar para escribir aplicaciones del lado del servidor, tales como sitios web dinámicos, aplicaciones para sistemas operativos con interfaces gráficas e incluso aplicaciones en IOS y Android.\n",
    "\n",
    "https://www.quora.com/Why-is-Python-a-language-of-choice-for-data-scientists\n",
    "\n",
    "> \"The Python community invested in the mid-1990s in Numeric, an \"extension to Python to support numeric analysis as naturally as [M]atlab does\". Numeric later evolved into NumPy. Several years later, the plotting functionality from Matlab was ported to Python with matplotlib. Libraries for scientific computing were built around NumPy and matplotlib and bundled into the SciPy package, which was commercially supported by Enthought. Python's support for Matlab-like array manipulation and plotting is a major reason to prefer it over Perl and Ruby.\n",
    "\n",
    "> Today, the most popular alternatives to Python for data scientists are R, Matlab/Octave, and Mathematica/Sage. In addition to the work mentioned above to port features from Matlab into Python, recent work has ported several popular features from R and Mathematica into Python.\n",
    "\n",
    "> From R, the data frame and associated manipulations (from the plyr and reshape packages) have been implemented by the pandas library. The scikit-learn project presents a common interface to many machine learning algorithms, similar to the caret package in R.\"\n",
    "\n",
    "<div align=\"right\"><b>-Jeff Hammerbacher, Professor at Hammer Lab, founder at Cloudera, investor at Techammer</b></div>\n",
    "\n",
    "### Filosofía de Python"
   ]
  },
  {
   "cell_type": "code",
   "execution_count": null,
   "metadata": {},
   "outputs": [],
   "source": [
    "import this "
   ]
  },
  {
   "cell_type": "markdown",
   "metadata": {},
   "source": [
    "### Abrir Conda\n",
    "\n",
    "- **Windows:** En el menú de inicio, buscar y abrir \"Anaconda Prompt\". Todos los comandos serán introducidos en esta ventana.\n",
    "\n",
    "- **MacOs/Linux:** Abrir una ventana de la terminal propia del sistema operativo. Todos los comandos serán introducidos en esta ventana.\n",
    "\n",
    "### Creación del entorno \n",
    "\n",
    "1.- Creemos nuestro entorno virtual de trabajo mediante: "
   ]
  },
  {
   "cell_type": "markdown",
   "metadata": {},
   "source": [
    "conda create -n ProgramaDS anaconda"
   ]
  },
  {
   "cell_type": "markdown",
   "metadata": {},
   "source": [
    "2.- Activamos nuestro nuevo entorno mediante: "
   ]
  },
  {
   "cell_type": "code",
   "execution_count": null,
   "metadata": {},
   "outputs": [],
   "source": [
    "conda activate -n ProgramaDS"
   ]
  },
  {
   "cell_type": "markdown",
   "metadata": {},
   "source": [
    "## 4.- Creación de libreta\n",
    "\n",
    "1.- En nuestra terminal o Anaconda prompt, inicializamos Jupyter Notebook"
   ]
  },
  {
   "cell_type": "markdown",
   "metadata": {},
   "source": [
    "jupyter notebook\n",
    "\n",
    "jupyter lab"
   ]
  },
  {
   "cell_type": "markdown",
   "metadata": {},
   "source": [
    "2.- En nuestro navegador se abrira un explorador de documentos. Creemos una carpeta para nuestros documentos del curso. En la parte derecha superior, damos click en el botón de nuevo documento. ¡Listo! \n",
    "\n",
    "\n",
    "## 5.- Comencemos con lo básico \n",
    "\n",
    "\n",
    " - Comentarios\n",
    " - Impresión de resultados \n",
    "    \n",
    " "
   ]
  },
  {
   "cell_type": "code",
   "execution_count": 1,
   "metadata": {
    "scrolled": true
   },
   "outputs": [
    {
     "name": "stdout",
     "output_type": "stream",
     "text": [
      "¡Hola Mundo!\n"
     ]
    }
   ],
   "source": [
    "# Soy un comentario\n",
    "print(\"¡Hola Mundo!\")"
   ]
  },
  {
   "cell_type": "code",
   "execution_count": 2,
   "metadata": {},
   "outputs": [
    {
     "data": {
      "text/plain": [
       "'¿Como están?'"
      ]
     },
     "execution_count": 2,
     "metadata": {},
     "output_type": "execute_result"
    }
   ],
   "source": [
    "'Hola'\n",
    "\n",
    "'¿Como están?'"
   ]
  },
  {
   "cell_type": "code",
   "execution_count": 3,
   "metadata": {},
   "outputs": [],
   "source": [
    "#estas lineas de codigo son muy útiles\n",
    "from IPython.core.interactiveshell import InteractiveShell\n",
    "InteractiveShell.ast_node_interactivity = \"all\""
   ]
  },
  {
   "cell_type": "code",
   "execution_count": 4,
   "metadata": {},
   "outputs": [
    {
     "data": {
      "text/plain": [
       "'Hola'"
      ]
     },
     "execution_count": 4,
     "metadata": {},
     "output_type": "execute_result"
    },
    {
     "data": {
      "text/plain": [
       "'¿Como están?'"
      ]
     },
     "execution_count": 4,
     "metadata": {},
     "output_type": "execute_result"
    }
   ],
   "source": [
    "'Hola'\n",
    "\n",
    "'¿Como están?'"
   ]
  },
  {
   "cell_type": "markdown",
   "metadata": {},
   "source": [
    "### 5.1 Manejo de  Variables\n",
    " - Python es orientado a objetos, y de tipado dinámico, es decir, no es necesario declarar las variables antes de usarlas, o declarar su tipo. \n",
    " - Cada variable en Python es un objeto.\n",
    "\n",
    "### 5.2 Tipos de datos y estructuras \n",
    "### 5.2.1 Numéricos\n",
    "Hay tres tipos de datos numéricos: \n",
    "- **enteros:** todos los números enteros, positivos o negativos \n",
    "- **números complejos:** en Python se utiliza *j* para indicar la unidad imaginaria.\n",
    "- **números de punto flotante:** todos aquellos datos en los que específica la existencia de decimales. "
   ]
  },
  {
   "cell_type": "code",
   "execution_count": 9,
   "metadata": {},
   "outputs": [
    {
     "name": "stdout",
     "output_type": "stream",
     "text": [
      "<class 'int'>\n",
      "<class 'int'>\n"
     ]
    }
   ],
   "source": [
    "#Asignación de un número entero\n",
    "mi_int = -9\n",
    "print(type(mi_int))\n",
    "\n",
    "#Asignación de un número entero\n",
    "mi_int = 1\n",
    "print(type(mi_int))\n"
   ]
  },
  {
   "cell_type": "code",
   "execution_count": 10,
   "metadata": {},
   "outputs": [
    {
     "name": "stdout",
     "output_type": "stream",
     "text": [
      "<class 'float'>\n"
     ]
    }
   ],
   "source": [
    "#Asignación de un número de punto flotante\n",
    "mi_float = 7.0\n",
    "print(type(mi_float))\n",
    " "
   ]
  },
  {
   "cell_type": "code",
   "execution_count": 11,
   "metadata": {},
   "outputs": [
    {
     "name": "stdout",
     "output_type": "stream",
     "text": [
      "<class 'complex'>\n"
     ]
    }
   ],
   "source": [
    "#Asignación de un número de complejo\n",
    "mi_complex = 3.14j\n",
    "print(type(mi_complex))"
   ]
  },
  {
   "cell_type": "markdown",
   "metadata": {},
   "source": [
    "Python te permite asignar valores a las variables\n",
    "\n",
    "Considera las siguientes lineas:\n",
    "\n",
    "x = 5\n",
    "\n",
    "y = 8\n",
    "\n",
    "x += y\n",
    "\n",
    "y = x - 3\n",
    "\n",
    "x -= y - 5\n",
    "\n",
    "\n",
    "Cuales son los valores de 'x' y 'y' despues de cada linea?\n"
   ]
  },
  {
   "cell_type": "markdown",
   "metadata": {},
   "source": [
    "### 5.2.2 Listas \n",
    "\n",
    "1. Son una secuencia ordenada de elementos, donde los elementos no tienen que pertenecer al mismo tipo de variable. \n",
    "\n",
    "2. Una lista es definida mediante el uso corchetes [ ] para conterner los elementos, los cuales son separados por una coma. \n",
    "\n",
    "3. Podemos seleccionar ciertos elementos de una lista colocando la posición de ellos en la lista entre corchetes. Los índices en Python corren desde 0. \n",
    "\n",
    "4. Son mutables, es decir, los elementos dentro de ella pueden ser modificados. "
   ]
  },
  {
   "cell_type": "code",
   "execution_count": 13,
   "metadata": {},
   "outputs": [
    {
     "data": {
      "text/plain": [
       "[]"
      ]
     },
     "execution_count": 13,
     "metadata": {},
     "output_type": "execute_result"
    },
    {
     "data": {
      "text/plain": [
       "[1]"
      ]
     },
     "execution_count": 13,
     "metadata": {},
     "output_type": "execute_result"
    },
    {
     "data": {
      "text/plain": [
       "[1, 'Monty']"
      ]
     },
     "execution_count": 13,
     "metadata": {},
     "output_type": "execute_result"
    },
    {
     "data": {
      "text/plain": [
       "[1, 'Monty', True]"
      ]
     },
     "execution_count": 13,
     "metadata": {},
     "output_type": "execute_result"
    },
    {
     "data": {
      "text/plain": [
       "'Monty'"
      ]
     },
     "execution_count": 13,
     "metadata": {},
     "output_type": "execute_result"
    },
    {
     "data": {
      "text/plain": [
       "['Monty', True]"
      ]
     },
     "execution_count": 13,
     "metadata": {},
     "output_type": "execute_result"
    },
    {
     "data": {
      "text/plain": [
       "[1, 'Monty', 'gato']"
      ]
     },
     "execution_count": 13,
     "metadata": {},
     "output_type": "execute_result"
    }
   ],
   "source": [
    "## DEFINICION\n",
    "\n",
    "#Definición de una lista vacia \n",
    "mi_lista = []\n",
    "mi_lista\n",
    "\n",
    "#Añadimos el elemento numérico uno al final de la lista\n",
    "mi_lista.append(1)\n",
    "mi_lista\n",
    "\n",
    "#Añadimos un string al final de la lista. \n",
    "mi_lista.append(\"Monty\")\n",
    "mi_lista\n",
    "\n",
    "#Añadimos una variable booleana al final de la lista. \n",
    "mi_lista.append(True)\n",
    "mi_lista\n",
    "\n",
    "\n",
    "## SELECCIÓN DE VARIABLES\n",
    "\n",
    "#Seleccionemos el segundo elemento\n",
    "mi_lista[1] \n",
    "\n",
    "#Seleccionemos de segundo elemento en adelante\n",
    "mi_lista[1:]\n",
    "\n",
    "## MODIFICACIÓN DE UNA LISTA\n",
    "\n",
    "#Cambiamos el tercer elemento \n",
    "mi_lista[2]='gato'\n",
    "mi_lista\n"
   ]
  },
  {
   "cell_type": "markdown",
   "metadata": {},
   "source": [
    "### 5.2.3  Tuplas\n",
    "\n",
    "1.- Son una secuencia ordenada de elementos, donde los elementos no tienen que pertenecer al mismo tipo de variable. \n",
    "\n",
    "2.- Las tuplas son inmutables: después de creadas no pueden ser modificadas. Se utilizan para la protección de sobreescritura en ciertas varibles. \n",
    "\n",
    "3.- Son definidas mediante parentesis ().  \n",
    "\n",
    "4.- Podemos extraer un cierto elemento de ellas mediante el uso de corchetes [], pero la sobreescritura esta prohibida. "
   ]
  },
  {
   "cell_type": "code",
   "execution_count": null,
   "metadata": {},
   "outputs": [],
   "source": [
    "# Definición de una tupla\n",
    "mi_tupla = (1, \"Monty\", True);\n",
    "print(mi_tupla)\n",
    "\n",
    "#Extracción de un elemento de la tupla \n",
    "print(mi_tupla[0])"
   ]
  },
  {
   "cell_type": "code",
   "execution_count": null,
   "metadata": {
    "scrolled": true
   },
   "outputs": [],
   "source": [
    "# Imposibilidad de redefinir un valor dentro de una tupla \n",
    "mi_tupla[0] = 2"
   ]
  },
  {
   "cell_type": "markdown",
   "metadata": {},
   "source": [
    "### 5.2.4 String\n",
    "\n",
    "1.- Son secuencia de caractéres Unicode. \n",
    "\n",
    "2.- Pueden ser específicados medinate el uso de comillas sencillas o dobles, mientras que para strings en multiples lineas se indican con triple comillas. \n",
    "\n",
    "3.- Podemos extraer un cierto elemento del string mediante el uso de corchetes, pero son inmutables como las tuplas. \n",
    "\n",
    "\n",
    "\n",
    "\n",
    "**¡Importante!:** En Python no existe el tipo \"char\", un sólo carácter es un string de tamaño 1"
   ]
  },
  {
   "cell_type": "code",
   "execution_count": null,
   "metadata": {},
   "outputs": [],
   "source": [
    "# Definición de un string \n",
    "mi_string='¡Hola mundo!' \n",
    "mi_string2=\"¡Hola mundo!\"\n",
    "\n",
    "print(mi_string)\n",
    "print(mi_string2)\n",
    "\n",
    "#Extracción de los caracteres de la posición 4 en adelante\n",
    "print(mi_string[3:])"
   ]
  },
  {
   "cell_type": "code",
   "execution_count": null,
   "metadata": {},
   "outputs": [],
   "source": [
    "# Imposibilidad de redefinir un valor dentro de un string\n",
    "mi_string[3] = 'k'"
   ]
  },
  {
   "cell_type": "markdown",
   "metadata": {},
   "source": [
    "Para poder introducir comillas simples en un string usamos comillas dobles y viceversa"
   ]
  },
  {
   "cell_type": "code",
   "execution_count": 30,
   "metadata": {},
   "outputs": [
    {
     "data": {
      "text/plain": [
       "'permite usar \"comillas\" dobles'"
      ]
     },
     "execution_count": 30,
     "metadata": {},
     "output_type": "execute_result"
    },
    {
     "data": {
      "text/plain": [
       "\"permite usar 'comillas' simples\""
      ]
     },
     "execution_count": 30,
     "metadata": {},
     "output_type": "execute_result"
    }
   ],
   "source": [
    "comillas_simples = 'permite usar \"comillas\" dobles'\n",
    "\n",
    "comillas_dobles = \"permite usar 'comillas' simples\"\n",
    "\n",
    "comillas_simples\n",
    "comillas_dobles"
   ]
  },
  {
   "cell_type": "code",
   "execution_count": 5,
   "metadata": {},
   "outputs": [
    {
     "name": "stdout",
     "output_type": "stream",
     "text": [
      "Hola. Mi número favorito es: \n"
     ]
    }
   ],
   "source": [
    "var_str = 'Hola. Mi número favorito es: '\n",
    "print(var_str)"
   ]
  },
  {
   "cell_type": "code",
   "execution_count": 6,
   "metadata": {},
   "outputs": [
    {
     "name": "stdout",
     "output_type": "stream",
     "text": [
      "3\n"
     ]
    }
   ],
   "source": [
    "fav_num = 3\n",
    "print(fav_num)"
   ]
  },
  {
   "cell_type": "code",
   "execution_count": 7,
   "metadata": {},
   "outputs": [
    {
     "ename": "TypeError",
     "evalue": "can only concatenate str (not \"int\") to str",
     "output_type": "error",
     "traceback": [
      "\u001b[1;31m---------------------------------------------------------------------------\u001b[0m",
      "\u001b[1;31mTypeError\u001b[0m                                 Traceback (most recent call last)",
      "\u001b[1;32m<ipython-input-7-4760cdda173a>\u001b[0m in \u001b[0;36m<module>\u001b[1;34m\u001b[0m\n\u001b[1;32m----> 1\u001b[1;33m \u001b[0mfull_str\u001b[0m \u001b[1;33m=\u001b[0m \u001b[0mvar_str\u001b[0m \u001b[1;33m+\u001b[0m \u001b[0mfav_num\u001b[0m\u001b[1;33m\u001b[0m\u001b[1;33m\u001b[0m\u001b[0m\n\u001b[0m\u001b[0;32m      2\u001b[0m \u001b[0mprint\u001b[0m\u001b[1;33m(\u001b[0m\u001b[0mfull_str\u001b[0m\u001b[1;33m)\u001b[0m\u001b[1;33m\u001b[0m\u001b[1;33m\u001b[0m\u001b[0m\n",
      "\u001b[1;31mTypeError\u001b[0m: can only concatenate str (not \"int\") to str"
     ]
    }
   ],
   "source": [
    "full_str = var_str + fav_num \n",
    "print(full_str)"
   ]
  },
  {
   "cell_type": "markdown",
   "metadata": {},
   "source": [
    "Por ahora, obtendrás el siguiente error:\n",
    "\n",
    "``\n",
    "TypeError: can only concatenate str (not \"int\") to str\n",
    "``\n",
    "\n",
    "Google será nuestro mejor amigo cuando obtengamos errores. Pongamos eso a prueba. Tome ese error (todo tal cual lo obtuvimos) y pegalo en Google. El primer enlace debe ser [this page] (http://stackoverflow.com/questions/11844072/python-typeerror-cannot-concatenate-str-and-int-objects), una publicación de stackoverflow que explica qué significa este error y cómo arreglalo. Al leer las primeras cinco publicaciones allí, vemos que podemos solucionarlo si simplemente lanzamos un `str` alrededor de la variable` my_fav_num` anterior. Esto significa la linea\n",
    "\n",
    "`full_str = var_str + fav_num `\n",
    "\n",
    "se convertirá:\n",
    "\n",
    "`full_str = var_str + str (fav_num)`.\n",
    "\n",
    "Realice este cambio arriba y luego vuelva a ejecutar todo su código."
   ]
  },
  {
   "cell_type": "markdown",
   "metadata": {},
   "source": [
    "### 5.2.5 Conjunto (Set)\n",
    "\n",
    "1.- Es una colección desordenada de elementos únicos: se eliminan los duplicados. \n",
    "\n",
    "2.- Los elementos se encuentran contenidos dentro de llaves {} y son separados por comas. \n",
    "\n",
    "3.- Al ser desordenados, no se pueden extraer elementos dentro de ellos\n"
   ]
  },
  {
   "cell_type": "code",
   "execution_count": null,
   "metadata": {},
   "outputs": [],
   "source": [
    "# Definición de un conjunto \n",
    "Set={1,2,3,4,'perro','perro',2, 'hola'}\n",
    "print(Set)\n"
   ]
  },
  {
   "cell_type": "code",
   "execution_count": null,
   "metadata": {},
   "outputs": [],
   "source": [
    "#No es posible recuperar un elemento del conjunto\n",
    "Set[3]"
   ]
  },
  {
   "cell_type": "markdown",
   "metadata": {},
   "source": [
    "### 5.2.6 Diccionario \n",
    "\n",
    "1.- Es una coleccion desordenada de elementos pareados: una llave e información asignada.\n",
    "\n",
    "2.- Estan optimizados para recuperar la información siempre y cuando se conozca la llave qu se desea. \n",
    "\n",
    "3.- Contenidos entre llaves {}, cada uno de los pares poseen la estructura llave:información y son separados con comas. "
   ]
  },
  {
   "cell_type": "code",
   "execution_count": null,
   "metadata": {},
   "outputs": [],
   "source": [
    "#Definicion de un diccionario simple \n",
    "ficha_bibliografica = {\"Nombre\" : \"Alejandro\", \"Edad\" : 26,\n",
    "                       \"Apellido\" : \"Pérez\",\"Sexo\": 'Feme nino'}\n",
    "\n",
    "# Recuperación del nombre dentro del diccionario \n",
    "print(ficha_bibliografica['Nombre'])\n",
    "print()\n",
    "print(ficha_bibliografica['Sexo'])"
   ]
  },
  {
   "cell_type": "code",
   "execution_count": null,
   "metadata": {},
   "outputs": [],
   "source": [
    "# Podemos definir un diccionario donde se utilicen diccionarios como \n",
    "#informacion contenida\n",
    "Alumnos={\n",
    "    1:{'Nombre':'Alejandro','Apellido':'López'},\n",
    "    2:{'Nombre':'Israel','Apellido':'Martínez'},\n",
    "    3:{'Nombre':'Luis','Apellido':'Garza'},\n",
    "    }\n",
    "\n",
    "#Recuperación de la información de un alumno específico  \n",
    "print(Alumnos[1])\n"
   ]
  },
  {
   "cell_type": "code",
   "execution_count": null,
   "metadata": {},
   "outputs": [],
   "source": [
    "#Recuperación del apellido de un alumno \n",
    "print(Alumnos[3]['Apellido'])"
   ]
  },
  {
   "cell_type": "markdown",
   "metadata": {},
   "source": [
    "## 5.3 Operaciones sobre variables\n",
    "\n",
    "### 5.3.1 Operaciones aritméticas \n",
    "\n",
    "Los datos del tipo numéricos poseen nativamente solo las operaciones básicas\n"
   ]
  },
  {
   "cell_type": "code",
   "execution_count": 29,
   "metadata": {},
   "outputs": [
    {
     "data": {
      "text/plain": [
       "5"
      ]
     },
     "execution_count": 29,
     "metadata": {},
     "output_type": "execute_result"
    },
    {
     "data": {
      "text/plain": [
       "-1"
      ]
     },
     "execution_count": 29,
     "metadata": {},
     "output_type": "execute_result"
    },
    {
     "data": {
      "text/plain": [
       "6"
      ]
     },
     "execution_count": 29,
     "metadata": {},
     "output_type": "execute_result"
    },
    {
     "data": {
      "text/plain": [
       "0.6666666666666666"
      ]
     },
     "execution_count": 29,
     "metadata": {},
     "output_type": "execute_result"
    },
    {
     "data": {
      "text/plain": [
       "8"
      ]
     },
     "execution_count": 29,
     "metadata": {},
     "output_type": "execute_result"
    }
   ],
   "source": [
    "# Suma (+)\n",
    "2+3\n",
    "\n",
    "# Resta (-)       \n",
    "2-3\n",
    "\n",
    "# Multiplicación (*) \n",
    "2*3\n",
    "\n",
    "# División (/)\n",
    "2/3\n",
    "\n",
    "# Exponente (**)     \n",
    "2**3 "
   ]
  },
  {
   "cell_type": "code",
   "execution_count": 14,
   "metadata": {},
   "outputs": [
    {
     "data": {
      "text/plain": [
       "0.875"
      ]
     },
     "execution_count": 14,
     "metadata": {},
     "output_type": "execute_result"
    }
   ],
   "source": [
    "7 / 8 # floating point division"
   ]
  },
  {
   "cell_type": "code",
   "execution_count": 15,
   "metadata": {},
   "outputs": [
    {
     "data": {
      "text/plain": [
       "0"
      ]
     },
     "execution_count": 15,
     "metadata": {},
     "output_type": "execute_result"
    }
   ],
   "source": [
    "7 // 8 # floor/integer division"
   ]
  },
  {
   "cell_type": "code",
   "execution_count": 16,
   "metadata": {},
   "outputs": [
    {
     "data": {
      "text/plain": [
       "0"
      ]
     },
     "execution_count": 16,
     "metadata": {},
     "output_type": "execute_result"
    }
   ],
   "source": [
    "7 // 8 # Int / Int"
   ]
  },
  {
   "cell_type": "code",
   "execution_count": 17,
   "metadata": {},
   "outputs": [
    {
     "data": {
      "text/plain": [
       "0.0"
      ]
     },
     "execution_count": 17,
     "metadata": {},
     "output_type": "execute_result"
    }
   ],
   "source": [
    "7.0 // 8.0 # Float / Float"
   ]
  },
  {
   "cell_type": "code",
   "execution_count": 18,
   "metadata": {},
   "outputs": [
    {
     "data": {
      "text/plain": [
       "0.875"
      ]
     },
     "execution_count": 18,
     "metadata": {},
     "output_type": "execute_result"
    }
   ],
   "source": [
    "7 / 8.0 # Int / Float"
   ]
  },
  {
   "cell_type": "code",
   "execution_count": 19,
   "metadata": {},
   "outputs": [
    {
     "data": {
      "text/plain": [
       "0.875"
      ]
     },
     "execution_count": 19,
     "metadata": {},
     "output_type": "execute_result"
    }
   ],
   "source": [
    "7 / 8. # Int / Float"
   ]
  },
  {
   "cell_type": "code",
   "execution_count": 20,
   "metadata": {},
   "outputs": [
    {
     "data": {
      "text/plain": [
       "0"
      ]
     },
     "execution_count": 20,
     "metadata": {},
     "output_type": "execute_result"
    }
   ],
   "source": [
    "int(7 / 8.) # Int(Int / Float)"
   ]
  },
  {
   "cell_type": "code",
   "execution_count": 21,
   "metadata": {},
   "outputs": [
    {
     "data": {
      "text/plain": [
       "10"
      ]
     },
     "execution_count": 21,
     "metadata": {},
     "output_type": "execute_result"
    }
   ],
   "source": [
    "71 // 7"
   ]
  },
  {
   "cell_type": "code",
   "execution_count": 22,
   "metadata": {},
   "outputs": [
    {
     "data": {
      "text/plain": [
       "1"
      ]
     },
     "execution_count": 22,
     "metadata": {},
     "output_type": "execute_result"
    }
   ],
   "source": [
    "71 % 7"
   ]
  },
  {
   "cell_type": "markdown",
   "metadata": {},
   "source": [
    "Preguntas de operadores\n",
    "\n",
    "¿Cuáles cree que serán los resultados de los siguientes cálculos? int o float?\n",
    "\n",
    "8.0 - 7 \n",
    "\n",
    "8 * 0.25\n",
    "\n",
    "5 ** 2\n",
    "\n",
    "(4 + 3) / 6 \n",
    "\n",
    "(20/3)% 2"
   ]
  },
  {
   "cell_type": "markdown",
   "metadata": {},
   "source": [
    "### 5.3.2 Operaciones con strings"
   ]
  },
  {
   "cell_type": "markdown",
   "metadata": {},
   "source": [
    "Entre las operaciones más comunes estan la concatenación, repetición y la conversión de los elementos en mínusculas o mayúsculas. Para ver todas las posibles operaciones: https://www.tutorialspoint.com/python/python_strings.htm"
   ]
  },
  {
   "cell_type": "code",
   "execution_count": null,
   "metadata": {},
   "outputs": [],
   "source": [
    "a='Hola'\n",
    "b='mundo'\n",
    "\n",
    "texto = a +' '+b\n",
    "print(texto)\n",
    "\n",
    "texto2 = a*2+b\n",
    "print(texto2)\n",
    "\n",
    "texto3=texto.upper()\n",
    "print(texto3)\n",
    "texto4=texto3.lower()\n",
    "print(texto4)"
   ]
  },
  {
   "cell_type": "markdown",
   "metadata": {},
   "source": [
    "### 5.3.3 Operaciones con listas\n",
    "\n",
    "Las operaciones básicas sobre las listas son las mismas que para los strings\n"
   ]
  },
  {
   "cell_type": "code",
   "execution_count": null,
   "metadata": {},
   "outputs": [],
   "source": [
    "bajos = [1, 2, 3, 4, 5]\n",
    "altos = [6, 7, 8, 9, 10]\n",
    "numeros = bajos + altos\n",
    "print(numeros)\n",
    "numeros = 2*bajos + altos\n",
    "print(numeros)"
   ]
  },
  {
   "cell_type": "markdown",
   "metadata": {},
   "source": [
    "### 5.3.4 Comparadores\n",
    "\n",
    "Devuelven valores de cierto o falso en caso de que se cumplan o no la condicion que imponen. Pueden ser aplicados cualquier elemento "
   ]
  },
  {
   "cell_type": "code",
   "execution_count": null,
   "metadata": {},
   "outputs": [],
   "source": [
    "5 < 6 # Menor que"
   ]
  },
  {
   "cell_type": "code",
   "execution_count": null,
   "metadata": {},
   "outputs": [],
   "source": [
    "5 <= 6 # Menor o igual a"
   ]
  },
  {
   "cell_type": "code",
   "execution_count": null,
   "metadata": {},
   "outputs": [],
   "source": [
    "6 > 5 # Mayor que"
   ]
  },
  {
   "cell_type": "code",
   "execution_count": null,
   "metadata": {},
   "outputs": [],
   "source": [
    "6 >= 5 # Mayor o igual a"
   ]
  },
  {
   "cell_type": "code",
   "execution_count": null,
   "metadata": {},
   "outputs": [],
   "source": [
    "6 == 6 # Igual a"
   ]
  },
  {
   "cell_type": "code",
   "execution_count": null,
   "metadata": {},
   "outputs": [],
   "source": [
    "6 != 5 # Diferente a (No igual a)"
   ]
  },
  {
   "cell_type": "code",
   "execution_count": null,
   "metadata": {},
   "outputs": [],
   "source": [
    "x = [1, 2, 3]\n",
    "y = [1, 2, 3]\n",
    "yy=x\n",
    "print(x == y)\n",
    "print(x is yy)"
   ]
  },
  {
   "cell_type": "code",
   "execution_count": null,
   "metadata": {},
   "outputs": [],
   "source": [
    "type(x) is list"
   ]
  },
  {
   "cell_type": "markdown",
   "metadata": {},
   "source": [
    "### 5.3.5 Operadores lógicos\n"
   ]
  },
  {
   "cell_type": "code",
   "execution_count": null,
   "metadata": {},
   "outputs": [],
   "source": [
    "variable_or = True or False\n",
    "variable_and = True and False\n",
    "variable_not = not False"
   ]
  },
  {
   "cell_type": "markdown",
   "metadata": {},
   "source": [
    "### 5.3.6 El operador \"in\""
   ]
  },
  {
   "cell_type": "markdown",
   "metadata": {},
   "source": [
    "El operador \"in\" se utiliza para comprobar si existe un objeto especificado dentro de un objeto iterable, tal como una lista:"
   ]
  },
  {
   "cell_type": "code",
   "execution_count": null,
   "metadata": {},
   "outputs": [],
   "source": [
    "\"Carl\" in [\"Carl\", \"Edo\", \"Rick\"]"
   ]
  },
  {
   "cell_type": "markdown",
   "metadata": {},
   "source": [
    "## 6 Control de flujo\n",
    "\n",
    "Para indicar la anidación de las funciones, Python usa la sangría de 4 espacios. "
   ]
  },
  {
   "cell_type": "markdown",
   "metadata": {},
   "source": [
    "### 6.1 Condicional  - If\n",
    "\"If\" se utiliza para la ejecución condicional, es decir, \"If\" ejecuta algún código específico después de comprobar si su expresión es verdadera."
   ]
  },
  {
   "cell_type": "code",
   "execution_count": null,
   "metadata": {},
   "outputs": [],
   "source": [
    "# Otorgamos un valor a una variable \n",
    "x = 5\n",
    "\n",
    "# Establecemos la condición inicial: Si la variable es menor a cero\n",
    "if x < 0:\n",
    "    # Cambiamos el numero negativo a cero\n",
    "    x = 0\n",
    "    print('Cambiamos el negativo a cero')\n",
    "    # Si la variable es cero, imprimimos la palabra cero \n",
    "elif x == 0:\n",
    "    print('Cero')\n",
    "    #Si la variable es uno, imprimimos único \n",
    "elif x == 1:\n",
    "    print('Unico')\n",
    "    #Si no se cumple ninguna de las condiciones, imprime \"mayor\"\n",
    "else:\n",
    "    print('More')"
   ]
  },
  {
   "cell_type": "code",
   "execution_count": null,
   "metadata": {},
   "outputs": [],
   "source": [
    "# Dependiendo una variable imprime un mensaje: \n",
    "#      Si es menor a cero, imprime 'Hola'\n",
    "#      Si es mayor o igual a cero, imprime 'Adios'\n",
    "\n",
    "#Creamos la variable \n",
    "x=4\n",
    "\n",
    "if x<0: \n",
    "    print('Hola')\n",
    "else:\n",
    "    print('Adios')"
   ]
  },
  {
   "cell_type": "markdown",
   "metadata": {},
   "source": [
    "### 6.2  Continuar hasta - for\n",
    "\n",
    "Indica la iteración de un proceso un número finito de veces, cuyos indices de inicio y paro estan definidos por una tupla o una lista. "
   ]
  },
  {
   "cell_type": "code",
   "execution_count": null,
   "metadata": {},
   "outputs": [],
   "source": [
    "# Para cada elemento i contenido en el rango, imprime su valor \n",
    "for i in range(4): \n",
    "    print(i)\n"
   ]
  },
  {
   "cell_type": "code",
   "execution_count": null,
   "metadata": {},
   "outputs": [],
   "source": [
    "# Nota: funcion rango: es un elemento propio de Python que se parece a una lista, !no es una lista!\n",
    "\n",
    "#Definan un rango  \n",
    "ran=range(4)\n",
    "\n",
    "#Imprimamos el valor\n",
    "print(ran)\n"
   ]
  },
  {
   "cell_type": "code",
   "execution_count": null,
   "metadata": {},
   "outputs": [],
   "source": [
    "# Para ver la lista contenida en el rango, usamos list()\n",
    "print(list(ran))"
   ]
  },
  {
   "cell_type": "code",
   "execution_count": null,
   "metadata": {},
   "outputs": [],
   "source": [
    "# Para cada elemento 'palaba' en la tupla, \n",
    "for palabra in ('cool', 'poderoso', 'fácil'):\n",
    "    # Completa la frase \n",
    "    print('Python es %s' % palabra)"
   ]
  },
  {
   "cell_type": "markdown",
   "metadata": {},
   "source": [
    "### 6.3 Mientras que-  While\n",
    "\n",
    "\n",
    "Indica la iteración de un proceso de \n",
    "While se utiliza para la ejecución repetida, siempre y cuando se cumpla alguna condición"
   ]
  },
  {
   "cell_type": "code",
   "execution_count": null,
   "metadata": {},
   "outputs": [],
   "source": [
    "contador = 0\n",
    "while contador < 3:\n",
    "    print(contador)\n",
    "    contador += 1  #contador = contador + 1"
   ]
  }
 ],
 "metadata": {
  "kernelspec": {
   "display_name": "Python 3",
   "language": "python",
   "name": "python3"
  },
  "language_info": {
   "codemirror_mode": {
    "name": "ipython",
    "version": 3
   },
   "file_extension": ".py",
   "mimetype": "text/x-python",
   "name": "python",
   "nbconvert_exporter": "python",
   "pygments_lexer": "ipython3",
   "version": "3.7.3"
  }
 },
 "nbformat": 4,
 "nbformat_minor": 2
}
